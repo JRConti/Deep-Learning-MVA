{
  "nbformat": 4,
  "nbformat_minor": 0,
  "metadata": {
    "kernelspec": {
      "name": "python3",
      "display_name": "Python 3"
    },
    "language_info": {
      "codemirror_mode": {
        "name": "ipython",
        "version": 3
      },
      "file_extension": ".py",
      "mimetype": "text/x-python",
      "name": "python",
      "nbconvert_exporter": "python",
      "pygments_lexer": "ipython3",
      "version": "3.5.7"
    },
    "colab": {
      "name": "DQN_project_MVA.ipynb",
      "provenance": [],
      "collapsed_sections": [],
      "toc_visible": true
    },
    "accelerator": "GPU"
  },
  "cells": [
    {
      "cell_type": "markdown",
      "metadata": {
        "id": "G1zeCwqBIMwX",
        "colab_type": "text"
      },
      "source": [
        "**You may need to install [OpenCV](https://pypi.python.org/pypi/opencv-python) and [scikit-video](http://www.scikit-video.org/stable/).**"
      ]
    },
    {
      "cell_type": "code",
      "metadata": {
        "id": "LQsEMIiTIMwd",
        "colab_type": "code",
        "outputId": "82dc2246-a62e-40fe-ddcd-d9a9583a0bb9",
        "colab": {
          "base_uri": "https://localhost:8080/",
          "height": 148
        }
      },
      "source": [
        "!pip install scikit-video\n",
        "import keras\n",
        "import numpy as np\n",
        "import io\n",
        "import base64\n",
        "from IPython.display import HTML\n",
        "import skvideo.io\n",
        "import cv2\n",
        "import json\n",
        "\n",
        "from keras.models import Sequential,model_from_json\n",
        "from keras.layers.core import Dense\n",
        "from keras.optimizers import sgd\n",
        "from keras.layers import Conv2D, MaxPooling2D, Activation, AveragePooling2D,Reshape,BatchNormalization, Flatten"
      ],
      "execution_count": 1,
      "outputs": [
        {
          "output_type": "stream",
          "text": [
            "Requirement already satisfied: scikit-video in /usr/local/lib/python3.6/dist-packages (1.1.11)\n",
            "Requirement already satisfied: scipy in /usr/local/lib/python3.6/dist-packages (from scikit-video) (1.4.1)\n",
            "Requirement already satisfied: numpy in /usr/local/lib/python3.6/dist-packages (from scikit-video) (1.17.5)\n",
            "Requirement already satisfied: pillow in /usr/local/lib/python3.6/dist-packages (from scikit-video) (6.2.2)\n"
          ],
          "name": "stdout"
        },
        {
          "output_type": "stream",
          "text": [
            "Using TensorFlow backend.\n"
          ],
          "name": "stderr"
        },
        {
          "output_type": "display_data",
          "data": {
            "text/html": [
              "<p style=\"color: red;\">\n",
              "The default version of TensorFlow in Colab will soon switch to TensorFlow 2.x.<br>\n",
              "We recommend you <a href=\"https://www.tensorflow.org/guide/migrate\" target=\"_blank\">upgrade</a> now \n",
              "or ensure your notebook will continue to use TensorFlow 1.x via the <code>%tensorflow_version 1.x</code> magic:\n",
              "<a href=\"https://colab.research.google.com/notebooks/tensorflow_version.ipynb\" target=\"_blank\">more info</a>.</p>\n"
            ],
            "text/plain": [
              "<IPython.core.display.HTML object>"
            ]
          },
          "metadata": {
            "tags": []
          }
        }
      ]
    },
    {
      "cell_type": "code",
      "metadata": {
        "id": "GEJVYA6sQ0Rh",
        "colab_type": "code",
        "outputId": "7506a55b-4dcd-43e3-bf79-141dd10a8e96",
        "colab": {
          "base_uri": "https://localhost:8080/",
          "height": 51
        }
      },
      "source": [
        "from google.colab import drive\n",
        "drive.mount('/gdrive')\n",
        "%cd /gdrive/My\\ Drive/DQN"
      ],
      "execution_count": 2,
      "outputs": [
        {
          "output_type": "stream",
          "text": [
            "Drive already mounted at /gdrive; to attempt to forcibly remount, call drive.mount(\"/gdrive\", force_remount=True).\n",
            "/gdrive/My Drive/DQN\n"
          ],
          "name": "stdout"
        }
      ]
    },
    {
      "cell_type": "markdown",
      "metadata": {
        "id": "ta5xyk4cIMwm",
        "colab_type": "text"
      },
      "source": [
        "# MiniProject on Deep Reinforcement Learning"
      ]
    },
    {
      "cell_type": "markdown",
      "metadata": {
        "id": "RdY1eeQ8IMwo",
        "colab_type": "text"
      },
      "source": [
        "__Notations__: $E_p$ is the expectation under probability $p$. Please justify each of your answer and widely comment your code."
      ]
    },
    {
      "cell_type": "markdown",
      "metadata": {
        "id": "d5lgU0nKIMwr",
        "colab_type": "text"
      },
      "source": [
        "# Context"
      ]
    },
    {
      "cell_type": "markdown",
      "metadata": {
        "id": "BrtVz2p3IMwt",
        "colab_type": "text"
      },
      "source": [
        "In a reinforcement learning algorithm, we modelize each step $t$ as an action $a_t$ obtained from a state $s_t$, i.e. $\\{(a_{t},s_{t})_{t\\leq T}\\}$ having the Markov property. We consider a discount factor $\\gamma \\in [0,1]$ that ensures convergence. The goal is to find among all the policies $\\pi$, one that maximizes the expected reward:\n",
        "\n",
        "\\begin{equation*}\n",
        "R(\\pi)=\\sum_{t\\leq T}E_{p^{\\pi}}[\\gamma^t r(s_{t},a_{t})] \\> ,\n",
        "\\end{equation*}\n",
        "\n",
        "where: \n",
        "\\begin{equation*}p^{\\pi}(a_{0},a_{1},s_{1},...,a_{T},s_{T})=p(a_{0})\\prod_{t=1}^{T}\\pi(a_{t}|s_{t})p(s_{t+1}|s_{t},a_{t}) \\> .\n",
        "\\end{equation*}\n",
        "\n",
        "We note the $Q$-function:\n",
        "\n",
        "\\begin{equation*}Q^\\pi(s,a)=E_{p^{\\pi}}[\\sum_{t\\leq T}\\gamma^{t}r(s_{t},a_{t})|s_{0}=s,a_{0}=a] \\> .\n",
        "\\end{equation*}\n",
        "\n",
        "Thus, the optimal Q function is:\n",
        "\\begin{equation*}\n",
        "Q^*(s,a)=\\max_{\\pi}Q^\\pi(s,a) \\> .\n",
        "\\end{equation*}\n",
        "\n",
        "In this project, we will apply the deep reinforcement learning techniques to a simple game: an agent will have to learn from scratch a policy that will permit it maximizing a reward."
      ]
    },
    {
      "cell_type": "markdown",
      "metadata": {
        "id": "MYj2M0mXIMwv",
        "colab_type": "text"
      },
      "source": [
        "## The environment, the agent and the game"
      ]
    },
    {
      "cell_type": "markdown",
      "metadata": {
        "id": "w-5nveMSIMwy",
        "colab_type": "text"
      },
      "source": [
        "### The environment"
      ]
    },
    {
      "cell_type": "markdown",
      "metadata": {
        "id": "Md7bBUa-IMwz",
        "colab_type": "text"
      },
      "source": [
        "```Environment``` is an abstract class that represents the states, rewards, and actions to obtain the new state."
      ]
    },
    {
      "cell_type": "code",
      "metadata": {
        "id": "_LALHxd2IMw1",
        "colab_type": "code",
        "colab": {}
      },
      "source": [
        "class Environment(object):\n",
        "    def __init__(self):\n",
        "        pass\n",
        "\n",
        "    def act(self, act):\n",
        "        \"\"\"\n",
        "        One can act on the environment and obtain its reaction:\n",
        "        - the new state\n",
        "        - the reward of the new state\n",
        "        - should we continue the game?\n",
        "\n",
        "        :return: state, reward, game_over\n",
        "        \"\"\"\n",
        "        pass\n",
        "\n",
        "\n",
        "    def reset(self):\n",
        "        \"\"\"\n",
        "        Reinitialize the environment to a random state and returns\n",
        "        the original state\n",
        "\n",
        "        :return: state\n",
        "        \"\"\"\n",
        "        pass\n",
        "    \n",
        "    def draw(self):\n",
        "        \"\"\"\n",
        "        Visualize in the console or graphically the current state\n",
        "        \"\"\"\n",
        "        pass"
      ],
      "execution_count": 0,
      "outputs": []
    },
    {
      "cell_type": "markdown",
      "metadata": {
        "id": "9IZ2OyAhIMw6",
        "colab_type": "text"
      },
      "source": [
        "The method ```act``` allows to act on the environment at a given state $s_t$ (stored internally), via action $a_t$. The method will return the new state $s_{t+1}$, the reward $r(s_{t},a_{t})$ and determines if $t\\leq T$ (*game_over*).\n",
        "\n",
        "The method ```reset``` simply reinitializes the environment to a random state $s_0$.\n",
        "\n",
        "The method ```draw``` displays the current state $s_t$ (this is useful to check the behavior of the Agent).\n",
        "\n",
        "We modelize $s_t$ as a tensor, while $a_t$ is an integer."
      ]
    },
    {
      "cell_type": "markdown",
      "metadata": {
        "id": "fXx9YLY1IMw7",
        "colab_type": "text"
      },
      "source": [
        "### The Agent"
      ]
    },
    {
      "cell_type": "markdown",
      "metadata": {
        "id": "gChhNuMaIMw9",
        "colab_type": "text"
      },
      "source": [
        "The goal of the ```Agent``` is to interact with the ```Environment``` by proposing actions $a_t$ obtained from a given state $s_t$ to attempt to maximize its __reward__ $r(s_t,a_t)$. We propose the following abstract class:"
      ]
    },
    {
      "cell_type": "code",
      "metadata": {
        "id": "LMd27mvWIMw-",
        "colab_type": "code",
        "colab": {}
      },
      "source": [
        "class Agent(object):\n",
        "    def __init__(self, epsilon=0.1, n_action=4):\n",
        "        self.epsilon = epsilon\n",
        "        self.n_action = n_action\n",
        "    \n",
        "    def set_epsilon(self,e):\n",
        "        self.epsilon = e\n",
        "\n",
        "    def act(self,s,train=True):\n",
        "        \"\"\" This function should return the next action to do:\n",
        "        an integer between 0 and 4 (not included) with a random exploration of epsilon\"\"\"\n",
        "        if train:\n",
        "            if np.random.rand() <= self.epsilon:\n",
        "                a = np.random.randint(0, self.n_action, size=1)[0]\n",
        "            else:\n",
        "                a = self.learned_act(s)\n",
        "        else: # in some cases, this can improve the performance.. remove it if poor performances\n",
        "            a = self.learned_act(s)\n",
        "\n",
        "        return a\n",
        "\n",
        "    def learned_act(self,s):\n",
        "        \"\"\" Act via the policy of the agent, from a given state s\n",
        "        it proposes an action a\"\"\"\n",
        "        pass\n",
        "\n",
        "    def reinforce(self, s, n_s, a, r, game_over_):\n",
        "        \"\"\" This function is the core of the learning algorithm. \n",
        "        It takes as an input the current state s_, the next state n_s_\n",
        "        the action a_ used to move from s_ to n_s_ and the reward r_.\n",
        "        \n",
        "        Its goal is to learn a policy.\n",
        "        \"\"\"\n",
        "        pass\n",
        "\n",
        "    def save(self):\n",
        "        \"\"\" This function returns basic stats if applicable: the\n",
        "        loss and/or the model\"\"\"\n",
        "        pass\n",
        "\n",
        "    def load(self):\n",
        "        \"\"\" This function allows to restore a model\"\"\"\n",
        "        pass"
      ],
      "execution_count": 0,
      "outputs": []
    },
    {
      "cell_type": "markdown",
      "metadata": {
        "id": "-j6UhelGIMxI",
        "colab_type": "text"
      },
      "source": [
        "***\n",
        "__Question 1__:\n",
        "Explain the function act. Why is ```epsilon``` essential?"
      ]
    },
    {
      "cell_type": "markdown",
      "metadata": {
        "id": "P6QVTz4gIMxK",
        "colab_type": "text"
      },
      "source": [
        "The function act returns the agent's next action. The parameter epsilon controls the trade-off between exploration and exploitation. If epsilon = 1, the agent will choose all its actions randomly (high exploration but very poor exploitation since the chosen actions might lead to very small rewards). On the contrary, if epsilon = 0, the agent keeps focusing on the actions that gave high rewards in the past (pure exploitation but null exploration since the agent might not have discovered all the actions that perform well in different contexts). The function allows to choose whether to use the epsilon-greedy strategy (previously described) or to follow a pure exploitation strategy (when boolean train = False).\n"
      ]
    },
    {
      "cell_type": "markdown",
      "metadata": {
        "id": "dXD1fnX4IMxM",
        "colab_type": "text"
      },
      "source": [
        "***\n",
        "### The Game"
      ]
    },
    {
      "cell_type": "markdown",
      "metadata": {
        "id": "G9oTkOc_IMxN",
        "colab_type": "text"
      },
      "source": [
        "The ```Agent``` and the ```Environment``` work in an interlaced way as in the following (take some time to understand this code as it is the core of the project)\n",
        "\n",
        "```python\n",
        "\n",
        "epoch = 300\n",
        "env = Environment()\n",
        "agent = Agent()\n",
        "\n",
        "\n",
        "# Number of won games\n",
        "score = 0\n",
        "loss = 0\n",
        "\n",
        "\n",
        "for e in range(epoch):\n",
        "    # At each epoch, we restart to a fresh game and get the initial state\n",
        "    state = env.reset()\n",
        "    # This assumes that the games will end\n",
        "    game_over = False\n",
        "\n",
        "    win = 0\n",
        "    lose = 0\n",
        "    \n",
        "    while not game_over:\n",
        "        # The agent performs an action\n",
        "        action = agent.act(state)\n",
        "\n",
        "        # Apply an action to the environment, get the next state, the reward\n",
        "        # and if the games end\n",
        "        prev_state = state\n",
        "        state, reward, game_over = env.act(action)\n",
        "\n",
        "        # Update the counters\n",
        "        if reward > 0:\n",
        "            win = win + reward\n",
        "        if reward < 0:\n",
        "            lose = lose -reward\n",
        "\n",
        "        # Apply the reinforcement strategy\n",
        "        loss = agent.reinforce(prev_state, state,  action, reward, game_over)\n",
        "\n",
        "    # Save as a mp4\n",
        "    if e % 10 == 0:\n",
        "        env.draw(e)\n",
        "\n",
        "    # Update stats\n",
        "    score += win-lose\n",
        "\n",
        "    print(\"Epoch {:03d}/{:03d} | Loss {:.4f} | Win/lose count {}/{} ({})\"\n",
        "          .format(e, epoch, loss, win, lose, win-lose))\n",
        "    agent.save()\n",
        "```"
      ]
    },
    {
      "cell_type": "markdown",
      "metadata": {
        "id": "qJ2ju_v5IMxO",
        "colab_type": "text"
      },
      "source": [
        "# The game, *eat cheese*"
      ]
    },
    {
      "cell_type": "markdown",
      "metadata": {
        "id": "dJ0VF6uXIMxP",
        "colab_type": "text"
      },
      "source": [
        "A rat runs on an island and tries to eat as much as possible. The island is subdivided into $N\\times N$ cells, in which there are cheese (+0.5) and poisonous cells (-1). The rat has a visibility of 2 cells (thus it can see $5^2$ cells). The rat is given a time $T$ to accumulate as much food as possible. It can perform 4 actions: going up, down, left, right. \n",
        "\n",
        "The goal is to code an agent to solve this task that will learn by trial and error. We propose the following environment:"
      ]
    },
    {
      "cell_type": "code",
      "metadata": {
        "id": "pY9CTuq3IMxQ",
        "colab_type": "code",
        "colab": {}
      },
      "source": [
        "class Environment(object):\n",
        "    def __init__(self, grid_size=10, max_time=500, temperature=0.1):\n",
        "        grid_size = grid_size+4\n",
        "        self.grid_size = grid_size\n",
        "        self.max_time = max_time\n",
        "        self.temperature = temperature\n",
        "\n",
        "        #board on which one plays\n",
        "        self.board = np.zeros((grid_size,grid_size))\n",
        "        self.position = np.zeros((grid_size,grid_size))\n",
        "\n",
        "        # coordinate of the cat\n",
        "        self.x = 0\n",
        "        self.y = 1\n",
        "\n",
        "        # self time\n",
        "        self.t = 0\n",
        "\n",
        "        self.scale=16\n",
        "\n",
        "        self.to_draw = np.zeros((max_time+2, grid_size*self.scale, grid_size*self.scale, 3))\n",
        "\n",
        "\n",
        "    def draw(self,e):\n",
        "        skvideo.io.vwrite(str(e) + '.mp4', self.to_draw, outputdict={\"-pix_fmt\":\"yuv420p\"})\n",
        "\n",
        "    def get_frame(self,t):\n",
        "        b = np.zeros((self.grid_size,self.grid_size,3))+128\n",
        "        b[self.board>0,0] = 256\n",
        "        b[self.board < 0, 2] = 256\n",
        "        b[self.x,self.y,:]=256\n",
        "        b[-2:,:,:]=0\n",
        "        b[:,-2:,:]=0\n",
        "        b[:2,:,:]=0\n",
        "        b[:,:2,:]=0\n",
        "        \n",
        "        b =  cv2.resize(b, None, fx=self.scale, fy=self.scale, interpolation=cv2.INTER_NEAREST)\n",
        "\n",
        "        self.to_draw[t,:,:,:]=b\n",
        "\n",
        "\n",
        "    def act(self, action):\n",
        "        \"\"\"This function returns the new state, reward and decides if the\n",
        "        game ends.\"\"\"\n",
        "\n",
        "        self.get_frame(int(self.t))\n",
        "\n",
        "        self.position = np.zeros((self.grid_size, self.grid_size))\n",
        "\n",
        "        self.position[0:2,:]= -1\n",
        "        self.position[:,0:2] = -1\n",
        "        self.position[-2:, :] = -1\n",
        "        self.position[:, -2:] = -1\n",
        "\n",
        "        self.position[self.x, self.y] = 1\n",
        "        if action == 0:\n",
        "            if self.x == self.grid_size-3:\n",
        "                self.x = self.x-1\n",
        "            else:\n",
        "                self.x = self.x + 1\n",
        "        elif action == 1:\n",
        "            if self.x == 2:\n",
        "                self.x = self.x+1\n",
        "            else:\n",
        "                self.x = self.x-1\n",
        "        elif action == 2:\n",
        "            if self.y == self.grid_size - 3:\n",
        "                self.y = self.y - 1\n",
        "            else:\n",
        "                self.y = self.y + 1\n",
        "        elif action == 3:\n",
        "            if self.y == 2:\n",
        "                self.y = self.y + 1\n",
        "            else:\n",
        "                self.y = self.y - 1\n",
        "        else:\n",
        "            RuntimeError('Error: action not recognized')\n",
        "\n",
        "        self.t = self.t + 1\n",
        "        reward = self.board[self.x, self.y]\n",
        "        self.board[self.x, self.y] = 0\n",
        "        game_over = self.t > self.max_time\n",
        "        state = np.concatenate((self.board.reshape(self.grid_size, self.grid_size,1),\n",
        "                        self.position.reshape(self.grid_size, self.grid_size,1)),axis=2)\n",
        "        state = state[self.x-2:self.x+3,self.y-2:self.y+3,:]\n",
        "\n",
        "        return state, reward, game_over\n",
        "\n",
        "    def reset(self):\n",
        "        \"\"\"This function resets the game and returns the initial state\"\"\"\n",
        "\n",
        "        self.x = np.random.randint(3, self.grid_size-3, size=1)[0]\n",
        "        self.y = np.random.randint(3, self.grid_size-3, size=1)[0]\n",
        "\n",
        "\n",
        "        bonus = 0.5*np.random.binomial(1,self.temperature,size=self.grid_size**2)\n",
        "        bonus = bonus.reshape(self.grid_size,self.grid_size)\n",
        "\n",
        "        malus = -1.0*np.random.binomial(1,self.temperature,size=self.grid_size**2)\n",
        "        malus = malus.reshape(self.grid_size, self.grid_size)\n",
        "\n",
        "        self.to_draw = np.zeros((self.max_time+2, self.grid_size*self.scale, self.grid_size*self.scale, 3))\n",
        "\n",
        "\n",
        "        malus[bonus>0]=0\n",
        "\n",
        "        self.board = bonus + malus\n",
        "\n",
        "        self.position = np.zeros((self.grid_size, self.grid_size))\n",
        "        self.position[0:2,:]= -1\n",
        "        self.position[:,0:2] = -1\n",
        "        self.position[-2:, :] = -1\n",
        "        self.position[:, -2:] = -1\n",
        "        self.board[self.x,self.y] = 0\n",
        "        self.t = 0\n",
        "\n",
        "        state = np.concatenate((\n",
        "                               self.board.reshape(self.grid_size, self.grid_size,1),\n",
        "                        self.position.reshape(self.grid_size, self.grid_size,1)),axis=2)\n",
        "\n",
        "        state = state[self.x - 2:self.x + 3, self.y - 2:self.y + 3, :]\n",
        "        return state"
      ],
      "execution_count": 0,
      "outputs": []
    },
    {
      "cell_type": "markdown",
      "metadata": {
        "id": "5lGkWLTmIMxU",
        "colab_type": "text"
      },
      "source": [
        "The following elements are important because they correspond to the hyper parameters for this project:"
      ]
    },
    {
      "cell_type": "code",
      "metadata": {
        "id": "arndcWYuIMxW",
        "colab_type": "code",
        "colab": {}
      },
      "source": [
        "# parameters\n",
        "size = 13\n",
        "T=200\n",
        "temperature=0.3\n",
        "epochs_train=20 # set small when debugging\n",
        "epochs_test=20 # set small when debugging\n",
        "\n",
        "# display videos\n",
        "def display_videos(name):\n",
        "    video = io.open(name, 'r+b').read()\n",
        "    encoded = base64.b64encode(video)\n",
        "    return '''<video alt=\"test\" controls>\n",
        "                <source src=\"data:video/mp4;base64,{0}\" type=\"video/mp4\" />\n",
        "             </video>'''.format(encoded.decode('ascii'))"
      ],
      "execution_count": 0,
      "outputs": []
    },
    {
      "cell_type": "markdown",
      "metadata": {
        "id": "tBjS2L3wIMxd",
        "colab_type": "text"
      },
      "source": [
        "__Question 2__ Explain the use of the arrays ```position``` and ```board```."
      ]
    },
    {
      "cell_type": "markdown",
      "metadata": {
        "id": "6YxBiA-iIMxd",
        "colab_type": "text"
      },
      "source": [
        "\n",
        "The 2D array position indicates whether the rat is at a given position. All the cells non-occupied by the rat have 0 values whereas the cell currently occupied gets the value 1. A part of the information contained in the array state contains the 5x5 sub-array of the array position, corresponding to the cells that the rat can currently observe. What happens if the rat is currently at the border of the island ? For convenience, the array state still contains the 5x5 sub-array of the array position (previously described) so that the array position must have larger dimensions than the island: 2 supplementary cells in each direction. To code those new cells as not real cells, their value in the array position is -1.\n",
        "\n",
        "The 2D array board contains the rewards available on each cell: 0.5 for cheese, -1 for poison and 0 for nothing to eat. The 5x5 sub-array of the array board, corresponding to the cells that the rat can currently observe, is also passed in the array state. Thus, for the same reasons than for the array position, the array board has larger dimensions than the island. There is no special encoding for those supplementary cells since the specific coding of the array position suffices to avoid the rat to go there.  "
      ]
    },
    {
      "cell_type": "markdown",
      "metadata": {
        "id": "D3GyQyv8IMxe",
        "colab_type": "text"
      },
      "source": [
        "## Random Agent"
      ]
    },
    {
      "cell_type": "markdown",
      "metadata": {
        "id": "DUtJsz5OIMxf",
        "colab_type": "text"
      },
      "source": [
        "***\n",
        "__Question 3__ Implement a random Agent (only ```learned_act``` needs to be implemented):"
      ]
    },
    {
      "cell_type": "code",
      "metadata": {
        "id": "Mq2mBWgHIMxg",
        "colab_type": "code",
        "colab": {}
      },
      "source": [
        "class RandomAgent(Agent):\n",
        "    def __init__(self):\n",
        "        super(RandomAgent, self).__init__()\n",
        "        pass\n",
        "\n",
        "    def learned_act(self, s):\n",
        "        return np.random.randint(0, self.n_action)"
      ],
      "execution_count": 0,
      "outputs": []
    },
    {
      "cell_type": "markdown",
      "metadata": {
        "id": "2hwbW5t0IMxl",
        "colab_type": "text"
      },
      "source": [
        "***\n",
        "***\n",
        "__Question 4__ Visualize the game moves. You need to fill in the following function for the evaluation:"
      ]
    },
    {
      "cell_type": "code",
      "metadata": {
        "id": "LBRZKQwzIMxn",
        "colab_type": "code",
        "colab": {}
      },
      "source": [
        "def test(agent,env,epochs,prefix=''):\n",
        "    # Number of won games\n",
        "    score = 0\n",
        "        \n",
        "    for e in range(epochs):\n",
        "        \n",
        "        # At each epoch, we restart to a fresh game and get the initial state\n",
        "        state = env.reset()\n",
        "        # This assumes that the games will end\n",
        "        game_over = False\n",
        "\n",
        "        win = 0\n",
        "        lose = 0\n",
        "    \n",
        "        while not game_over:\n",
        "          # The agent performs a random action\n",
        "          action = agent.act(state, train=False)\n",
        "\n",
        "          # Apply an action to the environment, get the next state, the reward\n",
        "          # and if the games end\n",
        "          prev_state = state\n",
        "          state, reward, game_over = env.act(action)\n",
        "\n",
        "          # Update the counters\n",
        "          if reward > 0:\n",
        "              win = win + reward\n",
        "          if reward < 0:\n",
        "              lose = lose -reward\n",
        "        \n",
        "        # Save as a mp4\n",
        "        env.draw(prefix+str(e))\n",
        "\n",
        "        # Update stats\n",
        "        score = score + win-lose\n",
        "\n",
        "        print(\"Win/lose count {}/{}. Average score ({})\"\n",
        "              .format(win, lose, score/(1+e)))\n",
        "    print('Final score: '+str(score/epochs))"
      ],
      "execution_count": 0,
      "outputs": []
    },
    {
      "cell_type": "code",
      "metadata": {
        "id": "IMHFdTywIMxp",
        "colab_type": "code",
        "outputId": "2db63804-b2cc-4edc-d6e6-af14af97a4c9",
        "colab": {
          "base_uri": "https://localhost:8080/",
          "height": 650
        }
      },
      "source": [
        "# Initialize the game\n",
        "env = Environment(grid_size=size, max_time=T,temperature=temperature)\n",
        "\n",
        "# Initialize the agent!\n",
        "agent = RandomAgent()\n",
        "\n",
        "test(agent,env,epochs_test,prefix='random')\n",
        "HTML(display_videos('random0.mp4'))"
      ],
      "execution_count": 0,
      "outputs": [
        {
          "output_type": "stream",
          "text": [
            "Win/lose count 13.0/24.0. Average score (-11.0)\n",
            "Win/lose count 7.0/13.0. Average score (-8.5)\n",
            "Win/lose count 10.5/19.0. Average score (-8.5)\n",
            "Win/lose count 9.5/8.0. Average score (-6.0)\n",
            "Win/lose count 11.5/9.0. Average score (-4.3)\n",
            "Win/lose count 5.5/13.0. Average score (-4.833333333333333)\n",
            "Win/lose count 12.0/22.0. Average score (-5.571428571428571)\n",
            "Win/lose count 10.0/15.0. Average score (-5.5)\n",
            "Win/lose count 8.0/10.0. Average score (-5.111111111111111)\n",
            "Win/lose count 11.0/20.0. Average score (-5.5)\n",
            "Win/lose count 13.0/18.0. Average score (-5.454545454545454)\n",
            "Win/lose count 5.5/6.0. Average score (-5.041666666666667)\n",
            "Win/lose count 7.5/14.0. Average score (-5.153846153846154)\n",
            "Win/lose count 13.0/20.0. Average score (-5.285714285714286)\n",
            "Win/lose count 5.0/8.0. Average score (-5.133333333333334)\n",
            "Win/lose count 11.5/9.0. Average score (-4.65625)\n",
            "Win/lose count 8.0/10.0. Average score (-4.5)\n",
            "Win/lose count 8.5/11.0. Average score (-4.388888888888889)\n",
            "Win/lose count 11.0/15.0. Average score (-4.368421052631579)\n",
            "Win/lose count 12.0/12.0. Average score (-4.15)\n",
            "Final score: -4.15\n"
          ],
          "name": "stdout"
        },
        {
          "output_type": "execute_result",
          "data": {
            "text/html": [
              "<video alt=\"test\" controls>\n",
              "                <source src=\"data:video/mp4;base64,AAAAIGZ0eXBpc29tAAACAGlzb21pc28yYXZjMW1wNDEAAAAIZnJlZQAAIlhtZGF0AAACrgYF//+q3EXpvebZSLeWLNgg2SPu73gyNjQgLSBjb3JlIDE1MiByMjg1NCBlOWE1OTAzIC0gSC4yNjQvTVBFRy00IEFWQyBjb2RlYyAtIENvcHlsZWZ0IDIwMDMtMjAxNyAtIGh0dHA6Ly93d3cudmlkZW9sYW4ub3JnL3gyNjQuaHRtbCAtIG9wdGlvbnM6IGNhYmFjPTEgcmVmPTMgZGVibG9jaz0xOjA6MCBhbmFseXNlPTB4MzoweDExMyBtZT1oZXggc3VibWU9NyBwc3k9MSBwc3lfcmQ9MS4wMDowLjAwIG1peGVkX3JlZj0xIG1lX3JhbmdlPTE2IGNocm9tYV9tZT0xIHRyZWxsaXM9MSA4eDhkY3Q9MSBjcW09MCBkZWFkem9uZT0yMSwxMSBmYXN0X3Bza2lwPTEgY2hyb21hX3FwX29mZnNldD0tMiB0aHJlYWRzPTMgbG9va2FoZWFkX3RocmVhZHM9MSBzbGljZWRfdGhyZWFkcz0wIG5yPTAgZGVjaW1hdGU9MSBpbnRlcmxhY2VkPTAgYmx1cmF5X2NvbXBhdD0wIGNvbnN0cmFpbmVkX2ludHJhPTAgYmZyYW1lcz0zIGJfcHlyYW1pZD0yIGJfYWRhcHQ9MSBiX2JpYXM9MCBkaXJlY3Q9MSB3ZWlnaHRiPTEgb3Blbl9nb3A9MCB3ZWlnaHRwPTIga2V5aW50PTI1MCBrZXlpbnRfbWluPTI1IHNjZW5lY3V0PTQwIGludHJhX3JlZnJlc2g9MCByY19sb29rYWhlYWQ9NDAgcmM9Y3JmIG1idHJlZT0xIGNyZj0yMy4wIHFjb21wPTAuNjAgcXBtaW49MCBxcG1heD02OSBxcHN0ZXA9NCBpcF9yYXRpbz0xLjQwIGFxPTE6MS4wMACAAAAGFWWIhAAz//727L4FNhTIUJcRLMXaSnA+KqSAgHc0wESIn8wJh+wbQWqC6+Fz+TBH4lbStDBWjSSt6TwiTuxWml+6DpFji6QcWRHMMtjBZ2VsJAAX6Gkh6srLh/bQruiIXDMd3pQsRk2qLkUrobfPuoReiQliOuRd469A774xa6iyZ4R0igjSDSkPi8YG/HFqwTXLdcxDI+tAzV5x+WRCLKBUfBslvOl1V+e70DteTAIVMxkdPLaUsqEhw0jEVlAGSWSpW9oMUVj/pObNBNHkQwCSEIvT05gIUxZRkPEAqgRkmucbTc+iuHiMmfMkp5VOmjambB1Y8LmflJL4Edmo3j4zWAgGk0v16z85IfDcMOjNRF5xarAGa4AKLVDR9WfAHbMbmyjA+dqw6+pclzanzqRG6gjsf//i4U/M9HaUY152dnt6P+UQgwy/hQAFcFJPEqCR5IToMxnTnL/JY2nbmB2wVRDIL8PcqwS8RYYh8FYWS34+E1OSH94Wa63zPH/PVzJPE2AYittVP/XJoS/aB1VXEGDJDMgfUJh2wLDs4LswY+qC4GvqFr/05xYLnPPApfHMWhajGvXQ4L2APsccxogr6KVnfyDra5qjuPvbx8dlciSf/v/pvvJZrf2HsM8ee7Cr/h7B3XHOc0yV4zRrZwARAIFPymddUdGDpsVGYJnrwroHvbuHi3mfVxkxyg3UgBkqJ1/KUdpgY5mlb5tnbdfnaQdIsaTCSXnB/Yrslhi5ol2GF70/99twhCAcAUQXM/aqgdKmmjIufTIALuyAr0EZ99trGoR6kea+RFRecs2FPaQZwAdl6gNg4MsXxXNLeHCVUDHyoCHVHjQ+ZXihXHUiD5rRJ6HKXRYFnDxEo9TXEyx4wKdOpH9QCELRqZkm4oLP3U/xf39hQGmvmKoFScQJ0K4PzLkxf688fm+xDDBDELACu9xbLUyAyx81fMzkvuoOLqIIOK/jDzE4n9hs9ho2e9miQVLiKUuVfMxbYVkobTpNsDlUMxI3bGKMuOpAF5UqDYO4HvqiumvKdg0Pe5x+PldzP4GIMx9WaBUq7u1Y6UL+0zxhmfGQ7AM0NcEHlbIefhGGj/V1XnFjLKWofZTPWKqYJ63520Ha4cdSrR2GefTtAPG8YupYJrqT2iog41QWNq12db7Ap4iJ/0WbjhsAiwhbyQoXbXiwVAEMn/ptT6zrr2y7mEmJ2r/haSMVGiYgJsHgUm+cuh//4Zf4wcf5xaTx/ZEyQ1PvYAMUVOkRsBUjCdXqmr9k6UtZu43ShKzEFkX9fWcRcuSLgGXVbZkx9PCKWswlhahZKiGTtYa5BTcGTxcF/XTyUIOo5+lNhtLzHTclOYaXQxcr495RE/H52ipd8saOftBvUqGZkhFV94D8HHo3C5PRsSSa2J4sb34FGEACuaQYDSION79xhsGevigbkjyrDqDucc6YoUhwT+NF1pQi30ic7Cu+UyXvugCqg3eJ58ypsuCDCL6MyvlC1GBG8sABBam6vu5avlGzcvkLhpoecVj9sVgXNXOUPANjuRXdepQn//2JoK6eMtfBYZZ91fHat60vOlAumwNaMN5Q/HlG3U5LF+74f4fOB7g6A6YWhCEMLumASv8EDC1ZtZQkgzdU66w21o16LqviGMRV8+lQsXaLg3LDboUgIfj4MKkX8kbevdbOYOrIr8kVWxyqe/NWMmbCGug61HvEgGLZv3ZYpcAbqmM49mEkgkQ+s1sRb7xBj7SF9Jr/DQbHAFNuUq8dSJ+7PTIe3bDx/fBO6j/VNF+5bBQ5684gXUGMPnzgYNnY+k8jfVkeZwS2MWWHKuT//z+/SezkzEkhny17pGUzwGnMkQnuHAw1mJQLQZ8pi0YiHuZFt2dd8ngZAs27W6NbbxG4K/XgO7fcjrJv/qZOX49r07YK2nCXKiuSsdZ7/Qp8LU/iv66yOKvbN7X3fxgXrWeniNk9hsKCB+sRHJIkMjKizZj5v43UPwqnjzyuDXhdcKK97/2aJJgv64rEcnqXuue69wqgPw9uqljnjhPnlkzniNXYwhKDzE1wMkeWwVEgG7TmYcqGnJcciwAGnQAAAIdBmiFsQz/+nhADmoj0QOuUJmzOqdz7i0Zx3dMZSvmK3r+jl5KloI0YMJ1X7Ihjc5vh9kokqzJskoEYPV88O3CLcdf/SsUJfz+dyJYehwyVAX4yYyeDcHevXLbDPlQcsIE//6IwY4ENJUd/5XsNHBfIQ/duQEDSHZYuLMFvkD8us45Vo9BH5/QAAAAmQZpCPCGTKYQ3//6nhAAzdIn7NUGw/qQWKHtqSx0gLSrxEJ6xOqEAAABIQZpjSeEPJlMCG//+p4QATb4IWb1+6mf/0gs1DgmVbin7dKOMZoykolTSr0xZcizMgk+ug2+41KYIhjiOLTemEDBeiwldPUggAAAAI0GahEnhDyZTAhv//qeEAHEF1V9luoX6UnCd+5LUlIgZe8GBAAAAJEGaqEnhDyZTAhv//qeEAElHzVNZQFtYfFLTlD/Brffrfa9vwQAAABBBnsZFETwv/wAsTEFmikuZAAAAFgGe5XRCvwA7cQmkBfD+Eg/9u4mqrMEAAAAPAZ7nakK/ADy84afYPXbgAAAAKEGa60moQWiZTAhn//6eEAZ2HXp8W7OJ/hT/T1ipSglQeZbj6kZNCDgAAAAaQZ8JRREsK/8AXTB13niYQ1Anw5fdobrtC4EAAAAPAZ8qakK/AF0alWtzVZrYAAAAKkGbLEmoQWyZTAhv//6nhAblh0lRD06ep+rodSZrnHpieSOjmXrQ9iWNgAAAACxBm01J4QpSZTAhv/6nhAEUK4FzjGExD/Hn28pIbUgRcdLM6XXbDSPAJziDqwAAADpBm3BJ4Q6JlMCG//6nhAEULDpIceSI1m0RxOMasgsiQtucNUypNjvP6P6yp3Bo6gR2gAd0j48ABvOLAAAAFEGfjkURPCv/AJLIT2npKPlyNKt1AAAADwGfr2pCvwCTBk/A5vah4AAAAClBm7FJqEFomUwIb//+p4QBwTMY82z4NZKgcAyfB8IrFLjVI+d8ZYtmpAAAADpBm9JJ4QpSZTAh3/6plgMgqPynzvoUCQVU3VhwEkrPMdPYDes3APrAqh9450zdgwM0PZiyU9W4wvjBAAAAH0Gb9knhDomUwId//qmWAuXKQTs1B/S+NnB4KldD8k4AAAAaQZ4URRE8L/8Bh28+ixL4BWQIbur7nnPhm3EAAAAbAZ4zdEK/AguWslrOnJ8X5DkiWn2lCW0Y/LjhAAAAEAGeNWpCvwIK1I1aBCNRtFwAAAAjQZo5SahBaJlMCHf//qmWAO5LrtfZJZU0CFH0BnBw4Im9q8kAAAAPQZ5XRREsK/8BWmn6WHvxAAAADwGeeGpCvwDc2ErhGW0toAAAABJBmn1JqEFsmUwIb//+p4QAAScAAAAbQZ6bRRUsL/8Ao9q63UY+Yh8yaLCwWS+HwLlgAAAAEAGeunRCvwDcf3eOdAfTB1MAAAAQAZ68akK/ANy6dVE0h9MHUwAAABlBmqBJqEFsmUwIb//+p4QB1lDGqfP0OR8wAAAAD0Ge3kUVLCv/AVpp+lh78AAAAA4Bnv9qQr8BWuTPt1b7gQAAABhBmuNJqEFsmUwIZ//+nhAHG6isZLgyQcAAAAASQZ8BRRUsK/8BWmjfnT9OQzAhAAAAEAGfImpCvwFRalWtAhGqG3oAAAAYQZskSahBbJlMCGf//p4QBBEgbI2zNaGfAAAAF0GbRUnhClJlMCGf/p4QAq/qzSGxPbmLAAAAHUGbZknhDomUwIb//qeEAKz7wo99Ak1rMmBiqyfBAAAAGkGbiEnhDyZTBRE8N//+p4QAsIhnLt9lMtqZAAAAEAGfp2pCvwCO657Ja7WTseAAAAAhQZupSeEPJlMCG//+p4QAtOK0ZIwPVoJR/+LCs2NJdbaCAAAAHkGby0nhDyZTBRE8N//+p4QB7DD+CnurL70GU/OZgQAAABgBn+pqQr8BY6//PZ4uDjyJ7SyiMP3JS4AAAAA6QZvuSeEPJlMCG//+p4SpUovgFMIZgoaXKRvVOYmKlgpJ0hbZyBRacdM89NwUHWz+WlbZ9qEBkFsHHAAAACBBngxFETwr/wV9NJa0Lgil2DzpdbzT2rPsHjO1K41N/wAAABgBni1qQr8CSGodFMIERPVRkHmJdainvh8AAAAoQZoxSahBaJlMCG///qeEAgvghLQS3Zx58TX+XMn5ApBhRtSndbaj4QAAABpBnk9FESwr/wFsagW6/oVJMotqmbyDWt/FgAAAABABnnBqQr8A54G2EMvOIo2AAAAAJkGac0moQWyZTBRMN//+p4QBnaoaeLZtGTDxwfH2TnofgmuQ2AaZAAAAEAGekmpCvwCSyG/OoKG7rdAAAAAdQZqXSeEKUmUwIb/+p4QAnpXCeI3Qejafs4ddu6AAAAAUQZ61RTRML/8AZv1yxm0/dKrIWYEAAAAQAZ7UdEK/AIr4uIiOsugQHAAAABABntZqQr8AjuaN22l0HXOxAAAAGUGa2EmoQWiZTAhv//6nhABxvZN/w+utttUAAAArQZr7SeEKUmUwIb/+p4QAqHvCj30CTWr1AESc2zt4hbdYjIG/MIGwdEwtgAAAAA9BnxlFNEwr/wBa2ie1dtEAAAAUAZ86akK/AFr5J+B+gwaCm4OtdtAAAAAsQZs/SahBaJlMCG///qeEAKP/NZ1fmWUq/v004a0x65KX83niPz0+DU1VsuEAAAAQQZ9dRREsL/8AYgNeXHSGOQAAABABn3x0Qr8Agvi4iI6y6BBcAAAAFgGffmpCvwCDBkrhH8wcei+NsTT+1LwAAAArQZtgSahBbJlMCG///qeEAaHxPtpBZY12uioqPa3KmgysVy6cLkN7lIrOOQAAADlBm4JJ4QpSZTBRUsN//qeEAY3e/Jn20TYWrOGrbxNZ8E2G17SHZAJ/oySDCHq2HBJsOVQ4kKojCkgAAAAcAZ+hakK/AM2P5oathBlFtUzdLBbmr7TxppAXgQAAACJBm6NJ4Q6JlMCHf/6plgDCxYbW/x3UJzQ6RtS/Y5J0qmpAAAAAP0Gbx0nhDyZTAhv//qeEA5GBcQmUgl8ttCWL9KSJp4pBAiC/0mqqLtUyEts4hdt4lDkrgScsUg16Zttb46GzgQAAAB1Bn+VFETwv/wDchf/HJuQaPDeEi8LH2ten2rTAgQAAABYBngR0Qr8BLnOoUwhghrYSQI5Jrl7BAAAAFQGeBmpCvwDIuf7JhDB9UBiy/HjtcQAAACBBmgtJqEFomUwIb//+p4QA8aeMEW2qZCCoxy3y4MaKrAAAABBBnilFESwv/wCSztbzdIF4AAAAEAGeSHRCvwDIf3eOdAfTB3cAAAAUAZ5KakK/AM2lbGOgPXUT2bI99+YAAAAhQZpOSahBbJlMCGf//p4QAn3xYvuMfRt1yaKz8941W5qQAAAAEkGebEUVLCv/AIbmjdtqX2TLwQAAAA8Bno1qQr8AhsiOlpFa0YEAAAAgQZqPSahBbJlMCG///qeEAGltNh8Kdjcds6E3Cmj4830AAAA1QZqxSeEKUmUwUVLDP/6eEAGRpWjZbOdNiw55JYrZyre2GcrGctgT09/kIma7WJl3S6EuiDwAAAAVAZ7QakK/AFQaMjY3ODjyJ6q7g81cAAAAIEGa0knhDomUwIb//qeEAD9p4tNFCZKS7+KBG/84YFeBAAAANUGa9UnhDyZTAhn//p4QAKR7P3htK8rNl6VD+Ecy8Lc6wEF6v+PmbjrvCoQKbD8WJhDSRsFAAAAAEEGfE0URPCv/ACGyP0PXS4wAAAAVAZ80akK/ABYlIRlqBCo6BPQLSk3vAAAAJ0GbNkmoQWiZTAhn//6eEABp/UVkSI+jd6wURwmgZm+w8h5yx9Uv8AAAACJBm1dJ4QpSZTAhv/6nhAARb4ISjjQkc+peCohEJdR2GQ1BAAAAM0GbeknhDomUwIZ//p4QAENV4D6OvbA7gTSbzAXaIcn5rAPk5rcWEw8x2eRXv3IvfqK7nQAAABpBn5hFETwr/wAOKym7eH2EYIZQGLUbJltvgAAAAA4Bn7lqQr8ADisqEnKVYwAAAClBm7tJqEFomUwIZ//+nhAAa9zrsjLgkcRCTA4a2Zelyjnq3Ki5J3uCwAAAACFBm9xJ4QpSZTAhn/6eEABFRDj8UMM/NmtF6gIXRQjOC3UAAAAhQZv9SeEOiZTAhn/+nhABBvmeFSHP7YztMjh8k5z7lbqBAAAAHUGaHknhDyZTAhn//p4QAGbkMcrWW/1Jp7CDdUgsAAAAKEGaP0nhDyZTAhv//qeEAGd/mvM6+hsHR6OTMx2S8Kb++LZjzfIPNjMAAAAdQZpASeEPJlMCG//+p4QAKf6J/r6PRdh0F1Qq4EEAAAApQZphSeEPJlMCHf/+qZYAIAiw3SPYRA1gsXFggN6KfghAQ+x10t1ZFEAAAAAfQZqFSeEPJlMCHf/+qZYAM9BZi0zQ5XCipwgnoP/jwQAAABBBnqNFETwv/wA8vx3I2HUEAAAAHAGewnRCvwBUMtZLWedtUzkbKGckHnXSBVBI9UEAAAAcAZ7EakK/AFZpRvkwHiC7jUhpRG9UxwkPvRrpgQAAADxBmshJqEFomUwId//+qZYANV65rQntwtkCo1/ogRLvNMOdP1Axop6ej7hhWbzsv8s2bJdYaC3tvZ8PeYEAAAAYQZ7mRREsK/8AVnhQbUYZpm4Mlqws/xdnAAAAFwGfB2pCvwBWWn2mb4YNnbuL+1d7R2m4AAAAJkGbC0moQWyZTAh3//6plgAiPw0c4RoFWiDcZBfgR1h0ICH2bXcIAAAAEUGfKUUVLCv/ADYEObWkVFthAAAAHgGfSmpCvwA3ZdJdS90Ls3PO2qZxNoPt0IOqyoO7oAAAACJBm09JqEFsmUwId//+qZYAIDV60ISRgO0x/gHJZyyqBvIYAAAAJEGfbUUVLC//ACa50uDkJpG9KkRBReinAMQY+imB2WzxedP/QQAAABEBn4x0Qr8AIrZ53KvzFFSz+wAAABABn45qQr8ANM6dVFG5GqLlAAAAE0Gbk0moQWyZTAh3//6plgAAlYAAAAAMQZ+xRRUsL/8AALKAAAAAFAGf0HRCvwA0Od6hCNpg48ieqvuBAAAAEAGf0mpCvwA2ALG2/ddGTC8AAAAcQZvXSahBbJlMCG///qeEAD++yo5kYWzFCQkB4AAAABJBn/VFFSwv/wAmugJw9OF3n4EAAAAQAZ4UdEK/ADTJGd6s9PLAYgAAABUBnhZqQr8ANMQEAdRMHHkT1V3B6C0AAAAZQZobSahBbJlMCG///qeEAD9p4v/vkaONMQAAABBBnjlFFSwv/wAms7VMzDPwAAAAFQGeWHRCvwA00ayxH8wceRPVXF7pFwAAABABnlpqQr8ANNYZ1Afr+E5CAAAAHUGaXUmoQWyZTBRMN//+p4QAP77KjrSzNTbpYQ0hAAAAEgGefGpCvwA2DNzbfcPHZeDIQQAAABdBmmBJ4QpSZTAhn/6eEACsV7itO+eP6QAAABBBnp5FNEwr/wAjsuD75UzHAAAAFAGev2pCvwAjwZnUB+gwbO3cTmwRAAAAM0GaoUmoQWiZTAhn//6eEAENID5hIVwiMVw83uUY5m3ekp4TvqwW+FlZG7YqsvAB+BC9VwAAADhBmsJJ4QpSZTAhv/6nhAAtWK0ZIB3ErP/yOi5lFCACzTmqqJ3Xt8FIoKWUpZU55R+Y3BVu8prxzwAAACNBmuNJ4Q6JlMCG//6nhAAdH1GZcgt0odwOrFzc62zUVcYTzAAAADhBmwZJ4Q8mUwIb//6nhAAdoYp8eApBhRtSndd9gUkuDFeis79s9hPlJY8Mr+oUd+yFKHuaLddRbwAAABJBnyRFETwr/wAPiyM1nsF6UJEAAAAPAZ9FakK/AA+LJeXr36CBAAAAMEGbR0moQWiZTAhv//6nhAAT4O2nl2nQZBKP/xXobNZcr2+Odo2jhZ2uaeIqYA/UwQAAADhBm2tJ4QpSZTAhv/6nhAAfL3m2tqLGrs0WA1DS/N1ufkZF3AIoGDrJqXsMm9yFMvHjFUKjGikIQgAAABdBn4lFNEwv/wAMQI9gRM8yCtgUm1lysAAAABUBn6h0Qr8AEF3HfJgKM2xfEFGUdpEAAAAVAZ+qakK/AA/gHvBmJmPMGgpuDlmqAAAAOUGbrEmoQWiZTAhv//6nhAAVFDN8iMeYZ6KS6RxHTZvXbOQ9Ubwr4tL/5uQuItc2F/SiC1WXCeaPsAAAADdBm85J4QpSZTBREsN//qeEABWMVqmP04JS4xmQgVXduGcpWeIHkYxSlvlNnOo2SzCrpfQojB5hAAAAHAGf7WpCvwARXZRJazztqmcjF1+UAeddIFswKbEAAAAgQZvxSeEOiZTAhv/+p4QAFa9of/h46YHq0Eo//FhcbqMAAAASQZ4PRRU8K/8AGwhpdoY6tocQAAAADwGeMGpCvwAbAhgh2XTZgAAAABlBmjJJqEFomUwIb//+p4QAFQBNh8Kdi0fBAAAAKUGaVUnhClJlMCG//qeEADE+oyrCJNBZY/p+wK9gztVC6ofbuZhaN4dwAAAAF0Gec0U0TCv/ACfmSUchWiMowP4oHQ1AAAAAFQGelGpCvwAZxK2Z9c6iT7EPi+IqkwAAAB5BmpdJqEFomUwU8M/+nhAAxPseIWGF6XxyrcS6vmgAAAAcAZ62akK/ACkGSUfB9EV4N0nQztCKsDLCDp9P4QAAACBBmrhJ4QpSZTAhn/6eEABSPd+/cY+jd1uhWfnvGbQiYQAAADBBmtlJ4Q6JlMCG//6nhAANj6jMuQW09dj+hhNlPjPImhK2r4v//iOR4D9gXSrRTMAAAAAsQZr6SeEPJlMCG//+p4QADd+ozLDMZsraKQalU/8dYxa4oOY6PiWm9QoCx8sAAAAdQZscSeEPJlMFETw3//6nhAAI98jY8grVMhJDKWAAAAAWAZ87akK/AAdtXBtRg+2wkgJWqB8NkQAAACVBmyBJ4Q8mUwIZ//6eEAAYn+j/B+BTVqrWURWfnvGr3Sfj+eDhAAAAEEGfXkURPC//AAO2mdAYkZQAAAAPAZ99dEK/AATWz0KVm6QwAAAAEAGff2pCvwAFHr20N3TGHmEAAAAYQZthSahBaJlMCGf//p4QABh6TzdHuK/eAAAAFkGbgknhClJlMCGf/p4QABfaT6xUlbkAAAAgQZujSeEOiZTAhn/+nhAAI6cI51dwjubNaL08i4o4oEAAAAAjQZvESeEPJlMCG//+p4QAFh1CMBIpBhRtSndeKVAEbtjuu5kAAAAzQZvmSeEPJlMFETw3//6nhAAWrFapj9U8MQqA411QiHBh7z2qExjohGoaSDYUiKJDBAmBAAAAFQGeBWpCvwASXX/z2eLg1BxtYGwKLQAAABpBmgdJ4Q8mUwIb//6nhAAiqXtU0h6982JMCQAAADRBmihJ4Q8mUwId//6plgApO+lzLgSrInkvbojnMBKpKcPwkjqSM9faZsvD5h8VE3Cb3a6QAAAANkGaTEnhDyZTAh3//qmWAEB+R1oLtbO67fYW8yjeECqE6zLGq4rfcWLi0siQyQg8C9HC1MP4YAAAACZBnmpFETwv/wBNjfOlnZnfPPrGAuAp+uNPSckGAaFFnlP6t9C2yQAAABwBnol0Qr8AacQlJtVIkJWIkUiwNKPwsOAaeZNAAAAAFgGei2pCvwBBZH2mbvQSMXeRXh+AkisAAAAjQZqQSahBaJlMCHf//qmWAD1e2hIvv+UT/8KE/cmo3Q6J8QsAAAAOQZ6uRREsL/8AL8p0OPEAAAAbAZ7NdEK/ACoQ9DUXBx5E9VCdV+AyOQmD/hChAAAADwGez2pCvwA/hqHLPb7lqgAAABJBmtRJqEFsmUwIb//+p4QAAScAAAAUQZ7yRRUsL/8AMP649vafU9mlqMEAAAAQAZ8RdEK/AEF8Tbg1Quj7QAAAABABnxNqQr8AQWQ351BQ3ejgAAAAHUGbFkmoQWyZTBRMO//+qZYAGg9tCXZ7ULIUwlmlAAAAEAGfNWpCvwAqDRvzqChu/pAAAAARQZs6SeEKUmUwIb/+p4QAAScAAAAMQZ9YRTRML/8AALKBAAAADwGfd3RCvwAaHO/mwHxxogAAAA8Bn3lqQr8AKPG12cl+5y0AAAAcQZt8SahBaJlMFPDf/qeEAB/fZUdaWZqbdLCdIAAAABABn5tqQr8AGwZuaaA4A7kJAAAAI0GbgEnhClJlMCG//qeEACGj5mpssa7Nv4p4UncWT+VW5sfxAAAAEEGfvkU0TC//ABR56C/vTPwAAAAPAZ/ddEK/ABFbPQpWbjhgAAAAEAGf32pCvwAbp0PZYsp7R8kAAAAbQZvBSahBaJlMCG///qeEADS32k1RmuQ6c+tmAAAAF0Gb5EnhClJlMCGf/p4QAM77HhGgz6SBAAAAEkGeAkU0TCv/ACxUo3bal9laYAAAABABniNqQr8ALE1At199yPl5AAAAJUGaJkmoQWiZTBTwz/6eEACDfFjMy7kbsy7ArgXgch/2fa5H+l8AAAATAZ5FakK/ABuiHNrQIRqflheLQQAAABpBmklL4QhClJEYIKAfyAf2HgCFf/44QAARcQAAADhBnmdFNEwr/wKvXcqMYxOvHT7za57UxbITsathab2BKZAqhgRAfCxO0q96Kcwwc3hCq9cnUOMOwAAAACsBnohqQr8Cr13KjGMTrx0+82ue1MWyE7GrYWpJZXDBqDjav0mwlVRDKkvIAAALOm1vb3YAAABsbXZoZAAAAAAAAAAAAAAAAAAAA+gAAB+QAAEAAAEAAAAAAAAAAAAAAAABAAAAAAAAAAAAAAAAAAAAAQAAAAAAAAAAAAAAAAAAQAAAAAAAAAAAAAAAAAAAAAAAAAAAAAAAAAAAAAAAAAIAAApkdHJhawAAAFx0a2hkAAAAAwAAAAAAAAAAAAAAAQAAAAAAAB+QAAAAAAAAAAAAAAAAAAAAAAABAAAAAAAAAAAAAAAAAAAAAQAAAAAAAAAAAAAAAAAAQAAAAAEQAAABEAAAAAAAJGVkdHMAAAAcZWxzdAAAAAAAAAABAAAfkAAABAAAAQAAAAAJ3G1kaWEAAAAgbWRoZAAAAAAAAAAAAAAAAAAAMgAAAZQAVcQAAAAAAC1oZGxyAAAAAAAAAAB2aWRlAAAAAAAAAAAAAAAAVmlkZW9IYW5kbGVyAAAACYdtaW5mAAAAFHZtaGQAAAABAAAAAAAAAAAAAAAkZGluZgAAABxkcmVmAAAAAAAAAAEAAAAMdXJsIAAAAAEAAAlHc3RibAAAAJdzdHNkAAAAAAAAAAEAAACHYXZjMQAAAAAAAAABAAAAAAAAAAAAAAAAAAAAAAEQARAASAAAAEgAAAAAAAAAAQAAAAAAAAAAAAAAAAAAAAAAAAAAAAAAAAAAAAAAAAAAABj//wAAADFhdmNDAWQADf/hABhnZAANrNlBEI6EAAADAAQAAAMAyDxQplgBAAZo6+PLIsAAAAAYc3R0cwAAAAAAAAABAAAAygAAAgAAAAAUc3RzcwAAAAAAAAABAAAAAQAABRBjdHRzAAAAAAAAAKAAAAAFAAAEAAAAAAEAAAoAAAAAAQAABAAAAAABAAAAAAAAAAEAAAIAAAAAAQAACAAAAAACAAACAAAAAAIAAAQAAAAAAQAACAAAAAACAAACAAAAAAIAAAQAAAAAAQAACgAAAAABAAAEAAAAAAEAAAAAAAAAAQAAAgAAAAABAAAIAAAAAAIAAAIAAAAAAQAACgAAAAABAAAEAAAAAAEAAAAAAAAAAQAAAgAAAAABAAAIAAAAAAIAAAIAAAAAAQAACAAAAAACAAACAAAAAAMAAAQAAAAAAQAABgAAAAABAAACAAAAAAEAAAQAAAAAAQAABgAAAAABAAACAAAAAAEAAAgAAAAAAgAAAgAAAAABAAAIAAAAAAIAAAIAAAAAAQAABgAAAAABAAACAAAAAAEAAAoAAAAAAQAABAAAAAABAAAAAAAAAAEAAAIAAAAAAQAABAAAAAABAAAIAAAAAAIAAAIAAAAAAQAACgAAAAABAAAEAAAAAAEAAAAAAAAAAQAAAgAAAAABAAAEAAAAAAEAAAYAAAAAAQAAAgAAAAABAAAEAAAAAAEAAAoAAAAAAQAABAAAAAABAAAAAAAAAAEAAAIAAAAAAQAACgAAAAABAAAEAAAAAAEAAAAAAAAAAQAAAgAAAAABAAAIAAAAAAIAAAIAAAAAAQAABAAAAAABAAAGAAAAAAEAAAIAAAAAAQAABAAAAAABAAAIAAAAAAIAAAIAAAAAAgAABAAAAAABAAAIAAAAAAIAAAIAAAAABwAABAAAAAABAAAKAAAAAAEAAAQAAAAAAQAAAAAAAAABAAACAAAAAAEAAAgAAAAAAgAAAgAAAAABAAAIAAAAAAIAAAIAAAAAAQAACgAAAAABAAAEAAAAAAEAAAAAAAAAAQAAAgAAAAABAAAKAAAAAAEAAAQAAAAAAQAAAAAAAAABAAACAAAAAAEAAAoAAAAAAQAABAAAAAABAAAAAAAAAAEAAAIAAAAAAQAACgAAAAABAAAEAAAAAAEAAAAAAAAAAQAAAgAAAAABAAAGAAAAAAEAAAIAAAAAAQAACAAAAAACAAACAAAAAAMAAAQAAAAAAQAACAAAAAACAAACAAAAAAEAAAQAAAAAAQAACgAAAAABAAAEAAAAAAEAAAAAAAAAAQAAAgAAAAABAAAEAAAAAAEAAAYAAAAAAQAAAgAAAAABAAAIAAAAAAIAAAIAAAAAAQAABAAAAAABAAAIAAAAAAIAAAIAAAAAAQAABgAAAAABAAACAAAAAAMAAAQAAAAAAQAABgAAAAABAAACAAAAAAEAAAoAAAAAAQAABAAAAAABAAAAAAAAAAEAAAIAAAAABAAABAAAAAABAAAGAAAAAAEAAAIAAAAAAgAABAAAAAABAAAKAAAAAAEAAAQAAAAAAQAAAAAAAAABAAACAAAAAAEAAAoAAAAAAQAABAAAAAABAAAAAAAAAAEAAAIAAAAAAQAACgAAAAABAAAEAAAAAAEAAAAAAAAAAQAAAgAAAAABAAAGAAAAAAEAAAIAAAAAAQAACgAAAAABAAAEAAAAAAEAAAAAAAAAAQAAAgAAAAABAAAGAAAAAAEAAAIAAAAAAQAACgAAAAABAAAEAAAAAAEAAAAAAAAAAQAAAgAAAAABAAAEAAAAAAEAAAgAAAAAAgAAAgAAAAABAAAGAAAAAAEAAAIAAAAAAQAACAAAAAACAAACAAAAABxzdHNjAAAAAAAAAAEAAAABAAAAygAAAAEAAAM8c3RzegAAAAAAAAAAAAAAygAACMsAAACLAAAAKgAAAEwAAAAnAAAAKAAAABQAAAAaAAAAEwAAACwAAAAeAAAAEwAAAC4AAAAwAAAAPgAAABgAAAATAAAALQAAAD4AAAAjAAAAHgAAAB8AAAAUAAAAJwAAABMAAAATAAAAFgAAAB8AAAAUAAAAFAAAAB0AAAATAAAAEgAAABwAAAAWAAAAFAAAABwAAAAbAAAAIQAAAB4AAAAUAAAAJQAAACIAAAAcAAAAPgAAACQAAAAcAAAALAAAAB4AAAAUAAAAKgAAABQAAAAhAAAAGAAAABQAAAAUAAAAHQAAAC8AAAATAAAAGAAAADAAAAAUAAAAFAAAABoAAAAvAAAAPQAAACAAAAAmAAAAQwAAACEAAAAaAAAAGQAAACQAAAAUAAAAFAAAABgAAAAlAAAAFgAAABMAAAAkAAAAOQAAABkAAAAkAAAAOQAAABQAAAAZAAAAKwAAACYAAAA3AAAAHgAAABIAAAAtAAAAJQAAACUAAAAhAAAALAAAACEAAAAtAAAAIwAAABQAAAAgAAAAIAAAAEAAAAAcAAAAGwAAACoAAAAVAAAAIgAAACYAAAAoAAAAFQAAABQAAAAXAAAAEAAAABgAAAAUAAAAIAAAABYAAAAUAAAAGQAAAB0AAAAUAAAAGQAAABQAAAAhAAAAFgAAABsAAAAUAAAAGAAAADcAAAA8AAAAJwAAADwAAAAWAAAAEwAAADQAAAA8AAAAGwAAABkAAAAZAAAAPQAAADsAAAAgAAAAJAAAABYAAAATAAAAHQAAAC0AAAAbAAAAGQAAACIAAAAgAAAAJAAAADQAAAAwAAAAIQAAABoAAAApAAAAFAAAABMAAAAUAAAAHAAAABoAAAAkAAAAJwAAADcAAAAZAAAAHgAAADgAAAA6AAAAKgAAACAAAAAaAAAAJwAAABIAAAAfAAAAEwAAABYAAAAYAAAAFAAAABQAAAAhAAAAFAAAABUAAAAQAAAAEwAAABMAAAAgAAAAFAAAACcAAAAUAAAAEwAAABQAAAAfAAAAGwAAABYAAAAUAAAAKQAAABcAAAAeAAAAPAAAAC8AAAAUc3RjbwAAAAAAAAABAAAAMAAAAGJ1ZHRhAAAAWm1ldGEAAAAAAAAAIWhkbHIAAAAAAAAAAG1kaXJhcHBsAAAAAAAAAAAAAAAALWlsc3QAAAAlqXRvbwAAAB1kYXRhAAAAAQAAAABMYXZmNTcuODMuMTAw\" type=\"video/mp4\" />\n",
              "             </video>"
            ],
            "text/plain": [
              "<IPython.core.display.HTML object>"
            ]
          },
          "metadata": {
            "tags": []
          },
          "execution_count": 59
        }
      ]
    },
    {
      "cell_type": "markdown",
      "metadata": {
        "id": "oAN1POzBIMxt",
        "colab_type": "text"
      },
      "source": [
        "***\n",
        "## DQN"
      ]
    },
    {
      "cell_type": "markdown",
      "metadata": {
        "id": "UKmcI6urIMxu",
        "colab_type": "text"
      },
      "source": [
        "Let us assume here that $T=\\infty$.\n",
        "\n",
        "***\n",
        "__Question 5__ Let $\\pi$ be a policy, show that:\n",
        "\n",
        "\\begin{equation*}\n",
        "Q^{\\pi}(s,a)=E_{(s',a')\\sim p(.|s,a)}[r(s,a)+\\gamma Q^{\\pi}(s',a')]\n",
        "\\end{equation*}\n",
        "\n",
        "Then, show that for the optimal policy $\\pi^*$ (we assume its existence), the following holds: \n",
        "\n",
        "\\begin{equation*}\n",
        "Q^{*}(s,a)=E_{s'\\sim \\pi^*(.|s,a)}[r(s,a)+\\gamma\\max_{a'}Q^{*}(s',a')].\n",
        "\\end{equation*}\n",
        "Finally, deduce that a plausible objective is:\n",
        "\n",
        "\\begin{equation*}\n",
        "\\mathcal{L}(\\theta)=E_{s' \\sim \\pi^*(.|s,a)}\\Vert r+\\gamma\\max\\max_{a'}Q(s',a',\\theta)-Q(s,a,\\theta)\\Vert^{2}.\n",
        "\\end{equation*}\n",
        "\n",
        "\n"
      ]
    },
    {
      "cell_type": "markdown",
      "metadata": {
        "id": "DKpYZ1TyIMxv",
        "colab_type": "text"
      },
      "source": [
        "\n",
        "1. Let us show the Bellman equation. \n",
        "\n",
        "By definition, we have that:\n",
        "\n",
        "$\\begin{align}\n",
        "Q^\\pi(s,a) &= \\mathbb{E}_{\\{s_t, a_t\\} \\sim p^\\pi}  \\bigg[ \\sum_{t=0}^{T} \\gamma^t r(s_t,a_t) | s_0 = s, a_0 = a \\bigg] \\\\\n",
        "&= \\mathbb{E}_{\\{s_t, a_t\\} \\sim p^\\pi}  \\bigg[ r(s_0, a_0) + \\sum_{t=1}^{T} \\gamma^t r(s_t,a_t) | s_0 = s, a_0 = a \\bigg] \\\\\n",
        "&= r(s,a) + \\gamma \\mathbb{E}_{\\{s_t, a_t\\} \\sim p^\\pi}  \\bigg[  \\sum_{t=1}^{T} \\gamma^{t-1} r(s_t,a_t) | s_0 = s, a_0 = a \\bigg] \\\\\n",
        "&= r(s,a) + \\gamma \\mathbb{E}_{s'\\sim p(\\cdot|s,a)} \\mathbb{E}_{a'\\sim \\pi(\\cdot|s')} \\mathbb{E}_{\\{s_t, a_t\\} \\sim p^\\pi}  \\bigg[  \\sum_{t=1}^{T} \\gamma^{t-1} r(s_t,a_t) | s_1 = s', a_1 = a' \\bigg] \\\\\n",
        "&= r(s,a) + \\gamma \\mathbb{E}_{s'\\sim p(\\cdot|s,a)} \\mathbb{E}_{a'\\sim \\pi(\\cdot|s')} \\mathbb{E}_{\\{s_t, a_t\\} \\sim p^\\pi}  \\bigg[  \\sum_{t=1}^{T} \\gamma^{t-1} r(s_{t-1},a_{t-1}) | s_0 = s', a_0 = a' \\bigg] \\\\\n",
        "&= r(s,a) + \\gamma \\mathbb{E}_{s'\\sim p(\\cdot|s,a)} \\mathbb{E}_{a'\\sim \\pi(\\cdot|s')} \\mathbb{E}_{\\{s_t, a_t\\} \\sim p^\\pi}  \\bigg[  \\sum_{t=0}^{T-1} \\gamma^{t} r(s_{t},a_{t}) | s_0 = s', a_0 = a' \\bigg] \\\\\n",
        "&= r(s,a) + \\gamma \\mathbb{E}_{s'\\sim p(\\cdot|s,a)} \\mathbb{E}_{a'\\sim \\pi(\\cdot|s')} \\big[ Q^\\pi(s',a') \\big]\n",
        "\\end{align}$\n",
        "\n",
        "\n",
        "One could notice that the last step is an approximation since the sum goes up to $T-1$ instead of $T$. It would have been exact in an infinite time horizon setting. Thus, this equation is only an approximation in our case since we are in a finite horizon setting. \n"
      ]
    },
    {
      "cell_type": "markdown",
      "metadata": {
        "id": "XNQuNQDX6WTc",
        "colab_type": "text"
      },
      "source": [
        "\n",
        "\n",
        "2. Let us show the optimal Bellman equation.\n",
        "\n",
        "Assuming that the optimal policy $\\pi^*$ exists, the previous equation holds for that policy:\n",
        "\n",
        "$Q^{\\pi^*}(s,a) = Q^*(s,a) =  r(s,a) + \\gamma \\mathbb{E}_{s'\\sim p(\\cdot|s,a)} \\mathbb{E}_{a'\\sim \\pi^*(\\cdot|s')} \\big[ Q^*(s',a') \\big]$\n",
        "\n",
        "Since the optimal policy is deterministic and chooses its action $a'$, being in state $s'$, according to $a' = argmax_{a'} Q^*(s',a')$, we get that:\n",
        "\n",
        "$\\begin{align}\n",
        "Q^*(s,a) &=  r(s,a) + \\gamma \\mathbb{E}_{s'\\sim p(\\cdot|s,a)}  \\bigg[ Q^*\\big[s',argmax_{a'} Q^*(s',a')\\big] \\bigg] \\\\\n",
        "&= r(s,a) + \\gamma \\mathbb{E}_{s'\\sim p(\\cdot|s,a)} max_{a'} Q^*(s',a')\n",
        "\\end{align}$"
      ]
    },
    {
      "cell_type": "markdown",
      "metadata": {
        "id": "OKFBYClmDx03",
        "colab_type": "text"
      },
      "source": [
        "\n",
        "\n",
        "\n",
        "\n",
        "3. Finally, if we estimate the optimal Q-function $Q^*(s,a)$ by a model $Q(s,a,\\theta)$, a good idea to approach the optimal Q-function is to consider the Bellman error, that is the difference between the right-hand and the left-hand sides of the previous equation. This new quantity is equal to 0 if and only if our estimate is equal to the optimal Q-function. Let us write the Bellman error $\\mathcal{B}(Q(s,a,\\theta))$:\n",
        "\n",
        "$\\begin{align}\n",
        "\\mathcal{B}(Q(s,a,\\theta)) &= r(s,a) + \\gamma \\mathbb{E}_{s'\\sim p(\\cdot|s,a)} max_{a'} Q(s',a', \\theta) - Q(s,a,\\theta) \\\\\n",
        "&= \\mathbb{E}_{s'\\sim p(\\cdot|s,a)} \\big[ r(s,a) + \\gamma max_{a'} Q(s',a', \\theta) - Q(s,a,\\theta) \\big]\n",
        "\\end{align}$\n",
        "\n",
        "To get a differentiable loss function (using Monte-Carlo approximation for instance), a natural choice is then:\n",
        "\n",
        "$\\mathcal{L}(\\theta) = \\mathbb{E}_{s'\\sim p(\\cdot|s,a)} | r(s,a) + \\gamma max_{a'} Q(s',a', \\theta) - Q(s,a,\\theta) |^2$\n",
        "\n",
        "\n"
      ]
    },
    {
      "cell_type": "markdown",
      "metadata": {
        "id": "eHfO5uviIMxv",
        "colab_type": "text"
      },
      "source": [
        "***\n",
        "The DQN-learning algorithm relies on these derivations to train the parameters $\\theta$ of a Deep Neural Network:\n",
        "\n",
        "1. At the state $s_t$, select the action $a_t$ with best reward using $Q_t$ and store the results;\n",
        "\n",
        "2. Obtain the new state $s_{t+1}$ from the environment $p$;\n",
        "\n",
        "3. Store $(s_t,a_t,s_{t+1})$;\n",
        "\n",
        "4. Obtain $Q_{t+1}$ by minimizing  $\\mathcal{L}$ from a recovered batch from the previously stored results.\n",
        "\n",
        "***\n",
        "__Question 6__ Implement the class ```Memory``` that stores moves (in a replay buffer) via ```remember``` and provides a ```random_access``` to these. Specify a maximum memory size to avoid side effects. You can for example use a ```list()``` and set by default ```max_memory=100```."
      ]
    },
    {
      "cell_type": "code",
      "metadata": {
        "id": "QkrG8m3dIMxw",
        "colab_type": "code",
        "colab": {}
      },
      "source": [
        "class Memory(object):\n",
        "    def __init__(self, max_memory=100):\n",
        "        self.max_memory = max_memory\n",
        "        self.memory = list()\n",
        "\n",
        "    def remember(self, m):\n",
        "        if len(self.memory) > self.max_memory:\n",
        "            del self.memory[0]  # Keep the maximum number of recent moves\n",
        "\n",
        "        self.memory.append(m) # Add to replay buffer\n",
        "\n",
        "    def random_access(self):\n",
        "        return self.memory[np.random.randint(len(self.memory))]"
      ],
      "execution_count": 0,
      "outputs": []
    },
    {
      "cell_type": "markdown",
      "metadata": {
        "id": "igVFatcZIMxz",
        "colab_type": "text"
      },
      "source": [
        "***\n",
        "The pipeline we will use for training is given below:"
      ]
    },
    {
      "cell_type": "code",
      "metadata": {
        "id": "gYk2qAzwIMx0",
        "colab_type": "code",
        "colab": {}
      },
      "source": [
        "def train(agent,env,epoch,prefix=''):\n",
        "    # Number of won games\n",
        "    score = 0\n",
        "    loss = 0\n",
        "\n",
        "    for e in range(epoch):\n",
        "        # At each epoch, we restart to a fresh game and get the initial state\n",
        "        state = env.reset()\n",
        "        # This assumes that the games will terminate\n",
        "        game_over = False\n",
        "\n",
        "        win = 0\n",
        "        lose = 0\n",
        "\n",
        "        while not game_over:\n",
        "            # The agent performs an action\n",
        "            action = agent.act(state)\n",
        "\n",
        "            # Apply an action to the environment, get the next state, the reward\n",
        "            # and if the games end\n",
        "            prev_state = state\n",
        "            state, reward, game_over = env.act(action)\n",
        "\n",
        "            # Update the counters\n",
        "            if reward > 0:\n",
        "                win = win + reward\n",
        "            if reward < 0:\n",
        "                lose = lose -reward\n",
        "\n",
        "            # Apply the reinforcement strategy\n",
        "            loss = agent.reinforce(prev_state, state,  action, reward, game_over)\n",
        "\n",
        "        # Save as a mp4\n",
        "        if e % 10 == 0:\n",
        "            env.draw(prefix+str(e))\n",
        "\n",
        "        # Update stats\n",
        "        score += win-lose\n",
        "\n",
        "        print(\"Epoch {:03d}/{:03d} | Loss {:.4f} | Win/lose count {}/{} ({})\"\n",
        "              .format(e, epoch, loss, win, lose, win-lose))\n",
        "        agent.save(name_weights=prefix+'model.h5',name_model=prefix+'model.json')"
      ],
      "execution_count": 0,
      "outputs": []
    },
    {
      "cell_type": "markdown",
      "metadata": {
        "id": "18MVGKPXIMx4",
        "colab_type": "text"
      },
      "source": [
        "***\n",
        "__Question 7__ Implement the DQN training algorithm using a cascade of fully connected layers. You can use different learning rate, batch size or memory size parameters. In particular, the loss might oscillate while the player will start to win the games. You have to find a good criterium."
      ]
    },
    {
      "cell_type": "code",
      "metadata": {
        "id": "avAPi_aCIMx5",
        "colab_type": "code",
        "colab": {}
      },
      "source": [
        "class DQN(Agent):\n",
        "    def __init__(self, grid_size,  epsilon = 0.1, memory_size=100, batch_size = 16,n_state=2):\n",
        "        super(DQN, self).__init__(epsilon = epsilon)\n",
        "\n",
        "        # Discount for Q learning\n",
        "        self.discount = 0.99\n",
        "        \n",
        "        self.grid_size = grid_size\n",
        "        \n",
        "        # number of state\n",
        "        self.n_state = n_state\n",
        "\n",
        "        # Memory\n",
        "        self.memory = Memory(memory_size)\n",
        "        \n",
        "        # Batch size when learning\n",
        "        self.batch_size = batch_size\n",
        "\n",
        "    def learned_act(self, s):\n",
        "        return np.argmax(self.model.predict(s[None]))\n",
        "\n",
        "    def reinforce(self, s_, n_s_, a_, r_, game_over_):\n",
        "        # Two steps: first memorize the states, second learn from the pool\n",
        "\n",
        "        self.memory.remember([s_, n_s_, a_, r_, game_over_])\n",
        "        \n",
        "        # Arrays to store new batch\n",
        "        input_states = np.zeros((self.batch_size, 5,5,self.n_state))\n",
        "        input_new_states = np.zeros((self.batch_size, 5,5,self.n_state))\n",
        "        target_q = np.zeros((self.batch_size, 4))\n",
        "        q_next = np.zeros((self.batch_size, 4))\n",
        "        actions = np.zeros(self.batch_size, dtype = int)\n",
        "        rewards = np.zeros(self.batch_size)\n",
        "        over = []\n",
        "\n",
        "        # Batch creation\n",
        "        for i in range(self.batch_size):\n",
        "            # Sample one transition\n",
        "            s, n_s, a, r, game_over = self.memory.random_access()\n",
        "\n",
        "            # Put first state in batch\n",
        "            input_states[i,:,:,:] = s\n",
        "            # Put next state in batch\n",
        "            input_new_states[i,:,:,:] = n_s\n",
        "            # Put action in batch\n",
        "            actions[i] = int(a) \n",
        "            # Put reward in batch\n",
        "            rewards[i] = r\n",
        "            # Same for boolean game_over\n",
        "            over.append(game_over)\n",
        "\n",
        "        # First compute current model of Q(s_t, a_t, theta)\n",
        "        # Indeed, since we use a bootstrapped target (with a maximum) for\n",
        "        # a pair (s_t, a_t), only the value of Q(s_t, a_t, theta) is concerned,\n",
        "        # that is one unique action a_t for a given input s_t.\n",
        "        # For other actions than a_t for the input s_t, we keep the prediction\n",
        "        # of the current model\n",
        "        target_q[:,:] = self.model.predict(input_states)\n",
        "\n",
        "        # Compute the Q-function to maximize\n",
        "        q_next[:,:] = self.model.predict(input_new_states)\n",
        "\n",
        "        # Compute bootstrapped target for batched transitions\n",
        "        for i in range(self.batch_size):\n",
        "            if game_over:\n",
        "              target_q[i, actions[i]] = rewards[i] # q_next not defined at s_t+1 if game over\n",
        "            else:\n",
        "              target_q[i, actions[i]] = rewards[i] + self.discount * np.max(q_next[i, :])\n",
        "        \n",
        "        # HINT: Clip the target to avoid exploiding gradients.. -- clipping is a bit tighter\n",
        "        target_q = np.clip(target_q, -3, 3)\n",
        "\n",
        "        l = self.model.train_on_batch(input_states, target_q)\n",
        "\n",
        "        return l\n",
        "\n",
        "    def save(self,name_weights='model.h5',name_model='model.json'):\n",
        "        self.model.save_weights(name_weights, overwrite=True)\n",
        "        with open(name_model, \"w\") as outfile:\n",
        "            json.dump(self.model.to_json(), outfile)\n",
        "            \n",
        "    def load(self,name_weights='model.h5',name_model='model.json'):\n",
        "        with open(name_model, \"r\") as jfile:\n",
        "            model = model_from_json(json.load(jfile))\n",
        "        model.load_weights(name_weights)\n",
        "        model.compile(\"sgd\", \"mse\")\n",
        "        self.model = model\n",
        "\n",
        "            \n",
        "class DQN_FC(DQN):\n",
        "    def __init__(self, *args, lr=0.1,**kwargs):\n",
        "        super(DQN_FC, self).__init__( *args,**kwargs)\n",
        "        \n",
        "        # NN Model\n",
        "        model = Sequential()\n",
        "        model.add(Flatten(input_shape=(5, 5, self.n_state)))\n",
        "        model.add(Dense(16, activation=\"relu\"))\n",
        "        model.add(Dense(16, activation=\"relu\"))\n",
        "        model.add(Dense(4, activation=None))         \n",
        "        \n",
        "        model.compile(sgd(lr=lr, decay=1e-4, momentum=0.0), \"mse\")\n",
        "        self.model = model\n",
        "        "
      ],
      "execution_count": 0,
      "outputs": []
    },
    {
      "cell_type": "code",
      "metadata": {
        "id": "YZ8sF_J9IMx8",
        "colab_type": "code",
        "outputId": "d39b170d-bf0b-4169-dc8a-465b4cae53f9",
        "colab": {
          "base_uri": "https://localhost:8080/",
          "height": 1000
        }
      },
      "source": [
        "env = Environment(grid_size=size, max_time=T, temperature=0.3)\n",
        "agent = DQN_FC(size, lr=1, epsilon = 0.1, memory_size=2000, batch_size = 32)\n",
        "train(agent, env, 200, prefix='fc_train')\n",
        "HTML(display_videos('fc_train190.mp4'))"
      ],
      "execution_count": 13,
      "outputs": [
        {
          "output_type": "stream",
          "text": [
            "Epoch 000/200 | Loss 0.0039 | Win/lose count 2.5/4.0 (-1.5)\n",
            "Epoch 001/200 | Loss 0.0080 | Win/lose count 3.5/6.0 (-2.5)\n",
            "Epoch 002/200 | Loss 0.0091 | Win/lose count 6.0/1.0 (5.0)\n",
            "Epoch 003/200 | Loss 0.0066 | Win/lose count 0.5/4.0 (-3.5)\n",
            "Epoch 004/200 | Loss 0.0034 | Win/lose count 9.0/8.0 (1.0)\n",
            "Epoch 005/200 | Loss 0.0053 | Win/lose count 3.5/3.0 (0.5)\n",
            "Epoch 006/200 | Loss 0.0035 | Win/lose count 6.0/12.0 (-6.0)\n",
            "Epoch 007/200 | Loss 0.0118 | Win/lose count 9.5/3.0 (6.5)\n",
            "Epoch 008/200 | Loss 0.0010 | Win/lose count 2.0/2.0 (0.0)\n",
            "Epoch 009/200 | Loss 0.0021 | Win/lose count 3.5/5.0 (-1.5)\n",
            "Epoch 010/200 | Loss 0.0105 | Win/lose count 8.5/11.0 (-2.5)\n",
            "Epoch 011/200 | Loss 0.0028 | Win/lose count 9.5/2.0 (7.5)\n",
            "Epoch 012/200 | Loss 0.0040 | Win/lose count 7.0/6.0 (1.0)\n",
            "Epoch 013/200 | Loss 0.0127 | Win/lose count 7.5/6.0 (1.5)\n",
            "Epoch 014/200 | Loss 0.0044 | Win/lose count 5.0/1.0 (4.0)\n",
            "Epoch 015/200 | Loss 0.0014 | Win/lose count 4.0/5.0 (-1.0)\n",
            "Epoch 016/200 | Loss 0.0029 | Win/lose count 8.5/2.0 (6.5)\n",
            "Epoch 017/200 | Loss 0.0013 | Win/lose count 3.0/1.0 (2.0)\n",
            "Epoch 018/200 | Loss 0.0011 | Win/lose count 10.5/5.0 (5.5)\n",
            "Epoch 019/200 | Loss 0.0048 | Win/lose count 4.0/1.0 (3.0)\n",
            "Epoch 020/200 | Loss 0.0045 | Win/lose count 6.5/3.0 (3.5)\n",
            "Epoch 021/200 | Loss 0.0031 | Win/lose count 9.0/5.0 (4.0)\n",
            "Epoch 022/200 | Loss 0.0014 | Win/lose count 9.5/6.0 (3.5)\n",
            "Epoch 023/200 | Loss 0.0006 | Win/lose count 6.5/3.0 (3.5)\n",
            "Epoch 024/200 | Loss 0.0021 | Win/lose count 12.0/1.0 (11.0)\n",
            "Epoch 025/200 | Loss 0.0008 | Win/lose count 13.5/3.0 (10.5)\n",
            "Epoch 026/200 | Loss 0.0026 | Win/lose count 10.0/1.0 (9.0)\n",
            "Epoch 027/200 | Loss 0.0013 | Win/lose count 9.5/4.0 (5.5)\n",
            "Epoch 028/200 | Loss 0.0025 | Win/lose count 10.0/4.0 (6.0)\n",
            "Epoch 029/200 | Loss 0.0038 | Win/lose count 10.0/4.0 (6.0)\n",
            "Epoch 030/200 | Loss 0.0007 | Win/lose count 9.0/7.0 (2.0)\n",
            "Epoch 031/200 | Loss 0.0011 | Win/lose count 4.0/0 (4.0)\n",
            "Epoch 032/200 | Loss 0.0009 | Win/lose count 11.0/2.0 (9.0)\n",
            "Epoch 033/200 | Loss 0.0010 | Win/lose count 10.0/5.0 (5.0)\n",
            "Epoch 034/200 | Loss 0.0078 | Win/lose count 12.5/1.0 (11.5)\n",
            "Epoch 035/200 | Loss 0.0012 | Win/lose count 11.0/4.0 (7.0)\n",
            "Epoch 036/200 | Loss 0.0006 | Win/lose count 4.0/1.0 (3.0)\n",
            "Epoch 037/200 | Loss 0.0042 | Win/lose count 14.0/4.0 (10.0)\n",
            "Epoch 038/200 | Loss 0.0019 | Win/lose count 10.5/7.0 (3.5)\n",
            "Epoch 039/200 | Loss 0.0010 | Win/lose count 10.5/3.0 (7.5)\n",
            "Epoch 040/200 | Loss 0.0032 | Win/lose count 9.5/3.0 (6.5)\n",
            "Epoch 041/200 | Loss 0.0067 | Win/lose count 7.0/7.0 (0.0)\n",
            "Epoch 042/200 | Loss 0.0042 | Win/lose count 16.0/2.0 (14.0)\n",
            "Epoch 043/200 | Loss 0.0039 | Win/lose count 5.5/8.0 (-2.5)\n",
            "Epoch 044/200 | Loss 0.0016 | Win/lose count 3.0/5.0 (-2.0)\n",
            "Epoch 045/200 | Loss 0.0013 | Win/lose count 18.5/3.0 (15.5)\n",
            "Epoch 046/200 | Loss 0.0009 | Win/lose count 3.0/1.0 (2.0)\n",
            "Epoch 047/200 | Loss 0.0014 | Win/lose count 17.5/1.0 (16.5)\n",
            "Epoch 048/200 | Loss 0.0015 | Win/lose count 2.0/2.0 (0.0)\n",
            "Epoch 049/200 | Loss 0.0127 | Win/lose count 16.0/3.0 (13.0)\n",
            "Epoch 050/200 | Loss 0.0023 | Win/lose count 18.5/4.0 (14.5)\n",
            "Epoch 051/200 | Loss 0.0007 | Win/lose count 5.5/0 (5.5)\n",
            "Epoch 052/200 | Loss 0.0015 | Win/lose count 26.0/3.0 (23.0)\n",
            "Epoch 053/200 | Loss 0.0014 | Win/lose count 9.5/2.0 (7.5)\n",
            "Epoch 054/200 | Loss 0.0021 | Win/lose count 15.0/3.0 (12.0)\n",
            "Epoch 055/200 | Loss 0.0009 | Win/lose count 9.0/4.0 (5.0)\n",
            "Epoch 056/200 | Loss 0.0006 | Win/lose count 11.0/6.0 (5.0)\n",
            "Epoch 057/200 | Loss 0.0087 | Win/lose count 13.0/2.0 (11.0)\n",
            "Epoch 058/200 | Loss 0.0007 | Win/lose count 1.0/7.0 (-6.0)\n",
            "Epoch 059/200 | Loss 0.0004 | Win/lose count 12.5/3.0 (9.5)\n",
            "Epoch 060/200 | Loss 0.0015 | Win/lose count 7.5/2.0 (5.5)\n",
            "Epoch 061/200 | Loss 0.0007 | Win/lose count 8.5/3.0 (5.5)\n",
            "Epoch 062/200 | Loss 0.0011 | Win/lose count 12.0/3.0 (9.0)\n",
            "Epoch 063/200 | Loss 0.0015 | Win/lose count 15.5/1.0 (14.5)\n",
            "Epoch 064/200 | Loss 0.0028 | Win/lose count 13.0/2.0 (11.0)\n",
            "Epoch 065/200 | Loss 0.0005 | Win/lose count 6.0/1.0 (5.0)\n",
            "Epoch 066/200 | Loss 0.0016 | Win/lose count 8.5/3.0 (5.5)\n",
            "Epoch 067/200 | Loss 0.0024 | Win/lose count 9.0/3.0 (6.0)\n",
            "Epoch 068/200 | Loss 0.0019 | Win/lose count 13.5/3.0 (10.5)\n",
            "Epoch 069/200 | Loss 0.0018 | Win/lose count 20.5/4.0 (16.5)\n",
            "Epoch 070/200 | Loss 0.0011 | Win/lose count 7.0/2.0 (5.0)\n",
            "Epoch 071/200 | Loss 0.0021 | Win/lose count 12.5/4.0 (8.5)\n",
            "Epoch 072/200 | Loss 0.0029 | Win/lose count 16.0/1.0 (15.0)\n",
            "Epoch 073/200 | Loss 0.0011 | Win/lose count 9.0/2.0 (7.0)\n",
            "Epoch 074/200 | Loss 0.0012 | Win/lose count 18.5/4.0 (14.5)\n",
            "Epoch 075/200 | Loss 0.0010 | Win/lose count 18.0/3.0 (15.0)\n",
            "Epoch 076/200 | Loss 0.0018 | Win/lose count 19.5/5.0 (14.5)\n",
            "Epoch 077/200 | Loss 0.0015 | Win/lose count 9.5/3.0 (6.5)\n",
            "Epoch 078/200 | Loss 0.0010 | Win/lose count 10.5/4.0 (6.5)\n",
            "Epoch 079/200 | Loss 0.0021 | Win/lose count 16.5/7.0 (9.5)\n",
            "Epoch 080/200 | Loss 0.0104 | Win/lose count 8.0/4.0 (4.0)\n",
            "Epoch 081/200 | Loss 0.0017 | Win/lose count 14.0/2.0 (12.0)\n",
            "Epoch 082/200 | Loss 0.0005 | Win/lose count 5.0/0 (5.0)\n",
            "Epoch 083/200 | Loss 0.0013 | Win/lose count 16.0/5.0 (11.0)\n",
            "Epoch 084/200 | Loss 0.0005 | Win/lose count 14.0/2.0 (12.0)\n",
            "Epoch 085/200 | Loss 0.0008 | Win/lose count 17.0/5.0 (12.0)\n",
            "Epoch 086/200 | Loss 0.0006 | Win/lose count 14.5/5.0 (9.5)\n",
            "Epoch 087/200 | Loss 0.0008 | Win/lose count 11.5/0 (11.5)\n",
            "Epoch 088/200 | Loss 0.0015 | Win/lose count 15.0/1.0 (14.0)\n",
            "Epoch 089/200 | Loss 0.0011 | Win/lose count 13.0/5.0 (8.0)\n",
            "Epoch 090/200 | Loss 0.0007 | Win/lose count 3.0/4.0 (-1.0)\n",
            "Epoch 091/200 | Loss 0.0005 | Win/lose count 17.5/3.0 (14.5)\n",
            "Epoch 092/200 | Loss 0.0018 | Win/lose count 12.0/1.0 (11.0)\n",
            "Epoch 093/200 | Loss 0.0029 | Win/lose count 20.5/6.0 (14.5)\n",
            "Epoch 094/200 | Loss 0.0013 | Win/lose count 15.0/2.0 (13.0)\n",
            "Epoch 095/200 | Loss 0.0006 | Win/lose count 15.0/3.0 (12.0)\n",
            "Epoch 096/200 | Loss 0.0014 | Win/lose count 10.5/4.0 (6.5)\n",
            "Epoch 097/200 | Loss 0.0017 | Win/lose count 5.0/0 (5.0)\n",
            "Epoch 098/200 | Loss 0.0009 | Win/lose count 10.5/4.0 (6.5)\n",
            "Epoch 099/200 | Loss 0.0008 | Win/lose count 15.0/0 (15.0)\n",
            "Epoch 100/200 | Loss 0.0017 | Win/lose count 25.5/4.0 (21.5)\n",
            "Epoch 101/200 | Loss 0.0007 | Win/lose count 10.5/1.0 (9.5)\n",
            "Epoch 102/200 | Loss 0.0025 | Win/lose count 5.5/4.0 (1.5)\n",
            "Epoch 103/200 | Loss 0.0012 | Win/lose count 17.5/2.0 (15.5)\n",
            "Epoch 104/200 | Loss 0.0009 | Win/lose count 9.5/5.0 (4.5)\n",
            "Epoch 105/200 | Loss 0.0012 | Win/lose count 6.5/2.0 (4.5)\n",
            "Epoch 106/200 | Loss 0.0018 | Win/lose count 10.5/3.0 (7.5)\n",
            "Epoch 107/200 | Loss 0.0007 | Win/lose count 23.5/2.0 (21.5)\n",
            "Epoch 108/200 | Loss 0.0010 | Win/lose count 5.5/1.0 (4.5)\n",
            "Epoch 109/200 | Loss 0.0022 | Win/lose count 16.0/4.0 (12.0)\n",
            "Epoch 110/200 | Loss 0.0052 | Win/lose count 13.0/4.0 (9.0)\n",
            "Epoch 111/200 | Loss 0.0024 | Win/lose count 17.5/6.0 (11.5)\n",
            "Epoch 112/200 | Loss 0.0059 | Win/lose count 12.0/1.0 (11.0)\n",
            "Epoch 113/200 | Loss 0.0019 | Win/lose count 11.0/3.0 (8.0)\n",
            "Epoch 114/200 | Loss 0.0025 | Win/lose count 7.0/3.0 (4.0)\n",
            "Epoch 115/200 | Loss 0.0010 | Win/lose count 19.5/3.0 (16.5)\n",
            "Epoch 116/200 | Loss 0.0022 | Win/lose count 9.0/5.0 (4.0)\n",
            "Epoch 117/200 | Loss 0.0012 | Win/lose count 10.0/3.0 (7.0)\n",
            "Epoch 118/200 | Loss 0.0011 | Win/lose count 17.0/4.0 (13.0)\n",
            "Epoch 119/200 | Loss 0.0008 | Win/lose count 25.0/0 (25.0)\n",
            "Epoch 120/200 | Loss 0.0011 | Win/lose count 6.0/5.0 (1.0)\n",
            "Epoch 121/200 | Loss 0.0020 | Win/lose count 9.0/1.0 (8.0)\n",
            "Epoch 122/200 | Loss 0.0015 | Win/lose count 16.5/2.0 (14.5)\n",
            "Epoch 123/200 | Loss 0.0010 | Win/lose count 16.0/3.0 (13.0)\n",
            "Epoch 124/200 | Loss 0.0009 | Win/lose count 12.5/2.0 (10.5)\n",
            "Epoch 125/200 | Loss 0.0009 | Win/lose count 8.5/0 (8.5)\n",
            "Epoch 126/200 | Loss 0.0023 | Win/lose count 17.0/4.0 (13.0)\n",
            "Epoch 127/200 | Loss 0.0019 | Win/lose count 12.5/3.0 (9.5)\n",
            "Epoch 128/200 | Loss 0.0022 | Win/lose count 18.0/3.0 (15.0)\n",
            "Epoch 129/200 | Loss 0.0029 | Win/lose count 22.5/4.0 (18.5)\n",
            "Epoch 130/200 | Loss 0.0091 | Win/lose count 11.5/1.0 (10.5)\n",
            "Epoch 131/200 | Loss 0.0044 | Win/lose count 18.5/4.0 (14.5)\n",
            "Epoch 132/200 | Loss 0.0014 | Win/lose count 13.0/3.0 (10.0)\n",
            "Epoch 133/200 | Loss 0.0013 | Win/lose count 21.5/1.0 (20.5)\n",
            "Epoch 134/200 | Loss 0.0018 | Win/lose count 16.0/3.0 (13.0)\n",
            "Epoch 135/200 | Loss 0.0014 | Win/lose count 10.0/2.0 (8.0)\n",
            "Epoch 136/200 | Loss 0.0016 | Win/lose count 7.5/1.0 (6.5)\n",
            "Epoch 137/200 | Loss 0.0011 | Win/lose count 12.5/5.0 (7.5)\n",
            "Epoch 138/200 | Loss 0.0012 | Win/lose count 17.0/1.0 (16.0)\n",
            "Epoch 139/200 | Loss 0.0012 | Win/lose count 20.0/4.0 (16.0)\n",
            "Epoch 140/200 | Loss 0.0058 | Win/lose count 14.5/1.0 (13.5)\n",
            "Epoch 141/200 | Loss 0.0014 | Win/lose count 16.0/3.0 (13.0)\n",
            "Epoch 142/200 | Loss 0.0029 | Win/lose count 5.0/2.0 (3.0)\n",
            "Epoch 143/200 | Loss 0.0006 | Win/lose count 19.5/2.0 (17.5)\n",
            "Epoch 144/200 | Loss 0.0007 | Win/lose count 19.5/2.0 (17.5)\n",
            "Epoch 145/200 | Loss 0.0014 | Win/lose count 22.5/2.0 (20.5)\n",
            "Epoch 146/200 | Loss 0.0018 | Win/lose count 22.0/2.0 (20.0)\n",
            "Epoch 147/200 | Loss 0.0006 | Win/lose count 24.5/4.0 (20.5)\n",
            "Epoch 148/200 | Loss 0.0010 | Win/lose count 11.5/1.0 (10.5)\n",
            "Epoch 149/200 | Loss 0.0012 | Win/lose count 9.5/0 (9.5)\n",
            "Epoch 150/200 | Loss 0.0078 | Win/lose count 18.0/3.0 (15.0)\n",
            "Epoch 151/200 | Loss 0.0014 | Win/lose count 12.0/2.0 (10.0)\n",
            "Epoch 152/200 | Loss 0.0016 | Win/lose count 11.5/3.0 (8.5)\n",
            "Epoch 153/200 | Loss 0.0014 | Win/lose count 11.5/5.0 (6.5)\n",
            "Epoch 154/200 | Loss 0.0015 | Win/lose count 16.5/2.0 (14.5)\n",
            "Epoch 155/200 | Loss 0.0064 | Win/lose count 18.0/3.0 (15.0)\n",
            "Epoch 156/200 | Loss 0.0028 | Win/lose count 11.0/6.0 (5.0)\n",
            "Epoch 157/200 | Loss 0.0027 | Win/lose count 16.5/5.0 (11.5)\n",
            "Epoch 158/200 | Loss 0.0014 | Win/lose count 14.0/0 (14.0)\n",
            "Epoch 159/200 | Loss 0.0025 | Win/lose count 17.0/3.0 (14.0)\n",
            "Epoch 160/200 | Loss 0.0016 | Win/lose count 9.5/7.0 (2.5)\n",
            "Epoch 161/200 | Loss 0.0005 | Win/lose count 21.5/7.0 (14.5)\n",
            "Epoch 162/200 | Loss 0.0018 | Win/lose count 12.5/2.0 (10.5)\n",
            "Epoch 163/200 | Loss 0.0009 | Win/lose count 25.0/4.0 (21.0)\n",
            "Epoch 164/200 | Loss 0.0011 | Win/lose count 12.0/5.0 (7.0)\n",
            "Epoch 165/200 | Loss 0.0023 | Win/lose count 15.0/4.0 (11.0)\n",
            "Epoch 166/200 | Loss 0.0005 | Win/lose count 3.0/2.0 (1.0)\n",
            "Epoch 167/200 | Loss 0.0018 | Win/lose count 14.5/1.0 (13.5)\n",
            "Epoch 168/200 | Loss 0.0035 | Win/lose count 14.5/0 (14.5)\n",
            "Epoch 169/200 | Loss 0.0025 | Win/lose count 18.0/2.0 (16.0)\n",
            "Epoch 170/200 | Loss 0.0023 | Win/lose count 17.5/0 (17.5)\n",
            "Epoch 171/200 | Loss 0.0020 | Win/lose count 16.0/2.0 (14.0)\n",
            "Epoch 172/200 | Loss 0.0006 | Win/lose count 9.0/1.0 (8.0)\n",
            "Epoch 173/200 | Loss 0.0015 | Win/lose count 3.5/2.0 (1.5)\n",
            "Epoch 174/200 | Loss 0.0022 | Win/lose count 10.0/3.0 (7.0)\n",
            "Epoch 175/200 | Loss 0.0016 | Win/lose count 2.5/0 (2.5)\n",
            "Epoch 176/200 | Loss 0.0010 | Win/lose count 18.5/0 (18.5)\n",
            "Epoch 177/200 | Loss 0.0012 | Win/lose count 10.5/3.0 (7.5)\n",
            "Epoch 178/200 | Loss 0.0017 | Win/lose count 17.0/4.0 (13.0)\n",
            "Epoch 179/200 | Loss 0.0012 | Win/lose count 14.0/0 (14.0)\n",
            "Epoch 180/200 | Loss 0.0011 | Win/lose count 24.5/6.0 (18.5)\n",
            "Epoch 181/200 | Loss 0.0010 | Win/lose count 19.0/2.0 (17.0)\n",
            "Epoch 182/200 | Loss 0.0017 | Win/lose count 12.5/2.0 (10.5)\n",
            "Epoch 183/200 | Loss 0.0011 | Win/lose count 6.5/1.0 (5.5)\n",
            "Epoch 184/200 | Loss 0.0007 | Win/lose count 15.0/1.0 (14.0)\n",
            "Epoch 185/200 | Loss 0.0013 | Win/lose count 8.5/0 (8.5)\n",
            "Epoch 186/200 | Loss 0.0016 | Win/lose count 6.5/0 (6.5)\n",
            "Epoch 187/200 | Loss 0.0020 | Win/lose count 13.5/2.0 (11.5)\n",
            "Epoch 188/200 | Loss 0.0016 | Win/lose count 15.5/2.0 (13.5)\n",
            "Epoch 189/200 | Loss 0.0010 | Win/lose count 18.0/1.0 (17.0)\n",
            "Epoch 190/200 | Loss 0.0006 | Win/lose count 15.0/2.0 (13.0)\n",
            "Epoch 191/200 | Loss 0.0005 | Win/lose count 9.5/2.0 (7.5)\n",
            "Epoch 192/200 | Loss 0.0013 | Win/lose count 16.0/2.0 (14.0)\n",
            "Epoch 193/200 | Loss 0.0029 | Win/lose count 11.5/3.0 (8.5)\n",
            "Epoch 194/200 | Loss 0.0015 | Win/lose count 18.0/3.0 (15.0)\n",
            "Epoch 195/200 | Loss 0.0024 | Win/lose count 13.0/5.0 (8.0)\n",
            "Epoch 196/200 | Loss 0.0027 | Win/lose count 20.0/0 (20.0)\n",
            "Epoch 197/200 | Loss 0.0010 | Win/lose count 14.0/4.0 (10.0)\n",
            "Epoch 198/200 | Loss 0.0020 | Win/lose count 12.5/2.0 (10.5)\n",
            "Epoch 199/200 | Loss 0.0019 | Win/lose count 18.0/6.0 (12.0)\n"
          ],
          "name": "stdout"
        },
        {
          "output_type": "execute_result",
          "data": {
            "text/html": [
              "<video alt=\"test\" controls>\n",
              "                <source src=\"data:video/mp4;base64,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\" type=\"video/mp4\" />\n",
              "             </video>"
            ],
            "text/plain": [
              "<IPython.core.display.HTML object>"
            ]
          },
          "metadata": {
            "tags": []
          },
          "execution_count": 13
        }
      ]
    },
    {
      "cell_type": "markdown",
      "metadata": {
        "id": "hTqQ_umHIMx-",
        "colab_type": "text"
      },
      "source": [
        "***\n",
        "***\n",
        "__Question 8__ Implement the DQN training algorithm using a CNN (for example, 2 convolutional layers and one final fully connected layer)."
      ]
    },
    {
      "cell_type": "code",
      "metadata": {
        "id": "9m-_LUFFIMx_",
        "colab_type": "code",
        "colab": {}
      },
      "source": [
        "class DQN_CNN(DQN):\n",
        "    def __init__(self, *args,lr=0.1,**kwargs):\n",
        "        super(DQN_CNN, self).__init__(*args,**kwargs)\n",
        "                \n",
        "        model = Sequential([\n",
        "            Conv2D(32, 3, input_shape=(5, 5, self.n_state), activation='relu', padding=\"same\"),\n",
        "            Conv2D(64, 3, activation='relu', padding=\"same\"),\n",
        "            #Conv2D(32, 3, activation='relu', padding=\"same\"),\n",
        "            Flatten(),\n",
        "            Dense(self.n_action)  # output\n",
        "        ])\n",
        "        \n",
        "        model.summary()        \n",
        "        model.compile(sgd(lr=lr, decay=1e-4, momentum=0.0), \"mse\")\n",
        "        self.model = model"
      ],
      "execution_count": 0,
      "outputs": []
    },
    {
      "cell_type": "code",
      "metadata": {
        "id": "HLFS9vWNIMyB",
        "colab_type": "code",
        "outputId": "9b8d6305-f5ad-4264-ef8e-6cbd1c1d6f2e",
        "colab": {
          "base_uri": "https://localhost:8080/",
          "height": 1000
        }
      },
      "source": [
        "env = Environment(grid_size=size, max_time=T, temperature=0.3)\n",
        "agent = DQN_CNN(size, lr=1, epsilon = 0.1, memory_size=2000, batch_size = 32)\n",
        "train(agent,env,200,prefix='cnn_train')\n",
        "HTML(display_videos('cnn_train190.mp4'))"
      ],
      "execution_count": 15,
      "outputs": [
        {
          "output_type": "stream",
          "text": [
            "Model: \"sequential_3\"\n",
            "_________________________________________________________________\n",
            "Layer (type)                 Output Shape              Param #   \n",
            "=================================================================\n",
            "conv2d_1 (Conv2D)            (None, 5, 5, 32)          608       \n",
            "_________________________________________________________________\n",
            "conv2d_2 (Conv2D)            (None, 5, 5, 64)          18496     \n",
            "_________________________________________________________________\n",
            "flatten_3 (Flatten)          (None, 1600)              0         \n",
            "_________________________________________________________________\n",
            "dense_7 (Dense)              (None, 4)                 6404      \n",
            "=================================================================\n",
            "Total params: 25,508\n",
            "Trainable params: 25,508\n",
            "Non-trainable params: 0\n",
            "_________________________________________________________________\n",
            "Epoch 000/200 | Loss 0.0045 | Win/lose count 6.0/7.0 (-1.0)\n",
            "Epoch 001/200 | Loss 0.0022 | Win/lose count 8.0/6.0 (2.0)\n",
            "Epoch 002/200 | Loss 0.0050 | Win/lose count 4.5/3.0 (1.5)\n",
            "Epoch 003/200 | Loss 0.0181 | Win/lose count 9.0/12.0 (-3.0)\n",
            "Epoch 004/200 | Loss 0.0097 | Win/lose count 5.0/7.0 (-2.0)\n",
            "Epoch 005/200 | Loss 0.0097 | Win/lose count 5.0/6.0 (-1.0)\n",
            "Epoch 006/200 | Loss 0.0022 | Win/lose count 9.0/5.0 (4.0)\n",
            "Epoch 007/200 | Loss 0.0012 | Win/lose count 10.0/8.0 (2.0)\n",
            "Epoch 008/200 | Loss 0.0031 | Win/lose count 3.5/1.0 (2.5)\n",
            "Epoch 009/200 | Loss 0.0020 | Win/lose count 10.5/4.0 (6.5)\n",
            "Epoch 010/200 | Loss 0.0011 | Win/lose count 7.0/4.0 (3.0)\n",
            "Epoch 011/200 | Loss 0.0018 | Win/lose count 9.5/5.0 (4.5)\n",
            "Epoch 012/200 | Loss 0.0037 | Win/lose count 5.0/1.0 (4.0)\n",
            "Epoch 013/200 | Loss 0.0008 | Win/lose count 4.5/4.0 (0.5)\n",
            "Epoch 014/200 | Loss 0.0013 | Win/lose count 12.0/4.0 (8.0)\n",
            "Epoch 015/200 | Loss 0.0076 | Win/lose count 4.5/3.0 (1.5)\n",
            "Epoch 016/200 | Loss 0.0009 | Win/lose count 8.5/2.0 (6.5)\n",
            "Epoch 017/200 | Loss 0.0014 | Win/lose count 6.0/1.0 (5.0)\n",
            "Epoch 018/200 | Loss 0.0005 | Win/lose count 8.0/2.0 (6.0)\n",
            "Epoch 019/200 | Loss 0.0004 | Win/lose count 7.5/3.0 (4.5)\n",
            "Epoch 020/200 | Loss 0.0005 | Win/lose count 6.5/3.0 (3.5)\n",
            "Epoch 021/200 | Loss 0.0010 | Win/lose count 3.5/2.0 (1.5)\n",
            "Epoch 022/200 | Loss 0.0031 | Win/lose count 12.0/2.0 (10.0)\n",
            "Epoch 023/200 | Loss 0.0006 | Win/lose count 7.5/3.0 (4.5)\n",
            "Epoch 024/200 | Loss 0.0003 | Win/lose count 11.0/2.0 (9.0)\n",
            "Epoch 025/200 | Loss 0.0003 | Win/lose count 9.5/2.0 (7.5)\n",
            "Epoch 026/200 | Loss 0.0005 | Win/lose count 17.0/6.0 (11.0)\n",
            "Epoch 027/200 | Loss 0.0005 | Win/lose count 6.5/0 (6.5)\n",
            "Epoch 028/200 | Loss 0.0029 | Win/lose count 7.0/6.0 (1.0)\n",
            "Epoch 029/200 | Loss 0.0007 | Win/lose count 16.5/7.0 (9.5)\n",
            "Epoch 030/200 | Loss 0.0004 | Win/lose count 5.5/4.0 (1.5)\n",
            "Epoch 031/200 | Loss 0.0008 | Win/lose count 7.0/1.0 (6.0)\n",
            "Epoch 032/200 | Loss 0.0020 | Win/lose count 5.5/4.0 (1.5)\n",
            "Epoch 033/200 | Loss 0.0004 | Win/lose count 13.0/4.0 (9.0)\n",
            "Epoch 034/200 | Loss 0.0007 | Win/lose count 6.5/1.0 (5.5)\n",
            "Epoch 035/200 | Loss 0.0004 | Win/lose count 12.5/4.0 (8.5)\n",
            "Epoch 036/200 | Loss 0.0005 | Win/lose count 7.0/0 (7.0)\n",
            "Epoch 037/200 | Loss 0.0003 | Win/lose count 7.5/4.0 (3.5)\n",
            "Epoch 038/200 | Loss 0.0014 | Win/lose count 10.0/3.0 (7.0)\n",
            "Epoch 039/200 | Loss 0.0011 | Win/lose count 7.5/2.0 (5.5)\n",
            "Epoch 040/200 | Loss 0.0009 | Win/lose count 19.0/1.0 (18.0)\n",
            "Epoch 041/200 | Loss 0.0008 | Win/lose count 20.0/1.0 (19.0)\n",
            "Epoch 042/200 | Loss 0.0006 | Win/lose count 25.5/3.0 (22.5)\n",
            "Epoch 043/200 | Loss 0.0014 | Win/lose count 7.0/3.0 (4.0)\n",
            "Epoch 044/200 | Loss 0.0047 | Win/lose count 14.0/4.0 (10.0)\n",
            "Epoch 045/200 | Loss 0.0016 | Win/lose count 18.0/5.0 (13.0)\n",
            "Epoch 046/200 | Loss 0.0023 | Win/lose count 19.0/4.0 (15.0)\n",
            "Epoch 047/200 | Loss 0.0015 | Win/lose count 18.0/5.0 (13.0)\n",
            "Epoch 048/200 | Loss 0.0006 | Win/lose count 23.0/4.0 (19.0)\n",
            "Epoch 049/200 | Loss 0.0013 | Win/lose count 18.5/4.0 (14.5)\n",
            "Epoch 050/200 | Loss 0.0010 | Win/lose count 17.5/6.0 (11.5)\n",
            "Epoch 051/200 | Loss 0.0031 | Win/lose count 10.0/7.0 (3.0)\n",
            "Epoch 052/200 | Loss 0.0011 | Win/lose count 18.5/3.0 (15.5)\n",
            "Epoch 053/200 | Loss 0.0019 | Win/lose count 18.5/6.0 (12.5)\n",
            "Epoch 054/200 | Loss 0.0015 | Win/lose count 23.0/2.0 (21.0)\n",
            "Epoch 055/200 | Loss 0.0042 | Win/lose count 21.0/5.0 (16.0)\n",
            "Epoch 056/200 | Loss 0.0050 | Win/lose count 16.5/1.0 (15.5)\n",
            "Epoch 057/200 | Loss 0.0049 | Win/lose count 21.5/4.0 (17.5)\n",
            "Epoch 058/200 | Loss 0.0057 | Win/lose count 15.0/3.0 (12.0)\n",
            "Epoch 059/200 | Loss 0.0070 | Win/lose count 23.0/2.0 (21.0)\n",
            "Epoch 060/200 | Loss 0.0011 | Win/lose count 17.0/4.0 (13.0)\n",
            "Epoch 061/200 | Loss 0.0004 | Win/lose count 19.0/4.0 (15.0)\n",
            "Epoch 062/200 | Loss 0.0006 | Win/lose count 21.5/2.0 (19.5)\n",
            "Epoch 063/200 | Loss 0.0003 | Win/lose count 16.5/1.0 (15.5)\n",
            "Epoch 064/200 | Loss 0.0011 | Win/lose count 13.0/2.0 (11.0)\n",
            "Epoch 065/200 | Loss 0.0003 | Win/lose count 15.5/1.0 (14.5)\n",
            "Epoch 066/200 | Loss 0.0050 | Win/lose count 20.0/4.0 (16.0)\n",
            "Epoch 067/200 | Loss 0.0015 | Win/lose count 24.5/3.0 (21.5)\n",
            "Epoch 068/200 | Loss 0.0009 | Win/lose count 23.5/3.0 (20.5)\n",
            "Epoch 069/200 | Loss 0.0011 | Win/lose count 22.0/5.0 (17.0)\n",
            "Epoch 070/200 | Loss 0.0010 | Win/lose count 24.0/2.0 (22.0)\n",
            "Epoch 071/200 | Loss 0.0015 | Win/lose count 21.0/2.0 (19.0)\n",
            "Epoch 072/200 | Loss 0.0011 | Win/lose count 13.0/4.0 (9.0)\n",
            "Epoch 073/200 | Loss 0.0008 | Win/lose count 27.0/3.0 (24.0)\n",
            "Epoch 074/200 | Loss 0.0014 | Win/lose count 22.0/2.0 (20.0)\n",
            "Epoch 075/200 | Loss 0.0008 | Win/lose count 9.5/2.0 (7.5)\n",
            "Epoch 076/200 | Loss 0.0016 | Win/lose count 14.0/9.0 (5.0)\n",
            "Epoch 077/200 | Loss 0.0007 | Win/lose count 23.0/0 (23.0)\n",
            "Epoch 078/200 | Loss 0.0023 | Win/lose count 9.5/4.0 (5.5)\n",
            "Epoch 079/200 | Loss 0.0009 | Win/lose count 24.5/5.0 (19.5)\n",
            "Epoch 080/200 | Loss 0.0078 | Win/lose count 15.5/2.0 (13.5)\n",
            "Epoch 081/200 | Loss 0.0008 | Win/lose count 13.5/2.0 (11.5)\n",
            "Epoch 082/200 | Loss 0.0007 | Win/lose count 10.5/5.0 (5.5)\n",
            "Epoch 083/200 | Loss 0.0006 | Win/lose count 18.0/2.0 (16.0)\n",
            "Epoch 084/200 | Loss 0.0009 | Win/lose count 18.0/4.0 (14.0)\n",
            "Epoch 085/200 | Loss 0.0023 | Win/lose count 18.0/3.0 (15.0)\n",
            "Epoch 086/200 | Loss 0.0005 | Win/lose count 16.5/4.0 (12.5)\n",
            "Epoch 087/200 | Loss 0.0014 | Win/lose count 20.0/3.0 (17.0)\n",
            "Epoch 088/200 | Loss 0.0049 | Win/lose count 15.5/2.0 (13.5)\n",
            "Epoch 089/200 | Loss 0.0023 | Win/lose count 26.5/4.0 (22.5)\n",
            "Epoch 090/200 | Loss 0.0012 | Win/lose count 24.0/6.0 (18.0)\n",
            "Epoch 091/200 | Loss 0.0020 | Win/lose count 17.0/2.0 (15.0)\n",
            "Epoch 092/200 | Loss 0.0032 | Win/lose count 18.5/2.0 (16.5)\n",
            "Epoch 093/200 | Loss 0.0010 | Win/lose count 15.0/5.0 (10.0)\n",
            "Epoch 094/200 | Loss 1.6954 | Win/lose count 3.5/0 (3.5)\n",
            "Epoch 095/200 | Loss 0.0011 | Win/lose count 17.0/5.0 (12.0)\n",
            "Epoch 096/200 | Loss 0.0014 | Win/lose count 13.5/2.0 (11.5)\n",
            "Epoch 097/200 | Loss 0.0008 | Win/lose count 21.0/5.0 (16.0)\n",
            "Epoch 098/200 | Loss 0.0008 | Win/lose count 13.0/3.0 (10.0)\n",
            "Epoch 099/200 | Loss 0.0038 | Win/lose count 16.5/6.0 (10.5)\n",
            "Epoch 100/200 | Loss 0.0016 | Win/lose count 21.0/2.0 (19.0)\n",
            "Epoch 101/200 | Loss 0.0012 | Win/lose count 10.5/2.0 (8.5)\n",
            "Epoch 102/200 | Loss 0.0011 | Win/lose count 25.5/1.0 (24.5)\n",
            "Epoch 103/200 | Loss 0.0008 | Win/lose count 15.0/2.0 (13.0)\n",
            "Epoch 104/200 | Loss 0.0006 | Win/lose count 9.5/3.0 (6.5)\n",
            "Epoch 105/200 | Loss 0.0016 | Win/lose count 22.0/2.0 (20.0)\n",
            "Epoch 106/200 | Loss 0.0005 | Win/lose count 24.5/3.0 (21.5)\n",
            "Epoch 107/200 | Loss 0.0049 | Win/lose count 22.0/3.0 (19.0)\n",
            "Epoch 108/200 | Loss 0.0005 | Win/lose count 28.0/6.0 (22.0)\n",
            "Epoch 109/200 | Loss 0.0010 | Win/lose count 17.5/3.0 (14.5)\n",
            "Epoch 110/200 | Loss 0.0013 | Win/lose count 11.5/1.0 (10.5)\n",
            "Epoch 111/200 | Loss 0.0016 | Win/lose count 19.0/4.0 (15.0)\n",
            "Epoch 112/200 | Loss 0.0010 | Win/lose count 9.0/1.0 (8.0)\n",
            "Epoch 113/200 | Loss 0.0014 | Win/lose count 26.0/3.0 (23.0)\n",
            "Epoch 114/200 | Loss 0.0014 | Win/lose count 15.5/2.0 (13.5)\n",
            "Epoch 115/200 | Loss 0.0013 | Win/lose count 5.0/1.0 (4.0)\n",
            "Epoch 116/200 | Loss 1.8266 | Win/lose count 21.0/1.0 (20.0)\n",
            "Epoch 117/200 | Loss 0.0007 | Win/lose count 13.5/3.0 (10.5)\n",
            "Epoch 118/200 | Loss 0.0010 | Win/lose count 22.5/2.0 (20.5)\n",
            "Epoch 119/200 | Loss 0.0013 | Win/lose count 26.0/4.0 (22.0)\n",
            "Epoch 120/200 | Loss 0.0028 | Win/lose count 22.5/0 (22.5)\n",
            "Epoch 121/200 | Loss 0.0010 | Win/lose count 21.0/2.0 (19.0)\n",
            "Epoch 122/200 | Loss 0.0009 | Win/lose count 12.0/5.0 (7.0)\n",
            "Epoch 123/200 | Loss 0.0016 | Win/lose count 25.0/5.0 (20.0)\n",
            "Epoch 124/200 | Loss 0.0021 | Win/lose count 13.5/1.0 (12.5)\n",
            "Epoch 125/200 | Loss 0.0010 | Win/lose count 22.0/5.0 (17.0)\n",
            "Epoch 126/200 | Loss 0.0016 | Win/lose count 18.5/5.0 (13.5)\n",
            "Epoch 127/200 | Loss 0.0010 | Win/lose count 22.0/2.0 (20.0)\n",
            "Epoch 128/200 | Loss 0.0012 | Win/lose count 13.0/2.0 (11.0)\n",
            "Epoch 129/200 | Loss 0.0010 | Win/lose count 18.0/3.0 (15.0)\n",
            "Epoch 130/200 | Loss 0.0012 | Win/lose count 27.0/2.0 (25.0)\n",
            "Epoch 131/200 | Loss 0.0007 | Win/lose count 22.5/5.0 (17.5)\n",
            "Epoch 132/200 | Loss 0.0006 | Win/lose count 18.5/2.0 (16.5)\n",
            "Epoch 133/200 | Loss 0.0013 | Win/lose count 22.0/1.0 (21.0)\n",
            "Epoch 134/200 | Loss 0.0009 | Win/lose count 20.0/3.0 (17.0)\n",
            "Epoch 135/200 | Loss 0.0007 | Win/lose count 25.5/5.0 (20.5)\n",
            "Epoch 136/200 | Loss 0.0016 | Win/lose count 21.5/3.0 (18.5)\n",
            "Epoch 137/200 | Loss 0.0014 | Win/lose count 18.5/3.0 (15.5)\n",
            "Epoch 138/200 | Loss 0.0013 | Win/lose count 22.5/2.0 (20.5)\n",
            "Epoch 139/200 | Loss 0.0009 | Win/lose count 13.5/2.0 (11.5)\n",
            "Epoch 140/200 | Loss 0.0007 | Win/lose count 20.5/3.0 (17.5)\n",
            "Epoch 141/200 | Loss 0.0010 | Win/lose count 14.5/1.0 (13.5)\n",
            "Epoch 142/200 | Loss 0.0016 | Win/lose count 16.5/1.0 (15.5)\n",
            "Epoch 143/200 | Loss 0.0014 | Win/lose count 5.5/3.0 (2.5)\n",
            "Epoch 144/200 | Loss 0.0009 | Win/lose count 12.5/1.0 (11.5)\n",
            "Epoch 145/200 | Loss 0.0006 | Win/lose count 21.0/3.0 (18.0)\n",
            "Epoch 146/200 | Loss 0.0010 | Win/lose count 8.5/3.0 (5.5)\n",
            "Epoch 147/200 | Loss 0.0048 | Win/lose count 10.0/1.0 (9.0)\n",
            "Epoch 148/200 | Loss 0.0021 | Win/lose count 27.5/3.0 (24.5)\n",
            "Epoch 149/200 | Loss 0.0008 | Win/lose count 24.0/2.0 (22.0)\n",
            "Epoch 150/200 | Loss 0.0014 | Win/lose count 22.0/0 (22.0)\n",
            "Epoch 151/200 | Loss 0.0012 | Win/lose count 19.5/4.0 (15.5)\n",
            "Epoch 152/200 | Loss 0.0022 | Win/lose count 22.0/5.0 (17.0)\n",
            "Epoch 153/200 | Loss 0.0008 | Win/lose count 15.5/4.0 (11.5)\n",
            "Epoch 154/200 | Loss 0.0052 | Win/lose count 15.5/5.0 (10.5)\n",
            "Epoch 155/200 | Loss 0.0014 | Win/lose count 22.0/5.0 (17.0)\n",
            "Epoch 156/200 | Loss 0.0029 | Win/lose count 16.5/1.0 (15.5)\n",
            "Epoch 157/200 | Loss 0.0012 | Win/lose count 20.5/2.0 (18.5)\n",
            "Epoch 158/200 | Loss 0.0009 | Win/lose count 22.0/2.0 (20.0)\n",
            "Epoch 159/200 | Loss 0.0015 | Win/lose count 15.5/4.0 (11.5)\n",
            "Epoch 160/200 | Loss 0.0027 | Win/lose count 25.0/4.0 (21.0)\n",
            "Epoch 161/200 | Loss 0.0012 | Win/lose count 26.5/3.0 (23.5)\n",
            "Epoch 162/200 | Loss 0.0060 | Win/lose count 21.0/3.0 (18.0)\n",
            "Epoch 163/200 | Loss 0.0011 | Win/lose count 16.5/3.0 (13.5)\n",
            "Epoch 164/200 | Loss 0.0009 | Win/lose count 17.0/6.0 (11.0)\n",
            "Epoch 165/200 | Loss 0.0008 | Win/lose count 23.0/1.0 (22.0)\n",
            "Epoch 166/200 | Loss 0.0013 | Win/lose count 23.5/4.0 (19.5)\n",
            "Epoch 167/200 | Loss 0.0010 | Win/lose count 22.0/2.0 (20.0)\n",
            "Epoch 168/200 | Loss 0.0027 | Win/lose count 21.5/0 (21.5)\n",
            "Epoch 169/200 | Loss 0.0007 | Win/lose count 23.0/1.0 (22.0)\n",
            "Epoch 170/200 | Loss 0.0013 | Win/lose count 20.0/3.0 (17.0)\n",
            "Epoch 171/200 | Loss 0.0015 | Win/lose count 11.5/2.0 (9.5)\n",
            "Epoch 172/200 | Loss 1.7442 | Win/lose count 22.5/5.0 (17.5)\n",
            "Epoch 173/200 | Loss 0.0012 | Win/lose count 21.0/3.0 (18.0)\n",
            "Epoch 174/200 | Loss 0.0013 | Win/lose count 25.0/1.0 (24.0)\n",
            "Epoch 175/200 | Loss 0.0028 | Win/lose count 19.5/4.0 (15.5)\n",
            "Epoch 176/200 | Loss 0.0029 | Win/lose count 24.5/2.0 (22.5)\n",
            "Epoch 177/200 | Loss 0.0009 | Win/lose count 21.5/7.0 (14.5)\n",
            "Epoch 178/200 | Loss 0.0023 | Win/lose count 9.0/2.0 (7.0)\n",
            "Epoch 179/200 | Loss 0.0020 | Win/lose count 20.0/2.0 (18.0)\n",
            "Epoch 180/200 | Loss 0.0007 | Win/lose count 19.5/2.0 (17.5)\n",
            "Epoch 181/200 | Loss 0.0011 | Win/lose count 18.5/2.0 (16.5)\n",
            "Epoch 182/200 | Loss 0.0020 | Win/lose count 13.5/0 (13.5)\n",
            "Epoch 183/200 | Loss 0.0014 | Win/lose count 17.5/6.0 (11.5)\n",
            "Epoch 184/200 | Loss 0.0013 | Win/lose count 17.5/3.0 (14.5)\n",
            "Epoch 185/200 | Loss 0.0006 | Win/lose count 18.0/2.0 (16.0)\n",
            "Epoch 186/200 | Loss 0.0010 | Win/lose count 24.5/4.0 (20.5)\n",
            "Epoch 187/200 | Loss 0.0017 | Win/lose count 22.0/3.0 (19.0)\n",
            "Epoch 188/200 | Loss 0.0017 | Win/lose count 15.0/3.0 (12.0)\n",
            "Epoch 189/200 | Loss 0.0014 | Win/lose count 23.5/6.0 (17.5)\n",
            "Epoch 190/200 | Loss 0.0007 | Win/lose count 18.5/2.0 (16.5)\n",
            "Epoch 191/200 | Loss 0.0014 | Win/lose count 15.0/4.0 (11.0)\n",
            "Epoch 192/200 | Loss 0.0011 | Win/lose count 14.0/3.0 (11.0)\n",
            "Epoch 193/200 | Loss 0.0018 | Win/lose count 6.0/5.0 (1.0)\n",
            "Epoch 194/200 | Loss 0.0012 | Win/lose count 18.0/2.0 (16.0)\n",
            "Epoch 195/200 | Loss 0.0008 | Win/lose count 18.5/4.0 (14.5)\n",
            "Epoch 196/200 | Loss 0.0004 | Win/lose count 16.0/1.0 (15.0)\n",
            "Epoch 197/200 | Loss 0.0008 | Win/lose count 13.5/5.0 (8.5)\n",
            "Epoch 198/200 | Loss 0.0008 | Win/lose count 29.5/2.0 (27.5)\n",
            "Epoch 199/200 | Loss 0.0025 | Win/lose count 21.5/2.0 (19.5)\n"
          ],
          "name": "stdout"
        },
        {
          "output_type": "execute_result",
          "data": {
            "text/html": [
              "<video alt=\"test\" controls>\n",
              "                <source src=\"data:video/mp4;base64,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\" type=\"video/mp4\" />\n",
              "             </video>"
            ],
            "text/plain": [
              "<IPython.core.display.HTML object>"
            ]
          },
          "metadata": {
            "tags": []
          },
          "execution_count": 15
        }
      ]
    },
    {
      "cell_type": "markdown",
      "metadata": {
        "id": "fPBfI8i5IMyE",
        "colab_type": "text"
      },
      "source": [
        "***\n",
        "***\n",
        "__Question 9__ Test both algorithms and compare their performances. Which issue(s) do you observe? Observe also different behaviors by changing the temperature."
      ]
    },
    {
      "cell_type": "code",
      "metadata": {
        "id": "RA8Pj-4WIMyF",
        "colab_type": "code",
        "colab": {
          "base_uri": "https://localhost:8080/",
          "height": 1000
        },
        "outputId": "ae1ac527-a19e-4139-c754-0b1568bb3a76"
      },
      "source": [
        "env = Environment(grid_size=size, max_time=T,temperature=0.3)\n",
        "agent_cnn = DQN_CNN(size, lr=1, epsilon = 0.1, memory_size=2000, batch_size = 32)\n",
        "agent_cnn.load(name_weights='cnn_trainmodel.h5',name_model='cnn_trainmodel.json')\n",
        "\n",
        "agent_fc = DQN_FC(size, lr=1, epsilon = 0.1, memory_size=2000, batch_size = 32)\n",
        "agent_cnn.load(name_weights='fc_trainmodel.h5',name_model='fc_trainmodel.json')\n",
        "print('Test of the CNN')\n",
        "test(agent_cnn,env,epochs_test,prefix='cnn_test')\n",
        "print('Test of the FC')\n",
        "test(agent_fc,env,epochs_test,prefix='fc_test')"
      ],
      "execution_count": 55,
      "outputs": [
        {
          "output_type": "stream",
          "text": [
            "Model: \"sequential_20\"\n",
            "_________________________________________________________________\n",
            "Layer (type)                 Output Shape              Param #   \n",
            "=================================================================\n",
            "conv2d_31 (Conv2D)           (None, 5, 5, 32)          608       \n",
            "_________________________________________________________________\n",
            "conv2d_32 (Conv2D)           (None, 5, 5, 64)          18496     \n",
            "_________________________________________________________________\n",
            "flatten_20 (Flatten)         (None, 1600)              0         \n",
            "_________________________________________________________________\n",
            "dense_28 (Dense)             (None, 4)                 6404      \n",
            "=================================================================\n",
            "Total params: 25,508\n",
            "Trainable params: 25,508\n",
            "Non-trainable params: 0\n",
            "_________________________________________________________________\n",
            "Test of the CNN\n",
            "Win/lose count 8.0/0. Average score (8.0)\n",
            "Win/lose count 13.5/0. Average score (10.75)\n",
            "Win/lose count 8.5/0. Average score (10.0)\n",
            "Win/lose count 2.0/0. Average score (8.0)\n",
            "Win/lose count 5.0/0. Average score (7.4)\n",
            "Win/lose count 12.5/0. Average score (8.25)\n",
            "Win/lose count 2.5/0. Average score (7.428571428571429)\n",
            "Win/lose count 5.5/0. Average score (7.1875)\n",
            "Win/lose count 3.5/0. Average score (6.777777777777778)\n",
            "Win/lose count 12.0/0. Average score (7.3)\n",
            "Win/lose count 10.5/0. Average score (7.590909090909091)\n",
            "Win/lose count 1.0/0. Average score (7.041666666666667)\n",
            "Win/lose count 14.0/0. Average score (7.576923076923077)\n",
            "Win/lose count 9.0/0. Average score (7.678571428571429)\n",
            "Win/lose count 12.0/0. Average score (7.966666666666667)\n",
            "Win/lose count 10.0/0. Average score (8.09375)\n",
            "Win/lose count 0.5/0. Average score (7.647058823529412)\n",
            "Win/lose count 8.5/0. Average score (7.694444444444445)\n",
            "Win/lose count 4.5/0. Average score (7.526315789473684)\n",
            "Win/lose count 10.0/0. Average score (7.65)\n",
            "Final score: 7.65\n",
            "Test of the FC\n",
            "Win/lose count 2.5/2.0. Average score (0.5)\n",
            "Win/lose count 0/0. Average score (0.25)\n",
            "Win/lose count 0.5/0. Average score (0.3333333333333333)\n",
            "Win/lose count 0/1.0. Average score (0.0)\n",
            "Win/lose count 0.5/0. Average score (0.1)\n",
            "Win/lose count 1.0/4.0. Average score (-0.4166666666666667)\n",
            "Win/lose count 1.0/0. Average score (-0.21428571428571427)\n",
            "Win/lose count 0/1.0. Average score (-0.3125)\n",
            "Win/lose count 0.5/0. Average score (-0.2222222222222222)\n",
            "Win/lose count 1.0/0. Average score (-0.1)\n",
            "Win/lose count 1.5/0. Average score (0.045454545454545456)\n",
            "Win/lose count 0.5/1.0. Average score (0.0)\n",
            "Win/lose count 1.5/1.0. Average score (0.038461538461538464)\n",
            "Win/lose count 1.0/0. Average score (0.10714285714285714)\n",
            "Win/lose count 0.5/0. Average score (0.13333333333333333)\n",
            "Win/lose count 0/0. Average score (0.125)\n",
            "Win/lose count 0/1.0. Average score (0.058823529411764705)\n",
            "Win/lose count 1.0/0. Average score (0.1111111111111111)\n",
            "Win/lose count 0.5/4.0. Average score (-0.07894736842105263)\n",
            "Win/lose count 1.0/0. Average score (-0.025)\n",
            "Final score: -0.025\n"
          ],
          "name": "stdout"
        }
      ]
    },
    {
      "cell_type": "code",
      "metadata": {
        "id": "i8Xjq1DAIMyH",
        "colab_type": "code",
        "colab": {
          "base_uri": "https://localhost:8080/",
          "height": 171
        },
        "outputId": "1e96083e-fa77-4f06-9be5-d186d985d0de"
      },
      "source": [
        "HTML(display_videos('cnn_test10.mp4'))"
      ],
      "execution_count": 56,
      "outputs": [
        {
          "output_type": "execute_result",
          "data": {
            "text/html": [
              "<video alt=\"test\" controls>\n",
              "                <source src=\"data:video/mp4;base64,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\" type=\"video/mp4\" />\n",
              "             </video>"
            ],
            "text/plain": [
              "<IPython.core.display.HTML object>"
            ]
          },
          "metadata": {
            "tags": []
          },
          "execution_count": 56
        }
      ]
    },
    {
      "cell_type": "code",
      "metadata": {
        "id": "N-jU8EW7IMyJ",
        "colab_type": "code",
        "colab": {
          "base_uri": "https://localhost:8080/",
          "height": 171
        },
        "outputId": "19c94867-9062-4353-97f1-43c3ab795897"
      },
      "source": [
        "HTML(display_videos('fc_test10.mp4'))"
      ],
      "execution_count": 57,
      "outputs": [
        {
          "output_type": "execute_result",
          "data": {
            "text/html": [
              "<video alt=\"test\" controls>\n",
              "                <source src=\"data:video/mp4;base64,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\" type=\"video/mp4\" />\n",
              "             </video>"
            ],
            "text/plain": [
              "<IPython.core.display.HTML object>"
            ]
          },
          "metadata": {
            "tags": []
          },
          "execution_count": 57
        }
      ]
    },
    {
      "cell_type": "markdown",
      "metadata": {
        "id": "TpEPpvkGIMyL",
        "colab_type": "text"
      },
      "source": [
        "The CNN agent always performs better than the FC one. This is due to the grid-aspect of the input (images), well adapted to CNN which extract relevant features from this kind of input. When looking at the results of the CNN agent at each epoch, one can notice that it is really good at avoiding poisonous cells (lose = 0) and quite good at eating cheese (with varying performance). The FC agent is not really good at finding cheese but does not eat poison so much.\n",
        "\n",
        "When looking at the resulting videos, we observe that both algorithms often get stuck in cyclic movements, resulting in a null global movement. It often happens when there is no cheese close to the agents. In other words, there is not enough exploration. The exploitation though is quite good for the CNN agent.\n",
        "\n",
        "This lack of exploration is even more significant at lower temperature. Both agents struggle to eat anything in that case."
      ]
    },
    {
      "cell_type": "markdown",
      "metadata": {
        "id": "Qcvsyb7IIMyM",
        "colab_type": "text"
      },
      "source": [
        "***\n",
        "\n",
        "The algorithm tends to not explore the map which can be an issue. We propose two ideas in order to encourage exploration:\n",
        "1. Incorporating a decreasing $\\epsilon$-greedy exploration. You can use the method ```set_epsilon```\n",
        "2. Append via the environment a new state that describes if a cell has been visited or not\n",
        "\n",
        "***\n",
        "__Question 10__ Design a new ```train_explore``` function and environment class ```EnvironmentExploring``` to tackle the issue of exploration.\n",
        "\n"
      ]
    },
    {
      "cell_type": "code",
      "metadata": {
        "id": "oswCbESZIMyN",
        "colab_type": "code",
        "colab": {}
      },
      "source": [
        "def train_explore(agent,env,epoch,prefix='', factor = 0.99):\n",
        "    \n",
        "    # Number of won games\n",
        "    score = 0\n",
        "    loss = 0\n",
        "\n",
        "    for e in range(epoch):\n",
        "        # At each epoch, we restart to a fresh game and get the initial state\n",
        "        state = env.reset()\n",
        "        # This assumes that the games will terminate\n",
        "        game_over = False\n",
        "\n",
        "        win = 0\n",
        "        lose = 0\n",
        "\n",
        "        while not game_over:\n",
        "            # The agent performs an action\n",
        "            action = agent.act(state)\n",
        "\n",
        "            # Apply an action to the environment, get the next state, the reward\n",
        "            # and if the games end\n",
        "            prev_state = state\n",
        "            state, reward, game_over = env.act(action, train = True)\n",
        "\n",
        "            # Update the counters\n",
        "            if reward > 0:\n",
        "                win = win + reward\n",
        "            if reward < 0:\n",
        "                lose = lose -reward\n",
        "\n",
        "            # Apply the reinforcement strategy\n",
        "            loss = agent.reinforce(prev_state, state,  action, reward, game_over)\n",
        "        \n",
        "        # Decreasing epsilon-greedy exploration\n",
        "        agent.set_epsilon(agent.epsilon * factor)\n",
        "\n",
        "        # Save as a mp4\n",
        "        if e % 10 == 0:\n",
        "            env.draw(prefix+str(e))\n",
        "\n",
        "        # Update stats\n",
        "        score += win-lose\n",
        "\n",
        "        print(\"Epoch {:03d}/{:03d} | Loss {:.4f} | Win/lose count {:.1f}/{:.1f} ({:.2f})\"\n",
        "              .format(e, epoch, loss, win, lose, win-lose))\n",
        "        agent.save(name_weights=prefix+'model.h5',name_model=prefix+'model.json')\n",
        "        \n",
        "class EnvironmentExploring(object):\n",
        "    def __init__(self, grid_size=10, max_time=500, temperature=0.1):\n",
        "        grid_size = grid_size+4\n",
        "        self.grid_size = grid_size\n",
        "        self.max_time = max_time\n",
        "        self.temperature = temperature\n",
        "\n",
        "        #board on which one plays\n",
        "        self.board = np.zeros((grid_size,grid_size))\n",
        "        self.position = np.zeros((grid_size,grid_size))\n",
        "        self.malus_position = np.zeros((grid_size,grid_size))\n",
        "\n",
        "        # coordinate of the cat\n",
        "        self.x = 0\n",
        "        self.y = 1\n",
        "\n",
        "        # self time\n",
        "        self.t = 0\n",
        "\n",
        "        self.scale=16\n",
        "\n",
        "        self.to_draw = np.zeros((max_time+2, grid_size*self.scale, grid_size*self.scale, 3))\n",
        "\n",
        "\n",
        "    def draw(self,e):\n",
        "        skvideo.io.vwrite(str(e) + '.mp4', self.to_draw, outputdict={\"-pix_fmt\":\"yuv420p\"})\n",
        "\n",
        "    def get_frame(self,t):\n",
        "        b = np.zeros((self.grid_size,self.grid_size,3))+128\n",
        "        b[self.board>0,0] = 256\n",
        "        b[self.board < 0, 2] = 256\n",
        "        b[self.x,self.y,:]=256\n",
        "        b[-2:,:,:]=0\n",
        "        b[:,-2:,:]=0\n",
        "        b[:2,:,:]=0\n",
        "        b[:,:2,:]=0\n",
        "        \n",
        "        b =  cv2.resize(b, None, fx=self.scale, fy=self.scale, interpolation=cv2.INTER_NEAREST)\n",
        "\n",
        "        self.to_draw[t,:,:,:]=b\n",
        "\n",
        "\n",
        "    def act(self, action, train= False):\n",
        "        \"\"\"This function returns the new state, reward and decides if the\n",
        "        game ends.\"\"\"\n",
        "\n",
        "        self.get_frame(int(self.t))\n",
        "\n",
        "        self.position = np.zeros((self.grid_size, self.grid_size))\n",
        "\n",
        "        self.position[0:2,:]= -1\n",
        "        self.position[:,0:2] = -1\n",
        "        self.position[-2:, :] = -1\n",
        "        self.position[:, -2:] = -1\n",
        "\n",
        "        self.position[self.x, self.y] = 1\n",
        "        if action == 0:\n",
        "            if self.x == self.grid_size-3:\n",
        "                self.x = self.x-1\n",
        "            else:\n",
        "                self.x = self.x + 1\n",
        "        elif action == 1:\n",
        "            if self.x == 2:\n",
        "                self.x = self.x+1\n",
        "            else:\n",
        "                self.x = self.x-1\n",
        "        elif action == 2:\n",
        "            if self.y == self.grid_size - 3:\n",
        "                self.y = self.y - 1\n",
        "            else:\n",
        "                self.y = self.y + 1\n",
        "        elif action == 3:\n",
        "            if self.y == 2:\n",
        "                self.y = self.y + 1\n",
        "            else:\n",
        "                self.y = self.y - 1\n",
        "        else:\n",
        "            RuntimeError('Error: action not recognized')\n",
        "\n",
        "        # Incorporate malus of already visited position\n",
        "        reward = 0\n",
        "        if train:\n",
        "          reward = -self.malus_position[self.x, self.y] # No malus if newly visited\n",
        "        self.malus_position[self.x, self.y] = 0.2       # Future malus for current position\n",
        "                    # Tuned value for threshold between \n",
        "                    # 1. always move even if eating poison\n",
        "                    # 2. don't move and avoid poison\n",
        "\n",
        "        reward = reward + self.board[self.x, self.y]\n",
        "        \n",
        "        self.t = self.t + 1\n",
        "        self.board[self.x, self.y] = 0\n",
        "        game_over = self.t > self.max_time\n",
        "        \n",
        "        # 3 \"feature\" states instead of 2\n",
        "        state = np.concatenate((self.malus_position.reshape(self.grid_size, self.grid_size,1),\n",
        "                                self.board.reshape(self.grid_size, self.grid_size,1),\n",
        "                        self.position.reshape(self.grid_size, self.grid_size,1)),axis=2)\n",
        "        state = state[self.x-2:self.x+3,self.y-2:self.y+3,:]\n",
        "\n",
        "        return state, reward, game_over\n",
        "\n",
        "    def reset(self):\n",
        "        \"\"\"This function resets the game and returns the initial state\"\"\"\n",
        "\n",
        "        self.x = np.random.randint(3, self.grid_size-3, size=1)[0]\n",
        "        self.y = np.random.randint(3, self.grid_size-3, size=1)[0]\n",
        "\n",
        "\n",
        "        bonus = 0.5*np.random.binomial(1,self.temperature,size=self.grid_size**2)\n",
        "        bonus = bonus.reshape(self.grid_size,self.grid_size)\n",
        "\n",
        "        malus = -1.0*np.random.binomial(1,self.temperature,size=self.grid_size**2)\n",
        "        malus = malus.reshape(self.grid_size, self.grid_size)\n",
        "\n",
        "        self.to_draw = np.zeros((self.max_time+2, self.grid_size*self.scale, self.grid_size*self.scale, 3))\n",
        "\n",
        "\n",
        "        malus[bonus>0]=0\n",
        "\n",
        "        self.board = bonus + malus\n",
        "\n",
        "        self.position = np.zeros((self.grid_size, self.grid_size))\n",
        "        self.position[0:2,:]= -1\n",
        "        self.position[:,0:2] = -1\n",
        "        self.position[-2:, :] = -1\n",
        "        self.position[:, -2:] = -1\n",
        "        self.board[self.x,self.y] = 0\n",
        "        self.t = 0\n",
        "\n",
        "        # 3 \"feature\" states instead of 2\n",
        "        state = np.concatenate((self.malus_position.reshape(self.grid_size, self.grid_size,1),\n",
        "                                self.board.reshape(self.grid_size, self.grid_size,1),\n",
        "                        self.position.reshape(self.grid_size, self.grid_size,1)),axis=2)\n",
        "\n",
        "        state = state[self.x - 2:self.x + 3, self.y - 2:self.y + 3, :]\n",
        "        return state\n",
        "\n",
        "# You will have to change n_state to 3 because you will use one more layer!"
      ],
      "execution_count": 0,
      "outputs": []
    },
    {
      "cell_type": "code",
      "metadata": {
        "id": "zLVnWpAMIMyP",
        "colab_type": "code",
        "colab": {
          "base_uri": "https://localhost:8080/",
          "height": 1000
        },
        "outputId": "0955b3a2-587e-4f41-efac-3f6e2fd31dba"
      },
      "source": [
        "# Training\n",
        "env = EnvironmentExploring(grid_size=size, max_time=T, temperature=0.3)\n",
        "agent = DQN_CNN(size, lr=.1, epsilon = 0.35, memory_size=2000, batch_size = 32,n_state=3)\n",
        "train_explore(agent, env, 200, prefix='cnn_train_explore')\n",
        "HTML(display_videos('cnn_train_explore190.mp4'))"
      ],
      "execution_count": 45,
      "outputs": [
        {
          "output_type": "stream",
          "text": [
            "Model: \"sequential_17\"\n",
            "_________________________________________________________________\n",
            "Layer (type)                 Output Shape              Param #   \n",
            "=================================================================\n",
            "conv2d_27 (Conv2D)           (None, 5, 5, 32)          896       \n",
            "_________________________________________________________________\n",
            "conv2d_28 (Conv2D)           (None, 5, 5, 64)          18496     \n",
            "_________________________________________________________________\n",
            "flatten_17 (Flatten)         (None, 1600)              0         \n",
            "_________________________________________________________________\n",
            "dense_23 (Dense)             (None, 4)                 6404      \n",
            "=================================================================\n",
            "Total params: 25,796\n",
            "Trainable params: 25,796\n",
            "Non-trainable params: 0\n",
            "_________________________________________________________________\n",
            "Epoch 000/200 | Loss 0.0080 | Win/lose count 7.5/34.2 (-26.70)\n",
            "Epoch 001/200 | Loss 0.0087 | Win/lose count 17.2/35.6 (-18.40)\n",
            "Epoch 002/200 | Loss 0.0073 | Win/lose count 8.3/41.4 (-33.10)\n",
            "Epoch 003/200 | Loss 0.0051 | Win/lose count 12.1/36.0 (-23.90)\n",
            "Epoch 004/200 | Loss 0.0081 | Win/lose count 5.8/41.6 (-35.80)\n",
            "Epoch 005/200 | Loss 0.0110 | Win/lose count 5.3/40.8 (-35.50)\n",
            "Epoch 006/200 | Loss 0.0184 | Win/lose count 6.1/40.2 (-34.10)\n",
            "Epoch 007/200 | Loss 0.0136 | Win/lose count 5.7/41.4 (-35.70)\n",
            "Epoch 008/200 | Loss 0.0124 | Win/lose count 6.9/37.6 (-30.70)\n",
            "Epoch 009/200 | Loss 0.0216 | Win/lose count 10.8/44.6 (-33.80)\n",
            "Epoch 010/200 | Loss 0.0107 | Win/lose count 7.8/44.0 (-36.20)\n",
            "Epoch 011/200 | Loss 0.0394 | Win/lose count 12.3/35.0 (-22.70)\n",
            "Epoch 012/200 | Loss 0.0073 | Win/lose count 7.5/42.2 (-34.70)\n",
            "Epoch 013/200 | Loss 0.0065 | Win/lose count 11.1/44.8 (-33.70)\n",
            "Epoch 014/200 | Loss 0.0107 | Win/lose count 9.0/43.2 (-34.20)\n",
            "Epoch 015/200 | Loss 0.0186 | Win/lose count 10.5/42.2 (-31.70)\n",
            "Epoch 016/200 | Loss 0.0079 | Win/lose count 12.9/37.6 (-24.70)\n",
            "Epoch 017/200 | Loss 0.0084 | Win/lose count 12.9/38.6 (-25.70)\n",
            "Epoch 018/200 | Loss 0.0121 | Win/lose count 7.8/40.0 (-32.20)\n",
            "Epoch 019/200 | Loss 0.0073 | Win/lose count 11.7/40.4 (-28.70)\n",
            "Epoch 020/200 | Loss 0.0077 | Win/lose count 10.2/42.4 (-32.20)\n",
            "Epoch 021/200 | Loss 0.0067 | Win/lose count 13.5/44.2 (-30.70)\n",
            "Epoch 022/200 | Loss 0.0193 | Win/lose count 10.8/42.0 (-31.20)\n",
            "Epoch 023/200 | Loss 0.0072 | Win/lose count 13.8/42.0 (-28.20)\n",
            "Epoch 024/200 | Loss 0.0138 | Win/lose count 7.2/42.4 (-35.20)\n",
            "Epoch 025/200 | Loss 0.0197 | Win/lose count 10.2/49.4 (-39.20)\n",
            "Epoch 026/200 | Loss 0.0104 | Win/lose count 13.5/35.2 (-21.70)\n",
            "Epoch 027/200 | Loss 0.0281 | Win/lose count 9.9/44.6 (-34.70)\n",
            "Epoch 028/200 | Loss 0.0114 | Win/lose count 11.7/37.4 (-25.70)\n",
            "Epoch 029/200 | Loss 0.0043 | Win/lose count 8.1/41.8 (-33.70)\n",
            "Epoch 030/200 | Loss 0.0083 | Win/lose count 13.2/41.4 (-28.20)\n",
            "Epoch 031/200 | Loss 0.0071 | Win/lose count 7.5/44.2 (-36.70)\n",
            "Epoch 032/200 | Loss 0.0042 | Win/lose count 13.5/40.2 (-26.70)\n",
            "Epoch 033/200 | Loss 0.0096 | Win/lose count 10.2/42.4 (-32.20)\n",
            "Epoch 034/200 | Loss 0.0115 | Win/lose count 16.2/33.4 (-17.20)\n",
            "Epoch 035/200 | Loss 0.0101 | Win/lose count 14.4/39.6 (-25.20)\n",
            "Epoch 036/200 | Loss 0.0174 | Win/lose count 14.4/39.6 (-25.20)\n",
            "Epoch 037/200 | Loss 0.0125 | Win/lose count 12.3/36.0 (-23.70)\n",
            "Epoch 038/200 | Loss 0.0095 | Win/lose count 15.9/36.6 (-20.70)\n",
            "Epoch 039/200 | Loss 0.0100 | Win/lose count 13.8/42.0 (-28.20)\n",
            "Epoch 040/200 | Loss 0.0156 | Win/lose count 9.3/45.0 (-35.70)\n",
            "Epoch 041/200 | Loss 0.0133 | Win/lose count 15.0/38.2 (-23.20)\n",
            "Epoch 042/200 | Loss 0.0197 | Win/lose count 9.9/43.6 (-33.70)\n",
            "Epoch 043/200 | Loss 0.0196 | Win/lose count 12.0/44.2 (-32.20)\n",
            "Epoch 044/200 | Loss 0.0177 | Win/lose count 13.5/39.2 (-25.70)\n",
            "Epoch 045/200 | Loss 0.0195 | Win/lose count 12.3/45.0 (-32.70)\n",
            "Epoch 046/200 | Loss 0.0208 | Win/lose count 16.8/38.0 (-21.20)\n",
            "Epoch 047/200 | Loss 0.0354 | Win/lose count 11.4/39.6 (-28.20)\n",
            "Epoch 048/200 | Loss 0.0259 | Win/lose count 16.5/37.2 (-20.70)\n",
            "Epoch 049/200 | Loss 0.0165 | Win/lose count 10.8/42.0 (-31.20)\n",
            "Epoch 050/200 | Loss 0.0336 | Win/lose count 16.8/35.0 (-18.20)\n",
            "Epoch 051/200 | Loss 0.0296 | Win/lose count 10.5/42.2 (-31.70)\n",
            "Epoch 052/200 | Loss 0.0128 | Win/lose count 9.0/42.2 (-33.20)\n",
            "Epoch 053/200 | Loss 0.0185 | Win/lose count 13.2/39.4 (-26.20)\n",
            "Epoch 054/200 | Loss 0.0177 | Win/lose count 10.8/42.0 (-31.20)\n",
            "Epoch 055/200 | Loss 0.0087 | Win/lose count 12.9/42.6 (-29.70)\n",
            "Epoch 056/200 | Loss 0.0135 | Win/lose count 14.7/37.4 (-22.70)\n",
            "Epoch 057/200 | Loss 0.0108 | Win/lose count 12.0/40.2 (-28.20)\n",
            "Epoch 058/200 | Loss 0.0164 | Win/lose count 14.7/36.4 (-21.70)\n",
            "Epoch 059/200 | Loss 0.0118 | Win/lose count 10.5/41.2 (-30.70)\n",
            "Epoch 060/200 | Loss 0.0160 | Win/lose count 11.7/42.4 (-30.70)\n",
            "Epoch 061/200 | Loss 0.0168 | Win/lose count 13.2/39.4 (-26.20)\n",
            "Epoch 062/200 | Loss 0.0215 | Win/lose count 11.1/35.8 (-24.70)\n",
            "Epoch 063/200 | Loss 0.0127 | Win/lose count 14.1/43.8 (-29.70)\n",
            "Epoch 064/200 | Loss 0.0179 | Win/lose count 14.7/36.4 (-21.70)\n",
            "Epoch 065/200 | Loss 0.0145 | Win/lose count 15.9/42.6 (-26.70)\n",
            "Epoch 066/200 | Loss 0.0149 | Win/lose count 12.3/42.0 (-29.70)\n",
            "Epoch 067/200 | Loss 0.0159 | Win/lose count 14.7/42.4 (-27.70)\n",
            "Epoch 068/200 | Loss 0.0176 | Win/lose count 16.2/40.4 (-24.20)\n",
            "Epoch 069/200 | Loss 0.0119 | Win/lose count 6.6/37.8 (-31.20)\n",
            "Epoch 070/200 | Loss 0.0194 | Win/lose count 6.9/39.6 (-32.70)\n",
            "Epoch 071/200 | Loss 0.0160 | Win/lose count 14.4/41.6 (-27.20)\n",
            "Epoch 072/200 | Loss 0.0263 | Win/lose count 11.4/36.6 (-25.20)\n",
            "Epoch 073/200 | Loss 0.0125 | Win/lose count 12.0/40.2 (-28.20)\n",
            "Epoch 074/200 | Loss 0.0122 | Win/lose count 13.5/37.2 (-23.70)\n",
            "Epoch 075/200 | Loss 0.0152 | Win/lose count 15.3/38.0 (-22.70)\n",
            "Epoch 076/200 | Loss 0.0075 | Win/lose count 12.9/38.6 (-25.70)\n",
            "Epoch 077/200 | Loss 0.0138 | Win/lose count 14.4/40.6 (-26.20)\n",
            "Epoch 078/200 | Loss 0.0076 | Win/lose count 12.9/41.6 (-28.70)\n",
            "Epoch 079/200 | Loss 0.0095 | Win/lose count 13.2/35.4 (-22.20)\n",
            "Epoch 080/200 | Loss 0.0083 | Win/lose count 11.1/43.8 (-32.70)\n",
            "Epoch 081/200 | Loss 0.0060 | Win/lose count 12.3/41.0 (-28.70)\n",
            "Epoch 082/200 | Loss 0.0078 | Win/lose count 14.1/33.8 (-19.70)\n",
            "Epoch 083/200 | Loss 0.0117 | Win/lose count 15.6/40.8 (-25.20)\n",
            "Epoch 084/200 | Loss 0.0140 | Win/lose count 13.8/39.0 (-25.20)\n",
            "Epoch 085/200 | Loss 0.0067 | Win/lose count 14.1/38.8 (-24.70)\n",
            "Epoch 086/200 | Loss 0.0081 | Win/lose count 10.5/39.2 (-28.70)\n",
            "Epoch 087/200 | Loss 0.0134 | Win/lose count 11.7/39.4 (-27.70)\n",
            "Epoch 088/200 | Loss 0.0188 | Win/lose count 10.5/40.2 (-29.70)\n",
            "Epoch 089/200 | Loss 0.0066 | Win/lose count 9.9/36.6 (-26.70)\n",
            "Epoch 090/200 | Loss 0.0148 | Win/lose count 14.1/39.8 (-25.70)\n",
            "Epoch 091/200 | Loss 0.0139 | Win/lose count 12.0/41.2 (-29.20)\n",
            "Epoch 092/200 | Loss 0.0223 | Win/lose count 11.4/39.6 (-28.20)\n",
            "Epoch 093/200 | Loss 0.0101 | Win/lose count 12.9/40.6 (-27.70)\n",
            "Epoch 094/200 | Loss 0.0063 | Win/lose count 5.4/45.6 (-40.20)\n",
            "Epoch 095/200 | Loss 0.0049 | Win/lose count 12.9/41.6 (-28.70)\n",
            "Epoch 096/200 | Loss 0.0164 | Win/lose count 15.9/33.6 (-17.70)\n",
            "Epoch 097/200 | Loss 0.0074 | Win/lose count 15.6/35.8 (-20.20)\n",
            "Epoch 098/200 | Loss 0.0045 | Win/lose count 15.6/35.8 (-20.20)\n",
            "Epoch 099/200 | Loss 0.0146 | Win/lose count 15.3/37.0 (-21.70)\n",
            "Epoch 100/200 | Loss 0.0106 | Win/lose count 14.4/35.6 (-21.20)\n",
            "Epoch 101/200 | Loss 0.0088 | Win/lose count 14.7/38.4 (-23.70)\n",
            "Epoch 102/200 | Loss 0.0179 | Win/lose count 11.7/37.4 (-25.70)\n",
            "Epoch 103/200 | Loss 0.0102 | Win/lose count 16.5/37.2 (-20.70)\n",
            "Epoch 104/200 | Loss 0.0060 | Win/lose count 12.9/35.6 (-22.70)\n",
            "Epoch 105/200 | Loss 0.0168 | Win/lose count 11.1/38.8 (-27.70)\n",
            "Epoch 106/200 | Loss 0.0141 | Win/lose count 12.3/44.0 (-31.70)\n",
            "Epoch 107/200 | Loss 0.0161 | Win/lose count 13.5/37.2 (-23.70)\n",
            "Epoch 108/200 | Loss 0.0219 | Win/lose count 12.0/38.2 (-26.20)\n",
            "Epoch 109/200 | Loss 0.0163 | Win/lose count 15.0/40.2 (-25.20)\n",
            "Epoch 110/200 | Loss 0.0069 | Win/lose count 11.1/39.8 (-28.70)\n",
            "Epoch 111/200 | Loss 0.0118 | Win/lose count 13.2/40.4 (-27.20)\n",
            "Epoch 112/200 | Loss 0.0163 | Win/lose count 15.3/36.0 (-20.70)\n",
            "Epoch 113/200 | Loss 0.0112 | Win/lose count 17.7/29.4 (-11.70)\n",
            "Epoch 114/200 | Loss 0.0150 | Win/lose count 14.1/40.8 (-26.70)\n",
            "Epoch 115/200 | Loss 0.0112 | Win/lose count 10.5/39.2 (-28.70)\n",
            "Epoch 116/200 | Loss 0.0130 | Win/lose count 15.3/38.0 (-22.70)\n",
            "Epoch 117/200 | Loss 0.0076 | Win/lose count 16.8/36.0 (-19.20)\n",
            "Epoch 118/200 | Loss 0.0062 | Win/lose count 14.7/36.4 (-21.70)\n",
            "Epoch 119/200 | Loss 0.0216 | Win/lose count 12.9/39.6 (-26.70)\n",
            "Epoch 120/200 | Loss 0.0128 | Win/lose count 13.5/38.2 (-24.70)\n",
            "Epoch 121/200 | Loss 0.0126 | Win/lose count 10.2/40.4 (-30.20)\n",
            "Epoch 122/200 | Loss 0.0116 | Win/lose count 14.1/37.8 (-23.70)\n",
            "Epoch 123/200 | Loss 0.0074 | Win/lose count 9.6/41.8 (-32.20)\n",
            "Epoch 124/200 | Loss 0.0039 | Win/lose count 10.5/38.2 (-27.70)\n",
            "Epoch 125/200 | Loss 0.0075 | Win/lose count 9.3/35.0 (-25.70)\n",
            "Epoch 126/200 | Loss 0.0098 | Win/lose count 14.1/37.8 (-23.70)\n",
            "Epoch 127/200 | Loss 0.0123 | Win/lose count 13.5/34.2 (-20.70)\n",
            "Epoch 128/200 | Loss 0.0087 | Win/lose count 15.9/37.6 (-21.70)\n",
            "Epoch 129/200 | Loss 0.0199 | Win/lose count 16.2/34.4 (-18.20)\n",
            "Epoch 130/200 | Loss 0.0188 | Win/lose count 14.7/36.4 (-21.70)\n",
            "Epoch 131/200 | Loss 0.0053 | Win/lose count 13.8/43.0 (-29.20)\n",
            "Epoch 132/200 | Loss 0.0094 | Win/lose count 11.1/41.8 (-30.70)\n",
            "Epoch 133/200 | Loss 0.0165 | Win/lose count 13.2/42.4 (-29.20)\n",
            "Epoch 134/200 | Loss 0.0244 | Win/lose count 2.4/44.6 (-42.20)\n",
            "Epoch 135/200 | Loss 0.0078 | Win/lose count 15.6/33.8 (-18.20)\n",
            "Epoch 136/200 | Loss 0.0173 | Win/lose count 14.1/33.8 (-19.70)\n",
            "Epoch 137/200 | Loss 0.0092 | Win/lose count 14.4/41.6 (-27.20)\n",
            "Epoch 138/200 | Loss 0.0143 | Win/lose count 15.0/39.2 (-24.20)\n",
            "Epoch 139/200 | Loss 0.0042 | Win/lose count 10.2/38.4 (-28.20)\n",
            "Epoch 140/200 | Loss 0.0109 | Win/lose count 15.0/37.2 (-22.20)\n",
            "Epoch 141/200 | Loss 0.0101 | Win/lose count 14.7/34.4 (-19.70)\n",
            "Epoch 142/200 | Loss 0.0059 | Win/lose count 13.8/41.0 (-27.20)\n",
            "Epoch 143/200 | Loss 0.0156 | Win/lose count 15.0/39.2 (-24.20)\n",
            "Epoch 144/200 | Loss 0.0096 | Win/lose count 12.9/33.6 (-20.70)\n",
            "Epoch 145/200 | Loss 0.0153 | Win/lose count 14.4/38.6 (-24.20)\n",
            "Epoch 146/200 | Loss 0.0247 | Win/lose count 12.0/36.2 (-24.20)\n",
            "Epoch 147/200 | Loss 0.0142 | Win/lose count 9.3/44.0 (-34.70)\n",
            "Epoch 148/200 | Loss 0.0102 | Win/lose count 11.4/37.6 (-26.20)\n",
            "Epoch 149/200 | Loss 0.0099 | Win/lose count 12.9/40.6 (-27.70)\n",
            "Epoch 150/200 | Loss 0.0081 | Win/lose count 11.7/43.4 (-31.70)\n",
            "Epoch 151/200 | Loss 0.0055 | Win/lose count 8.4/41.6 (-33.20)\n",
            "Epoch 152/200 | Loss 0.0107 | Win/lose count 12.6/37.8 (-25.20)\n",
            "Epoch 153/200 | Loss 0.0083 | Win/lose count 7.5/40.2 (-32.70)\n",
            "Epoch 154/200 | Loss 0.0039 | Win/lose count 14.1/38.8 (-24.70)\n",
            "Epoch 155/200 | Loss 0.0089 | Win/lose count 10.2/38.4 (-28.20)\n",
            "Epoch 156/200 | Loss 0.0072 | Win/lose count 10.5/41.2 (-30.70)\n",
            "Epoch 157/200 | Loss 0.0068 | Win/lose count 18.6/38.8 (-20.20)\n",
            "Epoch 158/200 | Loss 0.0180 | Win/lose count 9.9/41.6 (-31.70)\n",
            "Epoch 159/200 | Loss 0.0046 | Win/lose count 14.1/37.8 (-23.70)\n",
            "Epoch 160/200 | Loss 0.0105 | Win/lose count 18.0/30.2 (-12.20)\n",
            "Epoch 161/200 | Loss 0.0070 | Win/lose count 12.0/38.2 (-26.20)\n",
            "Epoch 162/200 | Loss 0.0105 | Win/lose count 12.3/36.0 (-23.70)\n",
            "Epoch 163/200 | Loss 0.0121 | Win/lose count 18.0/33.2 (-15.20)\n",
            "Epoch 164/200 | Loss 0.0070 | Win/lose count 12.9/39.6 (-26.70)\n",
            "Epoch 165/200 | Loss 0.0162 | Win/lose count 14.1/38.8 (-24.70)\n",
            "Epoch 166/200 | Loss 0.0221 | Win/lose count 10.5/38.2 (-27.70)\n",
            "Epoch 167/200 | Loss 0.0154 | Win/lose count 15.3/36.0 (-20.70)\n",
            "Epoch 168/200 | Loss 0.0250 | Win/lose count 12.9/38.6 (-25.70)\n",
            "Epoch 169/200 | Loss 0.0144 | Win/lose count 14.1/39.8 (-25.70)\n",
            "Epoch 170/200 | Loss 0.0189 | Win/lose count 14.1/33.8 (-19.70)\n",
            "Epoch 171/200 | Loss 0.0169 | Win/lose count 13.5/39.2 (-25.70)\n",
            "Epoch 172/200 | Loss 0.0189 | Win/lose count 12.0/38.2 (-26.20)\n",
            "Epoch 173/200 | Loss 0.0170 | Win/lose count 14.7/38.4 (-23.70)\n",
            "Epoch 174/200 | Loss 0.0163 | Win/lose count 9.9/39.6 (-29.70)\n",
            "Epoch 175/200 | Loss 0.0172 | Win/lose count 13.8/34.0 (-20.20)\n",
            "Epoch 176/200 | Loss 0.0324 | Win/lose count 12.3/38.0 (-25.70)\n",
            "Epoch 177/200 | Loss 0.0110 | Win/lose count 12.3/38.0 (-25.70)\n",
            "Epoch 178/200 | Loss 0.0076 | Win/lose count 12.0/37.2 (-25.20)\n",
            "Epoch 179/200 | Loss 0.0075 | Win/lose count 9.6/44.8 (-35.20)\n",
            "Epoch 180/200 | Loss 0.0079 | Win/lose count 14.4/43.6 (-29.20)\n",
            "Epoch 181/200 | Loss 0.0275 | Win/lose count 16.8/44.0 (-27.20)\n",
            "Epoch 182/200 | Loss 0.0090 | Win/lose count 12.9/39.6 (-26.70)\n",
            "Epoch 183/200 | Loss 0.0073 | Win/lose count 12.3/35.0 (-22.70)\n",
            "Epoch 184/200 | Loss 0.0072 | Win/lose count 13.5/35.2 (-21.70)\n",
            "Epoch 185/200 | Loss 0.0089 | Win/lose count 12.9/38.6 (-25.70)\n",
            "Epoch 186/200 | Loss 0.0057 | Win/lose count 15.6/35.8 (-20.20)\n",
            "Epoch 187/200 | Loss 0.0087 | Win/lose count 13.8/41.0 (-27.20)\n",
            "Epoch 188/200 | Loss 0.0146 | Win/lose count 14.4/38.6 (-24.20)\n",
            "Epoch 189/200 | Loss 0.0121 | Win/lose count 2.7/39.4 (-36.70)\n",
            "Epoch 190/200 | Loss 0.0143 | Win/lose count 15.0/36.2 (-21.20)\n",
            "Epoch 191/200 | Loss 0.0066 | Win/lose count 13.5/38.2 (-24.70)\n",
            "Epoch 192/200 | Loss 0.0065 | Win/lose count 11.4/39.6 (-28.20)\n",
            "Epoch 193/200 | Loss 0.0290 | Win/lose count 13.2/36.4 (-23.20)\n",
            "Epoch 194/200 | Loss 0.0059 | Win/lose count 14.1/39.8 (-25.70)\n",
            "Epoch 195/200 | Loss 0.0151 | Win/lose count 13.8/34.0 (-20.20)\n",
            "Epoch 196/200 | Loss 0.0161 | Win/lose count 13.8/36.0 (-22.20)\n",
            "Epoch 197/200 | Loss 0.0064 | Win/lose count 16.2/34.4 (-18.20)\n",
            "Epoch 198/200 | Loss 0.0083 | Win/lose count 14.4/37.6 (-23.20)\n",
            "Epoch 199/200 | Loss 0.0258 | Win/lose count 17.1/32.8 (-15.70)\n"
          ],
          "name": "stdout"
        },
        {
          "output_type": "execute_result",
          "data": {
            "text/html": [
              "<video alt=\"test\" controls>\n",
              "                <source src=\"data:video/mp4;base64,AAAAIGZ0eXBpc29tAAACAGlzb21pc28yYXZjMW1wNDEAAAAIZnJlZQAAJAdtZGF0AAACrgYF//+q3EXpvebZSLeWLNgg2SPu73gyNjQgLSBjb3JlIDE1MiByMjg1NCBlOWE1OTAzIC0gSC4yNjQvTVBFRy00IEFWQyBjb2RlYyAtIENvcHlsZWZ0IDIwMDMtMjAxNyAtIGh0dHA6Ly93d3cudmlkZW9sYW4ub3JnL3gyNjQuaHRtbCAtIG9wdGlvbnM6IGNhYmFjPTEgcmVmPTMgZGVibG9jaz0xOjA6MCBhbmFseXNlPTB4MzoweDExMyBtZT1oZXggc3VibWU9NyBwc3k9MSBwc3lfcmQ9MS4wMDowLjAwIG1peGVkX3JlZj0xIG1lX3JhbmdlPTE2IGNocm9tYV9tZT0xIHRyZWxsaXM9MSA4eDhkY3Q9MSBjcW09MCBkZWFkem9uZT0yMSwxMSBmYXN0X3Bza2lwPTEgY2hyb21hX3FwX29mZnNldD0tMiB0aHJlYWRzPTMgbG9va2FoZWFkX3RocmVhZHM9MSBzbGljZWRfdGhyZWFkcz0wIG5yPTAgZGVjaW1hdGU9MSBpbnRlcmxhY2VkPTAgYmx1cmF5X2NvbXBhdD0wIGNvbnN0cmFpbmVkX2ludHJhPTAgYmZyYW1lcz0zIGJfcHlyYW1pZD0yIGJfYWRhcHQ9MSBiX2JpYXM9MCBkaXJlY3Q9MSB3ZWlnaHRiPTEgb3Blbl9nb3A9MCB3ZWlnaHRwPTIga2V5aW50PTI1MCBrZXlpbnRfbWluPTI1IHNjZW5lY3V0PTQwIGludHJhX3JlZnJlc2g9MCByY19sb29rYWhlYWQ9NDAgcmM9Y3JmIG1idHJlZT0xIGNyZj0yMy4wIHFjb21wPTAuNjAgcXBtaW49MCBxcG1heD02OSBxcHN0ZXA9NCBpcF9yYXRpbz0xLjQwIGFxPTE6MS4wMACAAAAGSWWIhAA3//728P4FNlYEUJcRzeidMx+/Fbi6NDe9zhsiiLCBRAJISPkgG49lihRGX8LT/anYFgjxu5bD0pthCMYyODtRoMppcCL7d+FPUOFapo7BMPmbUxMGgsY9n4iSxOlzuarFL8Mkaj6/B6HmBXQpcyHNugo0sB/RCSnWrWACg56WOGFlQBeL/iakpes+F1o8coTAAbdtfvtK0wY4rNgc5RbqwLmxdNhT6+64vr1PiEV7/Rypt0YTZAnjGc/2SOK01ejBJFW1BDp56CDVCBQm/qLjkc63ipyTHfvhYq59ucBXXTLU2RdnN76p9OnzfNmslwIPPdltT+zWg8WovvM5ypuNDsA2e56DaWVsVesQtZKX1M3aPnebMqiLV3Cia8UJ/3jFNzXu8XH9nr1xow7Wo4BQFTK0nFiYbH4SK/gatZGWDJKlq848nasQlAH1Sk4EvVZ0zHAuKIyh/uYpWIxoZx2ASftYGrC6evU70ww40D/kBB5x///9a//C/7w79qC03S3zuxhq6NKp33TdTZ9nCG3usQGmBa6cn+d6nRl2E8zlpLviw30wnSf9rZk9Po5tRWvJTv8C/oisJXgPyywy5i/UvBTLzZgcSSAirP6q6VthTq8puzjVH3T1GoQv9/KvHZS+wdYufc10JSIir2BF7GDEZrBQ8RlsF/Mng6iKJMS60l4tVwFMkW4DD542FQMpbCpusnaLlEKYVgKD15G674KQO+I/Xb0GWiArb6wnIHvMKr+JHTWB46yQtUtUJgkDfa/d6Tgetl/r1omk6EFyIufYm5r5dE3+v+jmO7WR1j+b4k4kMZDl0/gODWH1EndA5NA1sZPBmMgreFTfChoxNk1OhqUZZatJg2mrIZ3e/fJSk/HcE5JXcB6LYbYyYw6NtAleyPtnACVsUGF4LR0Ec/n3z3WzJ93iuy+wh5yNwkexG+D9zg/mmu+scZDRZxnwjIGgIyLKskS9/jQYL5EYV9ys1wABxxve+z/NAtxl3l5hg6oRCPxu+YpBQ5b9qZLRmLeyQpU05JU37AXA/CgDMTraM+r1l/QrviiitI4YE0+NlTnA+jzqd1SD4+TnlYJMhfmAlfmWNf5pvQ6wgHP2xv+ztHWeUDUNgq+WpCI5o1cCNvSYcK9ERo4Tx+e15/d7WlBssnzgD/lehWl7qpY8YMu0sg3uTsNx1b2WiOpP8DynUiw+jkBitsbJdG2l1za9rThQNxXleePIBLrt6lgXA9NnCSPhCbdV2Z4swjlcdGKaJnn45oNFuk6MuQ2FdCQuOrpAdouqC6QMidlKX4LCTOgfYI4Yo7QimBJL6C01YbgcgbNzWRJLmbjiHH8sO1hdoXQ7cEy4ZoX6SrAX/3IdVGsRWKleEE/+vGxlhwElyyafeJSJEMEBJSAPSU+Kvbfxfq42VZgvN547re5+zOJgsZrzxgspyyNuZnD2ciQqr2hAUJvumQVAWUQ4+H9eeNSbwwg4Pg//5ufzeYfQzDfDE8o3RnAaCYguPYpogXvn1bsbGGL8gFnLePrdPaTVZxxOmz2JH+sDmZcj6kPM5yffuG39pETXX6zin6EXDMjdst7wEcG2H2CTnVgM11KNybephLEEfQaKftwRfgn+dZbAWdVgC464LWPCtDvKPEOUn+ftKybi2blVZlGEij8VuzvXv7hhV9wyiA1DqdSodLP7yJVsp4BRpjPu4z5Exxzwj/kKFycgDKlBDXrzM/hntbRcTRqs5utUryPSdiY2epS3nrimf6pZOGJL0n2TAev0Yq906VxnwE4Z1QMxDFHxSI6lRK2ZT01fj8d3UQBG8wv/vzajOySLJ5UnK3ewUJEiXqKEUWpE8Gju2o33lbPkOGzusF34FQAp/gzu6kDeQuQLqd79fQ2B13ZPO7rp9ShtVgmdUhsDmtEtHDeWtAZ5tymy2qad7njw4cP4B+GJ/mpou6Wmfx8uXUzvK57kiH6TR8k6UtZksVegtfnKBGdrsWLDJ5z3k/w5Xu0Zn7XJfA5gB7jwsZzlvcVzfPC+lQe1G7T5+T6Ry+9dCfWjVvua3//5wZv0cyH6XqjYwBSrAWlekzvqG8P1waK0SRcGN+i1kdEqGeVp365fQOG23s9u8FNE9Xg8B7GX6uwoEMaSka7Gv8BOiCjU+MkAAAA/QZohbEN//qeEATRN8QmGBmjQNIzM7B/+R0KWBBd5HK8pmuK0PeflTfN7M5rYFgm7/p5PhPxAp8yGtUq9otKAAAAAS0GaQjwhkymEO//+qZYBE+6Li31UMrxlpkJCqF20WINjlRRg3dXjb4099POajSdsMtQEKV/Eh3vw+CBWMi/az9fobZdPakzmZ8Qo4QAAAFFBmmVJ4Q8mUwId//6plgLS+iU5NiTPYg8fwGw3pq7IPg2MXpKf/hKaNO6S/qMHpiSdFh29XL7N2dg3epD+Dt1TT1Bjy4n2CDHPeL71KXUv6EAAAAAcQZ6DRRE8K/8BUbAnMnDdYTggp2zIK382+p8riQAAABMBnqRqQr8BUbAA4cBAAkHodighAAAAYEGaqUmoQWiZTAhv//6nhAYoQPfzhSCXy2z/7vElZSTzBj+3Iqi5ws3DNF9eYRDz4jHRYYW+5lkX+YgcUwoUo+9wuy1JkpcdE+JNwj3mmzC+uTa6sDNuoFJvNPrRcevIsQAAAB1BnsdFESwv/wD+j59FikaFPBfcgK3w2BCcVBXR6QAAABABnuZ0Qr8BY8hON3IgEmjAAAAAEAGe6GpCvwFsja7HP7t9Z6wAAABBQZrsSahBbJlMCG///qeFLKjKsIVgChG8cyycXF1DCqHltZS2aBHmdt8kh6fkm8xHASHAxD0NsNmtGYJDKqaYicEAAAAZQZ8KRRUsK/8CXskrIAoOFEkExRITWMZblQAAABkBnytqQr8F/I2cQU0bo6abnnbVM5BvZHtoAAAAT0GbMEmoQWyZTAhv//6nhaN4TjLxBSE0EuCkYkXG1RM27sLSBWm/iuKg+jW9ZNBb/54Z9GuxTGw5Gd403MurCow4rUWm77Ef3EKCBGOe4E0AAABAQZ9ORRUsL/8B4USYeCBOGwX//EEd3HO6TG/bRVPGLUNm/3G0aXDx2fdou7NdlH8H72kwIqlFXrmf7Tfubwjw8QAAAB0Bn210Qr8HJQ3IbGPZPhdqIQDrKM8SqttoylzhYQAAABABn29qQr8CkEePkSGuANuAAAAAI0GbckmoQWyZTBRMM//+nhAIp4sTBs+bOkbEs7fqEqmH80ygAAAAFwGfkWpCvwF/ID6oyzu/GqoV0NWW3JKxAAAAIEGbk0nhClJlMCG//qeEASX5GwTgtp67Nv4oEb/zhf4OAAAAKEGbtUnhDomUwU0TDf/+p4QBHfkbHlFCHC8x7ZihAS2PnEP3j2WkORAAAAAfAZ/UakK/AOgVeFkh+0Ri9apRbVM3dh3qEEzD+tU8wQAAADVBm9dJ4Q8mUwU8M//+nhACxe7+NDk5Bt1n+Of1IwA3rnlqaKhQPJL9RU5e0NXPTCHN2UMSwAAAABoBn/ZqQr8AkzOgbo1Vrtag87zFtqBifPs4KwAAABpBm/hJ4Q8mUwIb//6nhABLvghKR5qnNFJg/wAAAENBmhpJ4Q8mUwURPDf//qeEAE1KoJhMpBL5baEs8pSrz7U9K20vvqlMDhiMVLh+TJa6Fo2wchGcq9VsdzGujoMNpIGWAAAAGQGeOWpCvwAo8bXeeBJeEbVyF3edcVVLUTEAAAA+QZo8SeEPJlMFPDf//qeEAB/fUZpwnjCgV8mGeE4evmhMbhsDJzEaLhU7zPazDRKrvK9apBuglLz1amZ0E1wAAAAZAZ5bakK/ABpiF9uv8UCXJpu4v7V33MI8gQAAAENBml5J4Q8mUwU8M//+nhAAdz3omv6DOW+KQZcEjiITs0UcAtr3qS2Z6qXC981G6srcB74QiJF5HaSO5kf2JIhDJemBAAAAFQGefWpCvwAQWQyNiywBmDUIDI05cAAAACBBmn9J4Q8mUwIb//6nhAAQ0riOrY5Ltngj3taFQnojgAAAAEdBmoFJ4Q8mUwURPDf//qeEAC1avTeE4GXV3puHTbu1s2GTYWakPoZdCtCkYtF1aleFVchWsU8LCkj8mEk+LGwIHHGe3iuv0QAAABkBnqBqQr8ABsCF9uv4pf6D5zZWlcnTYH6wAAAAPUGaoknhDyZTAhv//qeEAAueqAqUpSW2airjRdANoWJ3am8jopOBv9JtsxaL/PF01Li2s3AefBr8SeIIjoEAAABPQZrGSeEPJlMCGf/+nhAAHc/o/wfgUz2GOLmiAa+0Cv+hzRltVh0IdUeTNCzeoZQ18j1K1xf2SeHPJinsKVu3abbdcQczOeqWxDrJ1NmyGAAAABRBnuRFETwv/wAElna3q7QegTM6cQAAABgBnwN0Qr8ABkpNYDxBqpH6QsWVUMO2Xz0AAAAYAZ8FakK/AAZKxdQHiDVSJUB7GsOlcoDpAAAAJUGbB0moQWiZTAhn//6eEAAufBjlZxCD6a+UwJHEQlFsraSUkiMAAABBQZspSeEKUmUwURLDP/6eEABuXIoXXCuERiuHrjn/qV55SL0/+c/I18Ap0vKX21WNDAh+mN155H3Jf4B8Be/kjMAAAAAXAZ9IakK/AA7XOGwKJQ8EcEmntIEK54AAAAA0QZtKSeEOiZTAhn/+nhAARb+6RCavlEUBI54OWyLE72XMs+p42G2Ly8s4MqiuXzBSGGSdgQAAAClBm2tJ4Q8mUwIZ//6eEACke79+4xzrOiLvq9WA+cYyro5eIHemRtdJjgAAABhBm4xJ4Q8mUwIb//6nhAAbl1aQbI2RsiwAAAAuQZutSeEPJlMCG//+p4QAG5tQu8uQxGC1DCqHltZXqY1FInwsY0ojJMa9LhP+gQAAAClBm89J4Q8mUwURPDf//qeEABHSpjtopBqVT/x1vcy5485PQy7wVKJCYQAAABwBn+5qQr8ADoV+vIKY0DbnStSAXX/Q6+ySyhWvAAAAIkGb8EnhDyZTAh3//qmWAAkPyNNDgoHz9RUT8EDIVKf/0pwAAAA3QZoUSeEPJlMCG//+p4QAGlhRZVtE2FmpD5++E9r0hBdAuUF8pNVO61N2QW5UAGb/TSsldWN2wAAAACpBnjJFETwv/wAKgytyO0mN+2ip2SeqZ+7TY7UtwISFI9x4nlCjUCyRvMEAAAAQAZ5RdEK/AA4m/OKWvI1q0AAAABgBnlNqQr8ADjFXgRUb9DOJzQiySlyOONwAAAAuQZpYSahBaJlMCG///qeEAAfsaaGaSzsJ7VZnjNJyEy4Ddr95zLKttP+HI8A4gQAAACpBnnZFESwv/wAEVna3X/0WLvmSer3y2hdYvUjHs8KQ4LFvsR9xgM/tp+AAAAAcAZ6VdEK/AAX3+7xujEgMiTQIIpdL1vCNTZFlWQAAABABnpdqQr8AA/iuDTQHAIB5AAAAKEGamUmoQWyZTAhv//6nhAAH7Gmhma9/OBhlADHgtFB9/kP7vonJMu4AAAAjQZq9SeEKUmUwIZ/+nhAAMT7KGrzLLPnxF+9UFeyzoW0cVvEAAAAiQZ7bRTRML/8AB20xaUqd/QyJcsLBZL4V2XP/YGyUm9fqvAAAABUBnvp0Qr8ABDfE24NULKqKPlyORnEAAAAWAZ78akK/AAo9iiS1nTk+G0B+xvWIgQAAABlBmv5JqEFomUwIb//+p4QAE1QBZuWUBXvfAAAALkGbAEnhClJlMFESw3/+p4QAHPB4muMsQDvlTWxaj2MtveCLLgW2Duk6Tbu8OekAAAAWAZ8/akK/ABfnTqoo3JECEJyJ6qF0wQAAACNBmyFJ4Q6JlMCG//6nhABFvghKOM/PcgKkVx9QBOFIbLRiCAAAACFBm0VJ4Q8mUwIb//6nhABDvkbHvoLHNUh5mpt0cTzQpz8AAAAcQZ9jRRE8L/8AGwC/+OTcg0d/qNUUWv1L4MN0WAAAAB8Bn4J0Qr8AN2IbkNjHsnxqkEOEi6cLa1tBNLJFRenBAAAAEAGfhGpCvwAYhz/ZLH5732EAAAApQZuHSahBaJlMFPDf/qeEAC+urVMfsxu8zSFHHPrWT40ohIAP/RebDuEAAAAVAZ+makK/ACa677LG5wceRPVXJMnFAAAAL0GbqUnhClJlMFLDP/6eEAG5kNrer3ACz2cULN6QmjPrJo5jsPqsjS+BzRw3aEWAAAAAHQGfyGpCvwBdLIsB4g1UiVAfHNSQdWBlhBxnpOXDAAAAN0GbyknhDomUwIb//qeEAHG/uFniKguIV/cohkuhEGUN8E/lkpIipVCD0kf/Ad0YHMzo5jjWwIEAAAA2QZvsSeEPJlMFFTwz//6eEAPyU7W9a9bZQQVwqFA8kwTYSsCmFAKyA+XvzjmoA/M3NnYemfUwAAAAFwGeC2pCvwDXuwJLWhcEUuxLlf80Ol6QAAAAGUGaDUnhDyZTAhv//qeEAcFxn+vPgzvQsCEAAAAdQZouSeEPJlMCG//+p4QFj0T9nMPrbHJadQJ7mLEAAAAkQZpRSeEPJlMCGf/+nhGJo1XapTw5dYUO4mvp5FuFbZ04DOOBAAAAGUGeb0URPCv/BRbxpK0CCKXYP25uk7Bqvs4AAAAVAZ6QakK/Ah5C7nX+KA/WdBIfi+PaAAAAGUGakkmoQWiZTAhv//6nhAHG7KiRBQkbk/0AAAAYQZqzSeEKUmUwIb/+p4QBBFB7vLkD+itgAAAAJEGa1UnhDomUwU0TDv/+qZYAVwJ1+SWMWm1fBFUN1/O7lNEsGAAAABABnvRqQr8Aiskq1stD6YQHAAAAMEGa+UnhDyZTAhv//qeEAL77RZqqCP44UrZElxzLKHHnUMIQqNM27pEftTkl2HmjgAAAAB1BnxdFETwv/wBJc4eMsuNpYmFG/zfLaHKLR5s/hwAAABgBnzZ0Qr8AYiN6jfUmq6EGXNy0St4yW48AAAAVAZ84akK/AGSStiYn7wZg49F8SGdJAAAAREGbPUmoQWiZTAhn//6eEAE29/HH0vehxXAvA5ETUVk0eb/DAhzx//xBzD0C+KDWW01h+eeDQClIw66ed/PT4vvinI11AAAAG0GfW0URLC//AC/BpdD26ZWdL2t82ew9yKeAgAAAABgBn3p0Qr8AP3wG8l27ibu3VQyXNy0TvJ8AAAAQAZ98akK/ABxWRXCLV9i4oQAAADFBm35JqEFsmUwIb//+p4QAIqrAssaBNrhtjkt3Gd2h7J9HSBa9sbUjF4K/y8mbzY84AAAAJUGbn0nhClJlMCG//qeEACKlhxAw2+p98BuQI874LFAjf+cIdUAAAABFQZuiSeEOiZTAhn/+nhAAVjCS42poLwOREvp5din2RSCCzC6tBYfbFbaZEnMgBymRi5Kzha/MTzTiiYRYktCXnz8zGz5NAAAAH0GfwEURPCv/AAvxMsDuu7iRfOlKiMAjsdgYL2G8tbAAAAAWAZ/hakK/AAujUq1stD+EhMYOXIijmwAAABlBm+NJqEFomUwIb//+p4QACXfBCUcaEjtlAAAALkGaBUnhClJlMFESwz/+nhAAF/9RWhS2zg/ojbcNcZmE6lJCw4fEXNlXksZaJWkAAAAcAZ4kakK/AAT5qBbr+KlmNlFtUziRwo5R5oPtkwAAACJBmiZJ4Q6JlMCG//6nhAADyp2fusz1VnX3u47Lo+n5gxRhAAAAIEGaR0nhDyZTAhv//qeEAAO57Jv+Hjpi9+DhrTHsZjR5AAAAMUGaa0nhDyZTAhv//qeEAAhnLtE8F+xRAg26E2G7c274IAK/iH1AHNCiXLFq7VzcBIAAAAAdQZ6JRRE8L/8AA2CmQ+V2tQH23cMQD0yfjSS5UZAAAAAXAZ6odEK/AAL8k5QHrqJ7DhSr1vkmejkAAAAWAZ6qakK/AASXp13ngRGMdAtf3pvHGAAAACZBmq1JqEFomUwU8N/+p4QACGlXpfuhKQarS21x+QTXGz7DRm7/5gAAABABnsxqQr8ABugWNOn59e9xAAAAIEGazknhClJlMCG//qeEAAzdIn+w9BxAzjkuo7gQUrF3AAAAJkGa8EnhDomUwU0TDf/+p4QAFGxWqY/ZhTysf/kbsjwKdf/RebTNAAAAEwGfD2pCvwAQXXPZMZUH+QsHi0AAAAAyQZsSSeEPJlMFPDf//qeEAC56obhd7KoMfH4pwOLGTaTpu2zdb6zZV9FE6b+E80YF3zAAAAAQAZ8xakK/ABpnS/PZp52bsQAAACRBmzRJ4Q8mUwU8N//+p4QAMO6tmJ+zG7d/DPC20iteRgs1fVQAAAAWAZ9TakK/ACj4Ou88CFQSQFljds9JgAAAACJBm1VJ4Q8mUwId//6plgAYq5B3JpGTNtBU32N1VqOEmRNhAAAAEUGbeUnhDyZTAhv//qeEAAEnAAAAGkGfl0URPC//ABxYjKmFH0WVXkxLYs2ES7WBAAAAFQGftnRCvwAmrm5S8DQIVBJAjinpxQAAABUBn7hqQr8AJrrvssbnBx5E9VckycQAAAAZQZu9SahBaJlMCG///qeEAC/+t6rq3wdo4QAAABBBn9tFESwv/wAcVMebfI6UAAAADwGf+nRCvwAn1o7t/T2VwQAAABUBn/xqQr8AJrIZGxucHHkT1V3B6cUAAAAZQZv/SahBbJlMFEw3//6nhAAvtqGXWppvbgAAABUBnh5qQr8AJrrvssbnBx5E9VckycQAAAAjQZoBSeEKUmUwUsM//p4QASUQ5VuCp3KZly3whRaP7NJJzFkAAAAQAZ4gakK/ADzMp48NVXSCwAAAABhBmiJJ4Q6JlMCG//6nhABzzjP9fR6JDjkAAAAYQZpDSeEPJlMCG//+p4QAtPon+vo9EhJwAAAAG0GaZUnhDyZTBRE8N//+p4QB7DD+Co8N7KaM/wAAABABnoRqQr8BY6//PZtwSLZRAAAAGEGaiEnhDyZTAhn//p4QB2+x4Jpx8HaUEQAAABJBnqZFETwr/wIzDS7QlQBGJ2EAAAAOAZ7HakK/AjJC90mlkTsAAAAZQZrJSahBaJlMCG///qeEARX5GwTgt0l+LgAAACVBmutJ4QpSZTBREsN//qeEALX7wo5Trwo1tPXX+8Eo//FewOxZAAAAEAGfCmpCvwCSyQLdffcjy2gAAAAfQZsMSeEOiZTAhv/+p4QAcRPFpooSKihRq6zb6YWJlQAAABpBmzBJ4Q8mUwIb//6nhABz2La3Sv++Ro4O4QAAABxBn05FETwv/wBFc6VMnd8iHzETITGIfoXaWDmBAAAAEAGfbXRCvwA7XA3jdGI1RW8AAAAQAZ9vakK/AF+dL89m3BI8kAAAABlBm3FJqEFomUwIb//+p4QAc9PFpooQSApgAAAAG0Gbk0nhClJlMFESw3/+p4QAS1QfLra1Tv9dMQAAABABn7JqQr8APMBthDLziQWAAAAAEUGbt0nhDomUwIb//qeEAAEnAAAAGkGf1UUVPC//ABxYjKmFH0WVXkubiuRBAKzbAAAAEAGf9HRCvwAmrm5S7fCJDiAAAAAQAZ/2akK/ACa677LFlPaHEQAAACRBm/lJqEFomUwU8M/+nhABJRDlW4KndJNacjXTmobS7VnbU+EAAAAQAZ4YakK/ADzMp48NVXSCwAAAABhBmhpJ4QpSZTAhv/6nhABzzjP9fR6JDjkAAAAYQZo7SeEOiZTAhv/+p4QAtPon+vo9EhJwAAAAG0GaXUnhDyZTBRE8N//+p4QB7DD+Co8N7KaM/wAAABABnnxqQr8BY6//PZtwSLZRAAAAGEGaYEnhDyZTAhv//qeEAfHpRj8NCRsj0gAAABJBnp5FETwr/wIzDS7QlQBGJ2AAAAAOAZ6/akK/AjJC90mlkTsAAAAaQZqhSahBaJlMCHf//qmWAIz8js7pCmLfi4AAAAAiQZrFSeEKUmUwIb/+p4QAtfvCjyCtUyDrG7d/DPC20iVriQAAABxBnuNFNEwv/wBsA15wILcj92sISUDbCXvkcUKAAAAAEAGfAnRCvwCSuiCVfgXgMLEAAAAVAZ8EakK/AGIc/2S+MAqD8jjWLJN7AAAAGEGbB0moQWiZTBTw3/6nhAC1CGc0/HId+QAAABABnyZqQr8AlrzRFqTfowbRAAAAG0GbKUnhClJlMFLDv/6plgD5JJgPBlh8AyTvIAAAABABn0hqQr8BY6//PZtwSLZQAAAAGkGbTUnhDomUwIb//qeEBib4UazccLpRn4HdAAAAEEGfa0UVPC//AZU7S3HRjAgAAAAQAZ+KdEK/AjHhDTx7xEQMqAAAAA8Bn4xqQr8CH2GbPs2/pGEAAAAdQZuRSahBaJlMCGf//p4QFs4yWUMSTznTYlZyccEAAAAQQZ+vRREsL/8BlZ0icMDFJQAAAA8Bn850Qr8CHpGXqs2/pGAAAAAQAZ/QakK/Ah5C7nX33IuMqAAAABlBm9JJqEFsmUwIb//+p4QBxuyokQUJG5P9AAAAGEGb80nhClJlMCG//qeEAQRQe7y5A/orYAAAACFBmhVJ4Q6JlMFNEw3//qeEAKwChmlHg+iGIBzD2Wly8wYAAAAQAZ40akK/AIrJKtbLQ+mEBwAAACVBmjdJ4Q8mUwU8N//+p4QAdz+j7q/MsqdoFTCjjn1q7nXx1x03AAAAFwGeVmpCvwBiHP9kvqRJlFtUzc+PHd7BAAAAJEGaWUnhDyZTBTw3//6nhAC04rZifpzTuKW9xtSqXYVA/ghswQAAABABnnhqQr8AlrzRFqTfowbQAAAAGkGae0nhDyZTBTw3//6nhAHsMP4Kjw3spoz/AAAAEAGemmpCvwFjr/89m3BItlAAAAAbQZqdSeEPJlMFPDf//qeEBib4UazccLpRn4HdAAAAEAGevGpCvwIyCxp0/C6IGVEAAAAbQZq/SeEPJlMFPDP//p4QFj1ZSvs502Jz9puAAAAAEAGe3mpCvwIeQH1RlKbroOAAAAAYQZrASeEPJlMCG//+p4QBxuyokQUJG5P9AAAAGEGa4UnhDyZTAhv//qeEAQRQe7y5A/orYAAAACRBmwNJ4Q8mUwURPDf//qeEAKwChmlHg+iGICBoMf/kcxS8wYEAAAAWAZ8iakK/AIrJKtbLQ/hIP/buJqm7gAAAABxBmydJ4Q8mUwIZ//6eEAG5pWm/qADgU2BsBv71AAAAHEGfRUURPC//AEdj59FivRUW5N8tocpuq/XGuCEAAAAXAZ9kdEK/AGIjWWI8JEmgQRS6QuWSb2EAAAAQAZ9makK/AGSStiYn7t9e/QAAABtBm2lLqEIQWiRGCCgH8gH9h4BTwr/+OEAAEXAAAAAmAZ+IakK/Aq9dyoxjE68dPvNrntTFshOxrI1p7LmwJECIx8T0rfQAAAvybW9vdgAAAGxtdmhkAAAAAAAAAAAAAAAAAAAD6AAAH5AAAQAAAQAAAAAAAAAAAAAAAAEAAAAAAAAAAAAAAAAAAAABAAAAAAAAAAAAAAAAAABAAAAAAAAAAAAAAAAAAAAAAAAAAAAAAAAAAAAAAAAAAgAACxx0cmFrAAAAXHRraGQAAAADAAAAAAAAAAAAAAABAAAAAAAAH5AAAAAAAAAAAAAAAAAAAAAAAAEAAAAAAAAAAAAAAAAAAAABAAAAAAAAAAAAAAAAAABAAAAAARAAAAEQAAAAAAAkZWR0cwAAABxlbHN0AAAAAAAAAAEAAB+QAAAEAAABAAAAAAqUbWRpYQAAACBtZGhkAAAAAAAAAAAAAAAAAAAyAAABlABVxAAAAAAALWhkbHIAAAAAAAAAAHZpZGUAAAAAAAAAAAAAAABWaWRlb0hhbmRsZXIAAAAKP21pbmYAAAAUdm1oZAAAAAEAAAAAAAAAAAAAACRkaW5mAAAAHGRyZWYAAAAAAAAAAQAAAAx1cmwgAAAAAQAACf9zdGJsAAAAl3N0c2QAAAAAAAAAAQAAAIdhdmMxAAAAAAAAAAEAAAAAAAAAAAAAAAAAAAAAARABEABIAAAASAAAAAAAAAABAAAAAAAAAAAAAAAAAAAAAAAAAAAAAAAAAAAAAAAAAAAAGP//AAAAMWF2Y0MBZAAN/+EAGGdkAA2s2UEQjoQAAAMABAAAAwDIPFCmWAEABmjr48siwAAAABhzdHRzAAAAAAAAAAEAAADKAAACAAAAABRzdHNzAAAAAAAAAAEAAAABAAAFyGN0dHMAAAAAAAAAtwAAAAMAAAQAAAAAAQAACAAAAAACAAACAAAAAAEAAAoAAAAAAQAABAAAAAABAAAAAAAAAAEAAAIAAAAAAQAACAAAAAACAAACAAAAAAEAAAoAAAAAAQAABAAAAAABAAAAAAAAAAEAAAIAAAAAAQAABgAAAAABAAACAAAAAAEAAAQAAAAAAQAABgAAAAABAAACAAAAAAEAAAYAAAAAAQAAAgAAAAABAAAEAAAAAAEAAAYAAAAAAQAAAgAAAAABAAAGAAAAAAEAAAIAAAAAAQAABgAAAAABAAACAAAAAAEAAAQAAAAAAQAABgAAAAABAAACAAAAAAEAAAQAAAAAAQAACgAAAAABAAAEAAAAAAEAAAAAAAAAAQAAAgAAAAABAAAEAAAAAAEAAAYAAAAAAQAAAgAAAAAEAAAEAAAAAAEAAAYAAAAAAQAAAgAAAAABAAAEAAAAAAEAAAoAAAAAAQAABAAAAAABAAAAAAAAAAEAAAIAAAAAAQAACgAAAAABAAAEAAAAAAEAAAAAAAAAAQAAAgAAAAABAAAEAAAAAAEAAAoAAAAAAQAABAAAAAABAAAAAAAAAAEAAAIAAAAAAQAABAAAAAABAAAGAAAAAAEAAAIAAAAAAQAABAAAAAABAAAKAAAAAAEAAAQAAAAAAQAAAAAAAAABAAACAAAAAAEAAAYAAAAAAQAAAgAAAAABAAAGAAAAAAEAAAIAAAAAAQAABAAAAAABAAAGAAAAAAEAAAIAAAAAAgAABAAAAAABAAAIAAAAAAIAAAIAAAAAAgAABAAAAAABAAAGAAAAAAEAAAIAAAAAAQAACgAAAAABAAAEAAAAAAEAAAAAAAAAAQAAAgAAAAABAAAKAAAAAAEAAAQAAAAAAQAAAAAAAAABAAACAAAAAAIAAAQAAAAAAQAACAAAAAACAAACAAAAAAEAAAQAAAAAAQAABgAAAAABAAACAAAAAAIAAAQAAAAAAQAACgAAAAABAAAEAAAAAAEAAAAAAAAAAQAAAgAAAAABAAAGAAAAAAEAAAIAAAAAAQAABAAAAAABAAAGAAAAAAEAAAIAAAAAAQAABgAAAAABAAACAAAAAAEAAAYAAAAAAQAAAgAAAAABAAAEAAAAAAEAAAoAAAAAAQAABAAAAAABAAAAAAAAAAEAAAIAAAAAAQAACgAAAAABAAAEAAAAAAEAAAAAAAAAAQAAAgAAAAABAAAGAAAAAAEAAAIAAAAAAQAABgAAAAABAAACAAAAAAIAAAQAAAAAAQAABgAAAAABAAACAAAAAAEAAAgAAAAAAgAAAgAAAAABAAAEAAAAAAEAAAYAAAAAAQAAAgAAAAABAAAEAAAAAAEAAAoAAAAAAQAABAAAAAABAAAAAAAAAAEAAAIAAAAAAQAABAAAAAABAAAGAAAAAAEAAAIAAAAAAQAACgAAAAABAAAEAAAAAAEAAAAAAAAAAQAAAgAAAAABAAAGAAAAAAEAAAIAAAAAAgAABAAAAAABAAAGAAAAAAEAAAIAAAAAAQAACAAAAAACAAACAAAAAAEAAAQAAAAAAQAACgAAAAABAAAEAAAAAAEAAAAAAAAAAQAAAgAAAAABAAAGAAAAAAEAAAIAAAAAAQAABgAAAAABAAACAAAAAAEAAAoAAAAAAQAABAAAAAABAAAAAAAAAAEAAAIAAAAAAQAACgAAAAABAAAEAAAAAAEAAAAAAAAAAQAAAgAAAAACAAAEAAAAAAEAAAYAAAAAAQAAAgAAAAABAAAGAAAAAAEAAAIAAAAAAQAABgAAAAABAAACAAAAAAEAAAYAAAAAAQAAAgAAAAABAAAGAAAAAAEAAAIAAAAAAQAABgAAAAABAAACAAAAAAIAAAQAAAAAAQAABgAAAAABAAACAAAAAAEAAAoAAAAAAQAABAAAAAABAAAAAAAAAAEAAAIAAAAAAQAABgAAAAABAAACAAAAABxzdHNjAAAAAAAAAAEAAAABAAAAygAAAAEAAAM8c3RzegAAAAAAAAAAAAAAygAACP8AAABDAAAATwAAAFUAAAAgAAAAFwAAAGQAAAAhAAAAFAAAABQAAABFAAAAHQAAAB0AAABTAAAARAAAACEAAAAUAAAAJwAAABsAAAAkAAAALAAAACMAAAA5AAAAHgAAAB4AAABHAAAAHQAAAEIAAAAdAAAARwAAABkAAAAkAAAASwAAAB0AAABBAAAAUwAAABgAAAAcAAAAHAAAACkAAABFAAAAGwAAADgAAAAtAAAAHAAAADIAAAAtAAAAIAAAACYAAAA7AAAALgAAABQAAAAcAAAAMgAAAC4AAAAgAAAAFAAAACwAAAAnAAAAJgAAABkAAAAaAAAAHQAAADIAAAAaAAAAJwAAACUAAAAgAAAAIwAAABQAAAAtAAAAGQAAADMAAAAhAAAAOwAAADoAAAAbAAAAHQAAACEAAAAoAAAAHQAAABkAAAAdAAAAHAAAACgAAAAUAAAANAAAACEAAAAcAAAAGQAAAEgAAAAfAAAAHAAAABQAAAA1AAAAKQAAAEkAAAAjAAAAGgAAAB0AAAAyAAAAIAAAACYAAAAkAAAANQAAACEAAAAbAAAAGgAAACoAAAAUAAAAJAAAACoAAAAXAAAANgAAABQAAAAoAAAAGgAAACYAAAAVAAAAHgAAABkAAAAZAAAAHQAAABQAAAATAAAAGQAAAB0AAAAZAAAAJwAAABQAAAAcAAAAHAAAAB8AAAAUAAAAHAAAABYAAAASAAAAHQAAACkAAAAUAAAAIwAAAB4AAAAgAAAAFAAAABQAAAAdAAAAHwAAABQAAAAVAAAAHgAAABQAAAAUAAAAKAAAABQAAAAcAAAAHAAAAB8AAAAUAAAAHAAAABYAAAASAAAAHgAAACYAAAAgAAAAFAAAABkAAAAcAAAAFAAAAB8AAAAUAAAAHgAAABQAAAAUAAAAEwAAACEAAAAUAAAAEwAAABQAAAAdAAAAHAAAACUAAAAUAAAAKQAAABsAAAAoAAAAFAAAAB4AAAAUAAAAHwAAABQAAAAfAAAAFAAAABwAAAAcAAAAKAAAABoAAAAgAAAAIAAAABsAAAAUAAAAHwAAACoAAAAUc3RjbwAAAAAAAAABAAAAMAAAAGJ1ZHRhAAAAWm1ldGEAAAAAAAAAIWhkbHIAAAAAAAAAAG1kaXJhcHBsAAAAAAAAAAAAAAAALWlsc3QAAAAlqXRvbwAAAB1kYXRhAAAAAQAAAABMYXZmNTcuODMuMTAw\" type=\"video/mp4\" />\n",
              "             </video>"
            ],
            "text/plain": [
              "<IPython.core.display.HTML object>"
            ]
          },
          "metadata": {
            "tags": []
          },
          "execution_count": 45
        }
      ]
    },
    {
      "cell_type": "code",
      "metadata": {
        "id": "exwEa7UYIMyQ",
        "colab_type": "code",
        "colab": {
          "base_uri": "https://localhost:8080/",
          "height": 528
        },
        "outputId": "f6d7c451-13e1-4d98-ccf7-a5ca6340922e"
      },
      "source": [
        "# Evaluation\n",
        "test(agent,env,epochs_test,prefix='cnn_test_explore')\n",
        "HTML(display_videos('cnn_test_explore10.mp4'))"
      ],
      "execution_count": 52,
      "outputs": [
        {
          "output_type": "stream",
          "text": [
            "Win/lose count 23.5/6.0. Average score (17.5)\n",
            "Win/lose count 16.5/7.0. Average score (13.5)\n",
            "Win/lose count 21.5/7.0. Average score (13.833333333333334)\n",
            "Win/lose count 18.0/3.0. Average score (14.125)\n",
            "Win/lose count 21.5/7.0. Average score (14.2)\n",
            "Win/lose count 17.0/4.0. Average score (14.0)\n",
            "Win/lose count 21.0/6.0. Average score (14.142857142857142)\n",
            "Win/lose count 23.0/5.0. Average score (14.625)\n",
            "Win/lose count 4.5/2.0. Average score (13.277777777777779)\n",
            "Win/lose count 23.5/2.0. Average score (14.1)\n",
            "Win/lose count 12.5/4.0. Average score (13.590909090909092)\n",
            "Win/lose count 23.5/6.0. Average score (13.916666666666666)\n",
            "Win/lose count 17.0/1.0. Average score (14.076923076923077)\n",
            "Win/lose count 15.0/5.0. Average score (13.785714285714286)\n",
            "Win/lose count 19.5/8.0. Average score (13.633333333333333)\n",
            "Win/lose count 11.5/1.0. Average score (13.4375)\n",
            "Win/lose count 16.5/6.0. Average score (13.264705882352942)\n",
            "Win/lose count 14.5/4.0. Average score (13.11111111111111)\n",
            "Win/lose count 22.0/6.0. Average score (13.263157894736842)\n",
            "Win/lose count 18.0/8.0. Average score (13.1)\n",
            "Final score: 13.1\n"
          ],
          "name": "stdout"
        },
        {
          "output_type": "execute_result",
          "data": {
            "text/html": [
              "<video alt=\"test\" controls>\n",
              "                <source src=\"data:video/mp4;base64,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\" type=\"video/mp4\" />\n",
              "             </video>"
            ],
            "text/plain": [
              "<IPython.core.display.HTML object>"
            ]
          },
          "metadata": {
            "tags": []
          },
          "execution_count": 52
        }
      ]
    },
    {
      "cell_type": "markdown",
      "metadata": {
        "id": "3ZxpWn1eIMyS",
        "colab_type": "text"
      },
      "source": [
        "***\n",
        "***\n",
        "__BONUS question__ Use the expert DQN from the previous question to generate some winning games. Train a model that mimicks its behavior. Compare the performances."
      ]
    },
    {
      "cell_type": "markdown",
      "metadata": {
        "id": "ibHsc83DIMyT",
        "colab_type": "text"
      },
      "source": [
        ""
      ]
    },
    {
      "cell_type": "markdown",
      "metadata": {
        "id": "L4DkAA97IMyT",
        "colab_type": "text"
      },
      "source": [
        "***"
      ]
    }
  ]
}